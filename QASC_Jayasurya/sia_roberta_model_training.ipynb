{
  "nbformat": 4,
  "nbformat_minor": 0,
  "metadata": {
    "accelerator": "GPU",
    "colab": {
      "name": "sia_roberta_model_training.ipynb",
      "provenance": [],
      "collapsed_sections": [],
      "toc_visible": true,
      "machine_shape": "hm"
    },
    "kernelspec": {
      "display_name": "Python 3",
      "name": "python3"
    },
    "widgets": {
      "application/vnd.jupyter.widget-state+json": {
        "051ce60a0f91494eafb747104feafeaf": {
          "model_module": "@jupyter-widgets/controls",
          "model_name": "HBoxModel",
          "state": {
            "_view_name": "HBoxView",
            "_dom_classes": [],
            "_model_name": "HBoxModel",
            "_view_module": "@jupyter-widgets/controls",
            "_model_module_version": "1.5.0",
            "_view_count": null,
            "_view_module_version": "1.5.0",
            "box_style": "",
            "layout": "IPY_MODEL_2d0948d6bfbf438cb27e64d0fef11f6e",
            "_model_module": "@jupyter-widgets/controls",
            "children": [
              "IPY_MODEL_3fa972f88bcb465389619aafbeaddff0",
              "IPY_MODEL_8d854744dc9a4dbea4a7899c94d33000"
            ]
          }
        },
        "2d0948d6bfbf438cb27e64d0fef11f6e": {
          "model_module": "@jupyter-widgets/base",
          "model_name": "LayoutModel",
          "state": {
            "_view_name": "LayoutView",
            "grid_template_rows": null,
            "right": null,
            "justify_content": null,
            "_view_module": "@jupyter-widgets/base",
            "overflow": null,
            "_model_module_version": "1.2.0",
            "_view_count": null,
            "flex_flow": null,
            "width": null,
            "min_width": null,
            "border": null,
            "align_items": null,
            "bottom": null,
            "_model_module": "@jupyter-widgets/base",
            "top": null,
            "grid_column": null,
            "overflow_y": null,
            "overflow_x": null,
            "grid_auto_flow": null,
            "grid_area": null,
            "grid_template_columns": null,
            "flex": null,
            "_model_name": "LayoutModel",
            "justify_items": null,
            "grid_row": null,
            "max_height": null,
            "align_content": null,
            "visibility": null,
            "align_self": null,
            "height": null,
            "min_height": null,
            "padding": null,
            "grid_auto_rows": null,
            "grid_gap": null,
            "max_width": null,
            "order": null,
            "_view_module_version": "1.2.0",
            "grid_template_areas": null,
            "object_position": null,
            "object_fit": null,
            "grid_auto_columns": null,
            "margin": null,
            "display": null,
            "left": null
          }
        },
        "3fa972f88bcb465389619aafbeaddff0": {
          "model_module": "@jupyter-widgets/controls",
          "model_name": "FloatProgressModel",
          "state": {
            "_view_name": "ProgressView",
            "style": "IPY_MODEL_cc6ef5e6aea74dd396120a282ce98629",
            "_dom_classes": [],
            "description": "Downloading: 100%",
            "_model_name": "FloatProgressModel",
            "bar_style": "success",
            "max": 898823,
            "_view_module": "@jupyter-widgets/controls",
            "_model_module_version": "1.5.0",
            "value": 898823,
            "_view_count": null,
            "_view_module_version": "1.5.0",
            "orientation": "horizontal",
            "min": 0,
            "description_tooltip": null,
            "_model_module": "@jupyter-widgets/controls",
            "layout": "IPY_MODEL_ff32880313c64a2b8706ef4fb49c779b"
          }
        },
        "8d854744dc9a4dbea4a7899c94d33000": {
          "model_module": "@jupyter-widgets/controls",
          "model_name": "HTMLModel",
          "state": {
            "_view_name": "HTMLView",
            "style": "IPY_MODEL_ab875e9d87814384ac24bed1dc2f6cd2",
            "_dom_classes": [],
            "description": "",
            "_model_name": "HTMLModel",
            "placeholder": "​",
            "_view_module": "@jupyter-widgets/controls",
            "_model_module_version": "1.5.0",
            "value": " 899k/899k [00:01&lt;00:00, 713kB/s]",
            "_view_count": null,
            "_view_module_version": "1.5.0",
            "description_tooltip": null,
            "_model_module": "@jupyter-widgets/controls",
            "layout": "IPY_MODEL_9322d3aa709846b1a516cccade82db75"
          }
        },
        "cc6ef5e6aea74dd396120a282ce98629": {
          "model_module": "@jupyter-widgets/controls",
          "model_name": "ProgressStyleModel",
          "state": {
            "_view_name": "StyleView",
            "_model_name": "ProgressStyleModel",
            "description_width": "initial",
            "_view_module": "@jupyter-widgets/base",
            "_model_module_version": "1.5.0",
            "_view_count": null,
            "_view_module_version": "1.2.0",
            "bar_color": null,
            "_model_module": "@jupyter-widgets/controls"
          }
        },
        "ff32880313c64a2b8706ef4fb49c779b": {
          "model_module": "@jupyter-widgets/base",
          "model_name": "LayoutModel",
          "state": {
            "_view_name": "LayoutView",
            "grid_template_rows": null,
            "right": null,
            "justify_content": null,
            "_view_module": "@jupyter-widgets/base",
            "overflow": null,
            "_model_module_version": "1.2.0",
            "_view_count": null,
            "flex_flow": null,
            "width": null,
            "min_width": null,
            "border": null,
            "align_items": null,
            "bottom": null,
            "_model_module": "@jupyter-widgets/base",
            "top": null,
            "grid_column": null,
            "overflow_y": null,
            "overflow_x": null,
            "grid_auto_flow": null,
            "grid_area": null,
            "grid_template_columns": null,
            "flex": null,
            "_model_name": "LayoutModel",
            "justify_items": null,
            "grid_row": null,
            "max_height": null,
            "align_content": null,
            "visibility": null,
            "align_self": null,
            "height": null,
            "min_height": null,
            "padding": null,
            "grid_auto_rows": null,
            "grid_gap": null,
            "max_width": null,
            "order": null,
            "_view_module_version": "1.2.0",
            "grid_template_areas": null,
            "object_position": null,
            "object_fit": null,
            "grid_auto_columns": null,
            "margin": null,
            "display": null,
            "left": null
          }
        },
        "ab875e9d87814384ac24bed1dc2f6cd2": {
          "model_module": "@jupyter-widgets/controls",
          "model_name": "DescriptionStyleModel",
          "state": {
            "_view_name": "StyleView",
            "_model_name": "DescriptionStyleModel",
            "description_width": "",
            "_view_module": "@jupyter-widgets/base",
            "_model_module_version": "1.5.0",
            "_view_count": null,
            "_view_module_version": "1.2.0",
            "_model_module": "@jupyter-widgets/controls"
          }
        },
        "9322d3aa709846b1a516cccade82db75": {
          "model_module": "@jupyter-widgets/base",
          "model_name": "LayoutModel",
          "state": {
            "_view_name": "LayoutView",
            "grid_template_rows": null,
            "right": null,
            "justify_content": null,
            "_view_module": "@jupyter-widgets/base",
            "overflow": null,
            "_model_module_version": "1.2.0",
            "_view_count": null,
            "flex_flow": null,
            "width": null,
            "min_width": null,
            "border": null,
            "align_items": null,
            "bottom": null,
            "_model_module": "@jupyter-widgets/base",
            "top": null,
            "grid_column": null,
            "overflow_y": null,
            "overflow_x": null,
            "grid_auto_flow": null,
            "grid_area": null,
            "grid_template_columns": null,
            "flex": null,
            "_model_name": "LayoutModel",
            "justify_items": null,
            "grid_row": null,
            "max_height": null,
            "align_content": null,
            "visibility": null,
            "align_self": null,
            "height": null,
            "min_height": null,
            "padding": null,
            "grid_auto_rows": null,
            "grid_gap": null,
            "max_width": null,
            "order": null,
            "_view_module_version": "1.2.0",
            "grid_template_areas": null,
            "object_position": null,
            "object_fit": null,
            "grid_auto_columns": null,
            "margin": null,
            "display": null,
            "left": null
          }
        },
        "96811de5a6c848cd9b27b3674fd92475": {
          "model_module": "@jupyter-widgets/controls",
          "model_name": "HBoxModel",
          "state": {
            "_view_name": "HBoxView",
            "_dom_classes": [],
            "_model_name": "HBoxModel",
            "_view_module": "@jupyter-widgets/controls",
            "_model_module_version": "1.5.0",
            "_view_count": null,
            "_view_module_version": "1.5.0",
            "box_style": "",
            "layout": "IPY_MODEL_11d3a67f9e344bd58efca6f14869490d",
            "_model_module": "@jupyter-widgets/controls",
            "children": [
              "IPY_MODEL_6d2a9f31c3d24c1c8458b2e6aa211571",
              "IPY_MODEL_f06df6b2fb084f7d94dd91cc78540a28"
            ]
          }
        },
        "11d3a67f9e344bd58efca6f14869490d": {
          "model_module": "@jupyter-widgets/base",
          "model_name": "LayoutModel",
          "state": {
            "_view_name": "LayoutView",
            "grid_template_rows": null,
            "right": null,
            "justify_content": null,
            "_view_module": "@jupyter-widgets/base",
            "overflow": null,
            "_model_module_version": "1.2.0",
            "_view_count": null,
            "flex_flow": null,
            "width": null,
            "min_width": null,
            "border": null,
            "align_items": null,
            "bottom": null,
            "_model_module": "@jupyter-widgets/base",
            "top": null,
            "grid_column": null,
            "overflow_y": null,
            "overflow_x": null,
            "grid_auto_flow": null,
            "grid_area": null,
            "grid_template_columns": null,
            "flex": null,
            "_model_name": "LayoutModel",
            "justify_items": null,
            "grid_row": null,
            "max_height": null,
            "align_content": null,
            "visibility": null,
            "align_self": null,
            "height": null,
            "min_height": null,
            "padding": null,
            "grid_auto_rows": null,
            "grid_gap": null,
            "max_width": null,
            "order": null,
            "_view_module_version": "1.2.0",
            "grid_template_areas": null,
            "object_position": null,
            "object_fit": null,
            "grid_auto_columns": null,
            "margin": null,
            "display": null,
            "left": null
          }
        },
        "6d2a9f31c3d24c1c8458b2e6aa211571": {
          "model_module": "@jupyter-widgets/controls",
          "model_name": "FloatProgressModel",
          "state": {
            "_view_name": "ProgressView",
            "style": "IPY_MODEL_4172fd80588f4dbf938fda743fb9b3b4",
            "_dom_classes": [],
            "description": "Downloading: 100%",
            "_model_name": "FloatProgressModel",
            "bar_style": "success",
            "max": 456318,
            "_view_module": "@jupyter-widgets/controls",
            "_model_module_version": "1.5.0",
            "value": 456318,
            "_view_count": null,
            "_view_module_version": "1.5.0",
            "orientation": "horizontal",
            "min": 0,
            "description_tooltip": null,
            "_model_module": "@jupyter-widgets/controls",
            "layout": "IPY_MODEL_d07a0bcf9ec2482e8f5f2fecb74e291e"
          }
        },
        "f06df6b2fb084f7d94dd91cc78540a28": {
          "model_module": "@jupyter-widgets/controls",
          "model_name": "HTMLModel",
          "state": {
            "_view_name": "HTMLView",
            "style": "IPY_MODEL_8c007414a40545138a31e8110444618c",
            "_dom_classes": [],
            "description": "",
            "_model_name": "HTMLModel",
            "placeholder": "​",
            "_view_module": "@jupyter-widgets/controls",
            "_model_module_version": "1.5.0",
            "value": " 456k/456k [00:00&lt;00:00, 1.24MB/s]",
            "_view_count": null,
            "_view_module_version": "1.5.0",
            "description_tooltip": null,
            "_model_module": "@jupyter-widgets/controls",
            "layout": "IPY_MODEL_d81e7a2b97334a2ca4f8f2a9c1a166fa"
          }
        },
        "4172fd80588f4dbf938fda743fb9b3b4": {
          "model_module": "@jupyter-widgets/controls",
          "model_name": "ProgressStyleModel",
          "state": {
            "_view_name": "StyleView",
            "_model_name": "ProgressStyleModel",
            "description_width": "initial",
            "_view_module": "@jupyter-widgets/base",
            "_model_module_version": "1.5.0",
            "_view_count": null,
            "_view_module_version": "1.2.0",
            "bar_color": null,
            "_model_module": "@jupyter-widgets/controls"
          }
        },
        "d07a0bcf9ec2482e8f5f2fecb74e291e": {
          "model_module": "@jupyter-widgets/base",
          "model_name": "LayoutModel",
          "state": {
            "_view_name": "LayoutView",
            "grid_template_rows": null,
            "right": null,
            "justify_content": null,
            "_view_module": "@jupyter-widgets/base",
            "overflow": null,
            "_model_module_version": "1.2.0",
            "_view_count": null,
            "flex_flow": null,
            "width": null,
            "min_width": null,
            "border": null,
            "align_items": null,
            "bottom": null,
            "_model_module": "@jupyter-widgets/base",
            "top": null,
            "grid_column": null,
            "overflow_y": null,
            "overflow_x": null,
            "grid_auto_flow": null,
            "grid_area": null,
            "grid_template_columns": null,
            "flex": null,
            "_model_name": "LayoutModel",
            "justify_items": null,
            "grid_row": null,
            "max_height": null,
            "align_content": null,
            "visibility": null,
            "align_self": null,
            "height": null,
            "min_height": null,
            "padding": null,
            "grid_auto_rows": null,
            "grid_gap": null,
            "max_width": null,
            "order": null,
            "_view_module_version": "1.2.0",
            "grid_template_areas": null,
            "object_position": null,
            "object_fit": null,
            "grid_auto_columns": null,
            "margin": null,
            "display": null,
            "left": null
          }
        },
        "8c007414a40545138a31e8110444618c": {
          "model_module": "@jupyter-widgets/controls",
          "model_name": "DescriptionStyleModel",
          "state": {
            "_view_name": "StyleView",
            "_model_name": "DescriptionStyleModel",
            "description_width": "",
            "_view_module": "@jupyter-widgets/base",
            "_model_module_version": "1.5.0",
            "_view_count": null,
            "_view_module_version": "1.2.0",
            "_model_module": "@jupyter-widgets/controls"
          }
        },
        "d81e7a2b97334a2ca4f8f2a9c1a166fa": {
          "model_module": "@jupyter-widgets/base",
          "model_name": "LayoutModel",
          "state": {
            "_view_name": "LayoutView",
            "grid_template_rows": null,
            "right": null,
            "justify_content": null,
            "_view_module": "@jupyter-widgets/base",
            "overflow": null,
            "_model_module_version": "1.2.0",
            "_view_count": null,
            "flex_flow": null,
            "width": null,
            "min_width": null,
            "border": null,
            "align_items": null,
            "bottom": null,
            "_model_module": "@jupyter-widgets/base",
            "top": null,
            "grid_column": null,
            "overflow_y": null,
            "overflow_x": null,
            "grid_auto_flow": null,
            "grid_area": null,
            "grid_template_columns": null,
            "flex": null,
            "_model_name": "LayoutModel",
            "justify_items": null,
            "grid_row": null,
            "max_height": null,
            "align_content": null,
            "visibility": null,
            "align_self": null,
            "height": null,
            "min_height": null,
            "padding": null,
            "grid_auto_rows": null,
            "grid_gap": null,
            "max_width": null,
            "order": null,
            "_view_module_version": "1.2.0",
            "grid_template_areas": null,
            "object_position": null,
            "object_fit": null,
            "grid_auto_columns": null,
            "margin": null,
            "display": null,
            "left": null
          }
        },
        "8d1c048dc44642dd857be772db0a82a3": {
          "model_module": "@jupyter-widgets/controls",
          "model_name": "HBoxModel",
          "state": {
            "_view_name": "HBoxView",
            "_dom_classes": [],
            "_model_name": "HBoxModel",
            "_view_module": "@jupyter-widgets/controls",
            "_model_module_version": "1.5.0",
            "_view_count": null,
            "_view_module_version": "1.5.0",
            "box_style": "",
            "layout": "IPY_MODEL_643b86e207754e4583205b0ee178d746",
            "_model_module": "@jupyter-widgets/controls",
            "children": [
              "IPY_MODEL_0f28849178be41b7b3dc5e4305d12b5a",
              "IPY_MODEL_e9c4601c5d4e4d26a22185bc18c2ba66"
            ]
          }
        },
        "643b86e207754e4583205b0ee178d746": {
          "model_module": "@jupyter-widgets/base",
          "model_name": "LayoutModel",
          "state": {
            "_view_name": "LayoutView",
            "grid_template_rows": null,
            "right": null,
            "justify_content": null,
            "_view_module": "@jupyter-widgets/base",
            "overflow": null,
            "_model_module_version": "1.2.0",
            "_view_count": null,
            "flex_flow": null,
            "width": null,
            "min_width": null,
            "border": null,
            "align_items": null,
            "bottom": null,
            "_model_module": "@jupyter-widgets/base",
            "top": null,
            "grid_column": null,
            "overflow_y": null,
            "overflow_x": null,
            "grid_auto_flow": null,
            "grid_area": null,
            "grid_template_columns": null,
            "flex": null,
            "_model_name": "LayoutModel",
            "justify_items": null,
            "grid_row": null,
            "max_height": null,
            "align_content": null,
            "visibility": null,
            "align_self": null,
            "height": null,
            "min_height": null,
            "padding": null,
            "grid_auto_rows": null,
            "grid_gap": null,
            "max_width": null,
            "order": null,
            "_view_module_version": "1.2.0",
            "grid_template_areas": null,
            "object_position": null,
            "object_fit": null,
            "grid_auto_columns": null,
            "margin": null,
            "display": null,
            "left": null
          }
        },
        "0f28849178be41b7b3dc5e4305d12b5a": {
          "model_module": "@jupyter-widgets/controls",
          "model_name": "FloatProgressModel",
          "state": {
            "_view_name": "ProgressView",
            "style": "IPY_MODEL_56a7fd81c6db4385905eb4ab18d742e1",
            "_dom_classes": [],
            "description": "Downloading: 100%",
            "_model_name": "FloatProgressModel",
            "bar_style": "success",
            "max": 481,
            "_view_module": "@jupyter-widgets/controls",
            "_model_module_version": "1.5.0",
            "value": 481,
            "_view_count": null,
            "_view_module_version": "1.5.0",
            "orientation": "horizontal",
            "min": 0,
            "description_tooltip": null,
            "_model_module": "@jupyter-widgets/controls",
            "layout": "IPY_MODEL_026a50da3b9b4b0eab7454093bc449d6"
          }
        },
        "e9c4601c5d4e4d26a22185bc18c2ba66": {
          "model_module": "@jupyter-widgets/controls",
          "model_name": "HTMLModel",
          "state": {
            "_view_name": "HTMLView",
            "style": "IPY_MODEL_94450a6a58464ec4ab9c55a3e22079a9",
            "_dom_classes": [],
            "description": "",
            "_model_name": "HTMLModel",
            "placeholder": "​",
            "_view_module": "@jupyter-widgets/controls",
            "_model_module_version": "1.5.0",
            "value": " 481/481 [00:00&lt;00:00, 21.5kB/s]",
            "_view_count": null,
            "_view_module_version": "1.5.0",
            "description_tooltip": null,
            "_model_module": "@jupyter-widgets/controls",
            "layout": "IPY_MODEL_d8611ae31e1b48bfa68531820e146af0"
          }
        },
        "56a7fd81c6db4385905eb4ab18d742e1": {
          "model_module": "@jupyter-widgets/controls",
          "model_name": "ProgressStyleModel",
          "state": {
            "_view_name": "StyleView",
            "_model_name": "ProgressStyleModel",
            "description_width": "initial",
            "_view_module": "@jupyter-widgets/base",
            "_model_module_version": "1.5.0",
            "_view_count": null,
            "_view_module_version": "1.2.0",
            "bar_color": null,
            "_model_module": "@jupyter-widgets/controls"
          }
        },
        "026a50da3b9b4b0eab7454093bc449d6": {
          "model_module": "@jupyter-widgets/base",
          "model_name": "LayoutModel",
          "state": {
            "_view_name": "LayoutView",
            "grid_template_rows": null,
            "right": null,
            "justify_content": null,
            "_view_module": "@jupyter-widgets/base",
            "overflow": null,
            "_model_module_version": "1.2.0",
            "_view_count": null,
            "flex_flow": null,
            "width": null,
            "min_width": null,
            "border": null,
            "align_items": null,
            "bottom": null,
            "_model_module": "@jupyter-widgets/base",
            "top": null,
            "grid_column": null,
            "overflow_y": null,
            "overflow_x": null,
            "grid_auto_flow": null,
            "grid_area": null,
            "grid_template_columns": null,
            "flex": null,
            "_model_name": "LayoutModel",
            "justify_items": null,
            "grid_row": null,
            "max_height": null,
            "align_content": null,
            "visibility": null,
            "align_self": null,
            "height": null,
            "min_height": null,
            "padding": null,
            "grid_auto_rows": null,
            "grid_gap": null,
            "max_width": null,
            "order": null,
            "_view_module_version": "1.2.0",
            "grid_template_areas": null,
            "object_position": null,
            "object_fit": null,
            "grid_auto_columns": null,
            "margin": null,
            "display": null,
            "left": null
          }
        },
        "94450a6a58464ec4ab9c55a3e22079a9": {
          "model_module": "@jupyter-widgets/controls",
          "model_name": "DescriptionStyleModel",
          "state": {
            "_view_name": "StyleView",
            "_model_name": "DescriptionStyleModel",
            "description_width": "",
            "_view_module": "@jupyter-widgets/base",
            "_model_module_version": "1.5.0",
            "_view_count": null,
            "_view_module_version": "1.2.0",
            "_model_module": "@jupyter-widgets/controls"
          }
        },
        "d8611ae31e1b48bfa68531820e146af0": {
          "model_module": "@jupyter-widgets/base",
          "model_name": "LayoutModel",
          "state": {
            "_view_name": "LayoutView",
            "grid_template_rows": null,
            "right": null,
            "justify_content": null,
            "_view_module": "@jupyter-widgets/base",
            "overflow": null,
            "_model_module_version": "1.2.0",
            "_view_count": null,
            "flex_flow": null,
            "width": null,
            "min_width": null,
            "border": null,
            "align_items": null,
            "bottom": null,
            "_model_module": "@jupyter-widgets/base",
            "top": null,
            "grid_column": null,
            "overflow_y": null,
            "overflow_x": null,
            "grid_auto_flow": null,
            "grid_area": null,
            "grid_template_columns": null,
            "flex": null,
            "_model_name": "LayoutModel",
            "justify_items": null,
            "grid_row": null,
            "max_height": null,
            "align_content": null,
            "visibility": null,
            "align_self": null,
            "height": null,
            "min_height": null,
            "padding": null,
            "grid_auto_rows": null,
            "grid_gap": null,
            "max_width": null,
            "order": null,
            "_view_module_version": "1.2.0",
            "grid_template_areas": null,
            "object_position": null,
            "object_fit": null,
            "grid_auto_columns": null,
            "margin": null,
            "display": null,
            "left": null
          }
        },
        "f948b86bebe44f2580bcf7d8233c97ac": {
          "model_module": "@jupyter-widgets/controls",
          "model_name": "HBoxModel",
          "state": {
            "_view_name": "HBoxView",
            "_dom_classes": [],
            "_model_name": "HBoxModel",
            "_view_module": "@jupyter-widgets/controls",
            "_model_module_version": "1.5.0",
            "_view_count": null,
            "_view_module_version": "1.5.0",
            "box_style": "",
            "layout": "IPY_MODEL_3fe1e4b8a6a445ccb753e6ed211c1bed",
            "_model_module": "@jupyter-widgets/controls",
            "children": [
              "IPY_MODEL_e6d1546b7f67442a8a9a961fe61bf119",
              "IPY_MODEL_39deecd71768497eae555c2c3d76c59a"
            ]
          }
        },
        "3fe1e4b8a6a445ccb753e6ed211c1bed": {
          "model_module": "@jupyter-widgets/base",
          "model_name": "LayoutModel",
          "state": {
            "_view_name": "LayoutView",
            "grid_template_rows": null,
            "right": null,
            "justify_content": null,
            "_view_module": "@jupyter-widgets/base",
            "overflow": null,
            "_model_module_version": "1.2.0",
            "_view_count": null,
            "flex_flow": null,
            "width": null,
            "min_width": null,
            "border": null,
            "align_items": null,
            "bottom": null,
            "_model_module": "@jupyter-widgets/base",
            "top": null,
            "grid_column": null,
            "overflow_y": null,
            "overflow_x": null,
            "grid_auto_flow": null,
            "grid_area": null,
            "grid_template_columns": null,
            "flex": null,
            "_model_name": "LayoutModel",
            "justify_items": null,
            "grid_row": null,
            "max_height": null,
            "align_content": null,
            "visibility": null,
            "align_self": null,
            "height": null,
            "min_height": null,
            "padding": null,
            "grid_auto_rows": null,
            "grid_gap": null,
            "max_width": null,
            "order": null,
            "_view_module_version": "1.2.0",
            "grid_template_areas": null,
            "object_position": null,
            "object_fit": null,
            "grid_auto_columns": null,
            "margin": null,
            "display": null,
            "left": null
          }
        },
        "e6d1546b7f67442a8a9a961fe61bf119": {
          "model_module": "@jupyter-widgets/controls",
          "model_name": "FloatProgressModel",
          "state": {
            "_view_name": "ProgressView",
            "style": "IPY_MODEL_6595f3a4a81e4d6f94089c629cf6fe97",
            "_dom_classes": [],
            "description": "Downloading: 100%",
            "_model_name": "FloatProgressModel",
            "bar_style": "success",
            "max": 501200538,
            "_view_module": "@jupyter-widgets/controls",
            "_model_module_version": "1.5.0",
            "value": 501200538,
            "_view_count": null,
            "_view_module_version": "1.5.0",
            "orientation": "horizontal",
            "min": 0,
            "description_tooltip": null,
            "_model_module": "@jupyter-widgets/controls",
            "layout": "IPY_MODEL_513301a9806f4ec08c466392086ce517"
          }
        },
        "39deecd71768497eae555c2c3d76c59a": {
          "model_module": "@jupyter-widgets/controls",
          "model_name": "HTMLModel",
          "state": {
            "_view_name": "HTMLView",
            "style": "IPY_MODEL_cf27a5a017214323bfa7cda5a4574b4b",
            "_dom_classes": [],
            "description": "",
            "_model_name": "HTMLModel",
            "placeholder": "​",
            "_view_module": "@jupyter-widgets/controls",
            "_model_module_version": "1.5.0",
            "value": " 501M/501M [00:41&lt;00:00, 12.0MB/s]",
            "_view_count": null,
            "_view_module_version": "1.5.0",
            "description_tooltip": null,
            "_model_module": "@jupyter-widgets/controls",
            "layout": "IPY_MODEL_b3bcbb0c94cd46189a9a98cf7fd63fd5"
          }
        },
        "6595f3a4a81e4d6f94089c629cf6fe97": {
          "model_module": "@jupyter-widgets/controls",
          "model_name": "ProgressStyleModel",
          "state": {
            "_view_name": "StyleView",
            "_model_name": "ProgressStyleModel",
            "description_width": "initial",
            "_view_module": "@jupyter-widgets/base",
            "_model_module_version": "1.5.0",
            "_view_count": null,
            "_view_module_version": "1.2.0",
            "bar_color": null,
            "_model_module": "@jupyter-widgets/controls"
          }
        },
        "513301a9806f4ec08c466392086ce517": {
          "model_module": "@jupyter-widgets/base",
          "model_name": "LayoutModel",
          "state": {
            "_view_name": "LayoutView",
            "grid_template_rows": null,
            "right": null,
            "justify_content": null,
            "_view_module": "@jupyter-widgets/base",
            "overflow": null,
            "_model_module_version": "1.2.0",
            "_view_count": null,
            "flex_flow": null,
            "width": null,
            "min_width": null,
            "border": null,
            "align_items": null,
            "bottom": null,
            "_model_module": "@jupyter-widgets/base",
            "top": null,
            "grid_column": null,
            "overflow_y": null,
            "overflow_x": null,
            "grid_auto_flow": null,
            "grid_area": null,
            "grid_template_columns": null,
            "flex": null,
            "_model_name": "LayoutModel",
            "justify_items": null,
            "grid_row": null,
            "max_height": null,
            "align_content": null,
            "visibility": null,
            "align_self": null,
            "height": null,
            "min_height": null,
            "padding": null,
            "grid_auto_rows": null,
            "grid_gap": null,
            "max_width": null,
            "order": null,
            "_view_module_version": "1.2.0",
            "grid_template_areas": null,
            "object_position": null,
            "object_fit": null,
            "grid_auto_columns": null,
            "margin": null,
            "display": null,
            "left": null
          }
        },
        "cf27a5a017214323bfa7cda5a4574b4b": {
          "model_module": "@jupyter-widgets/controls",
          "model_name": "DescriptionStyleModel",
          "state": {
            "_view_name": "StyleView",
            "_model_name": "DescriptionStyleModel",
            "description_width": "",
            "_view_module": "@jupyter-widgets/base",
            "_model_module_version": "1.5.0",
            "_view_count": null,
            "_view_module_version": "1.2.0",
            "_model_module": "@jupyter-widgets/controls"
          }
        },
        "b3bcbb0c94cd46189a9a98cf7fd63fd5": {
          "model_module": "@jupyter-widgets/base",
          "model_name": "LayoutModel",
          "state": {
            "_view_name": "LayoutView",
            "grid_template_rows": null,
            "right": null,
            "justify_content": null,
            "_view_module": "@jupyter-widgets/base",
            "overflow": null,
            "_model_module_version": "1.2.0",
            "_view_count": null,
            "flex_flow": null,
            "width": null,
            "min_width": null,
            "border": null,
            "align_items": null,
            "bottom": null,
            "_model_module": "@jupyter-widgets/base",
            "top": null,
            "grid_column": null,
            "overflow_y": null,
            "overflow_x": null,
            "grid_auto_flow": null,
            "grid_area": null,
            "grid_template_columns": null,
            "flex": null,
            "_model_name": "LayoutModel",
            "justify_items": null,
            "grid_row": null,
            "max_height": null,
            "align_content": null,
            "visibility": null,
            "align_self": null,
            "height": null,
            "min_height": null,
            "padding": null,
            "grid_auto_rows": null,
            "grid_gap": null,
            "max_width": null,
            "order": null,
            "_view_module_version": "1.2.0",
            "grid_template_areas": null,
            "object_position": null,
            "object_fit": null,
            "grid_auto_columns": null,
            "margin": null,
            "display": null,
            "left": null
          }
        },
        "fc2f08edb0ee4a4d95cfbc0b67e6761c": {
          "model_module": "@jupyter-widgets/controls",
          "model_name": "HBoxModel",
          "state": {
            "_view_name": "HBoxView",
            "_dom_classes": [],
            "_model_name": "HBoxModel",
            "_view_module": "@jupyter-widgets/controls",
            "_model_module_version": "1.5.0",
            "_view_count": null,
            "_view_module_version": "1.5.0",
            "box_style": "",
            "layout": "IPY_MODEL_325917cc6d06436ebcd197c10fdb47ff",
            "_model_module": "@jupyter-widgets/controls",
            "children": [
              "IPY_MODEL_5064166756ba47198a805243aa6ff395",
              "IPY_MODEL_d834af58751446cc8d960a780c3f961c"
            ]
          }
        },
        "325917cc6d06436ebcd197c10fdb47ff": {
          "model_module": "@jupyter-widgets/base",
          "model_name": "LayoutModel",
          "state": {
            "_view_name": "LayoutView",
            "grid_template_rows": null,
            "right": null,
            "justify_content": null,
            "_view_module": "@jupyter-widgets/base",
            "overflow": null,
            "_model_module_version": "1.2.0",
            "_view_count": null,
            "flex_flow": null,
            "width": null,
            "min_width": null,
            "border": null,
            "align_items": null,
            "bottom": null,
            "_model_module": "@jupyter-widgets/base",
            "top": null,
            "grid_column": null,
            "overflow_y": null,
            "overflow_x": null,
            "grid_auto_flow": null,
            "grid_area": null,
            "grid_template_columns": null,
            "flex": null,
            "_model_name": "LayoutModel",
            "justify_items": null,
            "grid_row": null,
            "max_height": null,
            "align_content": null,
            "visibility": null,
            "align_self": null,
            "height": null,
            "min_height": null,
            "padding": null,
            "grid_auto_rows": null,
            "grid_gap": null,
            "max_width": null,
            "order": null,
            "_view_module_version": "1.2.0",
            "grid_template_areas": null,
            "object_position": null,
            "object_fit": null,
            "grid_auto_columns": null,
            "margin": null,
            "display": null,
            "left": null
          }
        },
        "5064166756ba47198a805243aa6ff395": {
          "model_module": "@jupyter-widgets/controls",
          "model_name": "FloatProgressModel",
          "state": {
            "_view_name": "ProgressView",
            "style": "IPY_MODEL_97a51b239cec4ed6aa2447f570a89348",
            "_dom_classes": [],
            "description": "Epochs: 100%",
            "_model_name": "FloatProgressModel",
            "bar_style": "success",
            "max": 10,
            "_view_module": "@jupyter-widgets/controls",
            "_model_module_version": "1.5.0",
            "value": 10,
            "_view_count": null,
            "_view_module_version": "1.5.0",
            "orientation": "horizontal",
            "min": 0,
            "description_tooltip": null,
            "_model_module": "@jupyter-widgets/controls",
            "layout": "IPY_MODEL_f142f811b3ff41c98e6b662de1b5dace"
          }
        },
        "d834af58751446cc8d960a780c3f961c": {
          "model_module": "@jupyter-widgets/controls",
          "model_name": "HTMLModel",
          "state": {
            "_view_name": "HTMLView",
            "style": "IPY_MODEL_192a874b858d4b27bbf0c50f9305d402",
            "_dom_classes": [],
            "description": "",
            "_model_name": "HTMLModel",
            "placeholder": "​",
            "_view_module": "@jupyter-widgets/controls",
            "_model_module_version": "1.5.0",
            "value": " 10/10 [5:50:29&lt;00:00, 2102.99s/it]",
            "_view_count": null,
            "_view_module_version": "1.5.0",
            "description_tooltip": null,
            "_model_module": "@jupyter-widgets/controls",
            "layout": "IPY_MODEL_5dd3c1e3d4fb4e198dc73433a13b76d0"
          }
        },
        "97a51b239cec4ed6aa2447f570a89348": {
          "model_module": "@jupyter-widgets/controls",
          "model_name": "ProgressStyleModel",
          "state": {
            "_view_name": "StyleView",
            "_model_name": "ProgressStyleModel",
            "description_width": "initial",
            "_view_module": "@jupyter-widgets/base",
            "_model_module_version": "1.5.0",
            "_view_count": null,
            "_view_module_version": "1.2.0",
            "bar_color": null,
            "_model_module": "@jupyter-widgets/controls"
          }
        },
        "f142f811b3ff41c98e6b662de1b5dace": {
          "model_module": "@jupyter-widgets/base",
          "model_name": "LayoutModel",
          "state": {
            "_view_name": "LayoutView",
            "grid_template_rows": null,
            "right": null,
            "justify_content": null,
            "_view_module": "@jupyter-widgets/base",
            "overflow": null,
            "_model_module_version": "1.2.0",
            "_view_count": null,
            "flex_flow": null,
            "width": null,
            "min_width": null,
            "border": null,
            "align_items": null,
            "bottom": null,
            "_model_module": "@jupyter-widgets/base",
            "top": null,
            "grid_column": null,
            "overflow_y": null,
            "overflow_x": null,
            "grid_auto_flow": null,
            "grid_area": null,
            "grid_template_columns": null,
            "flex": null,
            "_model_name": "LayoutModel",
            "justify_items": null,
            "grid_row": null,
            "max_height": null,
            "align_content": null,
            "visibility": null,
            "align_self": null,
            "height": null,
            "min_height": null,
            "padding": null,
            "grid_auto_rows": null,
            "grid_gap": null,
            "max_width": null,
            "order": null,
            "_view_module_version": "1.2.0",
            "grid_template_areas": null,
            "object_position": null,
            "object_fit": null,
            "grid_auto_columns": null,
            "margin": null,
            "display": null,
            "left": null
          }
        },
        "192a874b858d4b27bbf0c50f9305d402": {
          "model_module": "@jupyter-widgets/controls",
          "model_name": "DescriptionStyleModel",
          "state": {
            "_view_name": "StyleView",
            "_model_name": "DescriptionStyleModel",
            "description_width": "",
            "_view_module": "@jupyter-widgets/base",
            "_model_module_version": "1.5.0",
            "_view_count": null,
            "_view_module_version": "1.2.0",
            "_model_module": "@jupyter-widgets/controls"
          }
        },
        "5dd3c1e3d4fb4e198dc73433a13b76d0": {
          "model_module": "@jupyter-widgets/base",
          "model_name": "LayoutModel",
          "state": {
            "_view_name": "LayoutView",
            "grid_template_rows": null,
            "right": null,
            "justify_content": null,
            "_view_module": "@jupyter-widgets/base",
            "overflow": null,
            "_model_module_version": "1.2.0",
            "_view_count": null,
            "flex_flow": null,
            "width": null,
            "min_width": null,
            "border": null,
            "align_items": null,
            "bottom": null,
            "_model_module": "@jupyter-widgets/base",
            "top": null,
            "grid_column": null,
            "overflow_y": null,
            "overflow_x": null,
            "grid_auto_flow": null,
            "grid_area": null,
            "grid_template_columns": null,
            "flex": null,
            "_model_name": "LayoutModel",
            "justify_items": null,
            "grid_row": null,
            "max_height": null,
            "align_content": null,
            "visibility": null,
            "align_self": null,
            "height": null,
            "min_height": null,
            "padding": null,
            "grid_auto_rows": null,
            "grid_gap": null,
            "max_width": null,
            "order": null,
            "_view_module_version": "1.2.0",
            "grid_template_areas": null,
            "object_position": null,
            "object_fit": null,
            "grid_auto_columns": null,
            "margin": null,
            "display": null,
            "left": null
          }
        }
      }
    }
  },
  "cells": [
    {
      "cell_type": "markdown",
      "metadata": {
        "id": "JmfaxxMGLEIO"
      },
      "source": [
        "# Mounting Goolge drive."
      ]
    },
    {
      "cell_type": "markdown",
      "metadata": {
        "id": "d-gFZYfYT9Wz"
      },
      "source": [
        "First add the data to your google drive using the following link:\n",
        "\n",
        "https://drive.google.com/drive/folders/1PMRCwBVrFdMJkU197oKtgOIKDGmYbtQC?usp=sharing"
      ]
    },
    {
      "cell_type": "code",
      "metadata": {
        "id": "EV0WPAzb8WUA",
        "colab": {
          "base_uri": "https://localhost:8080/"
        },
        "outputId": "aae046b2-5410-4c5b-d16a-40e1c0f048f8"
      },
      "source": [
        "from google.colab import drive\n",
        "\n",
        "drive.mount('/content/drive')"
      ],
      "execution_count": null,
      "outputs": [
        {
          "output_type": "stream",
          "text": [
            "Mounted at /content/drive\n"
          ],
          "name": "stdout"
        }
      ]
    },
    {
      "cell_type": "markdown",
      "metadata": {
        "id": "f_4gkoxRLZ5Q"
      },
      "source": [
        "# Installing required packages"
      ]
    },
    {
      "cell_type": "markdown",
      "metadata": {
        "id": "c-ZgdlghL35-"
      },
      "source": [
        "GPU and available memory check"
      ]
    },
    {
      "cell_type": "code",
      "metadata": {
        "id": "2BdD133t8_yE",
        "colab": {
          "base_uri": "https://localhost:8080/"
        },
        "outputId": "0ebc7f5a-fe0c-4a0b-ccda-5537fbadf92d"
      },
      "source": [
        "# memory footprint support libraries/code\n",
        "!ln -sf /opt/bin/nvidia-smi /usr/bin/nvidia-smi\n",
        "!pip install gputil\n",
        "!pip install psutil\n",
        "!pip install humanize\n",
        "\n",
        "import psutil\n",
        "import humanize\n",
        "import os\n",
        "import GPUtil as GPU\n",
        "\n",
        "GPUs = GPU.getGPUs()\n",
        "# XXX: only one GPU on Colab and isn’t guaranteed\n",
        "gpu = GPUs[0]\n",
        "def printm():\n",
        "    process = psutil.Process(os.getpid())\n",
        "    print(\"Gen RAM Free: \" + humanize.naturalsize(psutil.virtual_memory().available), \" |     Proc size: \" + humanize.naturalsize(process.memory_info().rss))\n",
        "    print(\"GPU RAM Free: {0:.0f}MB | Used: {1:.0f}MB | Util {2:3.0f}% | Total     {3:.0f}MB\".format(gpu.memoryFree, gpu.memoryUsed, gpu.memoryUtil*100, gpu.memoryTotal))\n",
        "printm()"
      ],
      "execution_count": null,
      "outputs": [
        {
          "output_type": "stream",
          "text": [
            "Collecting gputil\n",
            "  Downloading https://files.pythonhosted.org/packages/ed/0e/5c61eedde9f6c87713e89d794f01e378cfd9565847d4576fa627d758c554/GPUtil-1.4.0.tar.gz\n",
            "Building wheels for collected packages: gputil\n",
            "  Building wheel for gputil (setup.py) ... \u001b[?25l\u001b[?25hdone\n",
            "  Created wheel for gputil: filename=GPUtil-1.4.0-cp36-none-any.whl size=7411 sha256=4fc2438127d295347b079e24fd80f0321fb9046f79601e49686df306e7c5fe4d\n",
            "  Stored in directory: /root/.cache/pip/wheels/3d/77/07/80562de4bb0786e5ea186911a2c831fdd0018bda69beab71fd\n",
            "Successfully built gputil\n",
            "Installing collected packages: gputil\n",
            "Successfully installed gputil-1.4.0\n",
            "Requirement already satisfied: psutil in /usr/local/lib/python3.6/dist-packages (5.4.8)\n",
            "Requirement already satisfied: humanize in /usr/local/lib/python3.6/dist-packages (0.5.1)\n",
            "Gen RAM Free: 26.4 GB  |     Proc size: 111.2 MB\n",
            "GPU RAM Free: 16280MB | Used: 0MB | Util   0% | Total     16280MB\n"
          ],
          "name": "stdout"
        }
      ]
    },
    {
      "cell_type": "markdown",
      "metadata": {
        "id": "hxI_bH3nMWwU"
      },
      "source": [
        "Transformers for general purpose NLP models\n",
        "\n",
        "Unidecode for ASCII translation of Unicode text."
      ]
    },
    {
      "cell_type": "code",
      "metadata": {
        "id": "ProxRZG19EvY",
        "colab": {
          "base_uri": "https://localhost:8080/"
        },
        "outputId": "7df6925e-8bfa-48ea-cae5-cf5f98ea0565"
      },
      "source": [
        "!pip3 install transformers\n",
        "!pip3 install unidecode"
      ],
      "execution_count": null,
      "outputs": [
        {
          "output_type": "stream",
          "text": [
            "Collecting transformers\n",
            "\u001b[?25l  Downloading https://files.pythonhosted.org/packages/3a/83/e74092e7f24a08d751aa59b37a9fc572b2e4af3918cb66f7766c3affb1b4/transformers-3.5.1-py3-none-any.whl (1.3MB)\n",
            "\r\u001b[K     |▎                               | 10kB 25.9MB/s eta 0:00:01\r\u001b[K     |▌                               | 20kB 34.5MB/s eta 0:00:01\r\u001b[K     |▊                               | 30kB 14.5MB/s eta 0:00:01\r\u001b[K     |█                               | 40kB 10.5MB/s eta 0:00:01\r\u001b[K     |█▎                              | 51kB 5.8MB/s eta 0:00:01\r\u001b[K     |█▌                              | 61kB 6.9MB/s eta 0:00:01\r\u001b[K     |█▊                              | 71kB 7.3MB/s eta 0:00:01\r\u001b[K     |██                              | 81kB 7.8MB/s eta 0:00:01\r\u001b[K     |██▎                             | 92kB 8.1MB/s eta 0:00:01\r\u001b[K     |██▌                             | 102kB 8.4MB/s eta 0:00:01\r\u001b[K     |██▊                             | 112kB 8.4MB/s eta 0:00:01\r\u001b[K     |███                             | 122kB 8.4MB/s eta 0:00:01\r\u001b[K     |███▎                            | 133kB 8.4MB/s eta 0:00:01\r\u001b[K     |███▌                            | 143kB 8.4MB/s eta 0:00:01\r\u001b[K     |███▉                            | 153kB 8.4MB/s eta 0:00:01\r\u001b[K     |████                            | 163kB 8.4MB/s eta 0:00:01\r\u001b[K     |████▎                           | 174kB 8.4MB/s eta 0:00:01\r\u001b[K     |████▌                           | 184kB 8.4MB/s eta 0:00:01\r\u001b[K     |████▉                           | 194kB 8.4MB/s eta 0:00:01\r\u001b[K     |█████                           | 204kB 8.4MB/s eta 0:00:01\r\u001b[K     |█████▎                          | 215kB 8.4MB/s eta 0:00:01\r\u001b[K     |█████▌                          | 225kB 8.4MB/s eta 0:00:01\r\u001b[K     |█████▉                          | 235kB 8.4MB/s eta 0:00:01\r\u001b[K     |██████                          | 245kB 8.4MB/s eta 0:00:01\r\u001b[K     |██████▎                         | 256kB 8.4MB/s eta 0:00:01\r\u001b[K     |██████▌                         | 266kB 8.4MB/s eta 0:00:01\r\u001b[K     |██████▉                         | 276kB 8.4MB/s eta 0:00:01\r\u001b[K     |███████                         | 286kB 8.4MB/s eta 0:00:01\r\u001b[K     |███████▎                        | 296kB 8.4MB/s eta 0:00:01\r\u001b[K     |███████▋                        | 307kB 8.4MB/s eta 0:00:01\r\u001b[K     |███████▉                        | 317kB 8.4MB/s eta 0:00:01\r\u001b[K     |████████                        | 327kB 8.4MB/s eta 0:00:01\r\u001b[K     |████████▎                       | 337kB 8.4MB/s eta 0:00:01\r\u001b[K     |████████▋                       | 348kB 8.4MB/s eta 0:00:01\r\u001b[K     |████████▉                       | 358kB 8.4MB/s eta 0:00:01\r\u001b[K     |█████████                       | 368kB 8.4MB/s eta 0:00:01\r\u001b[K     |█████████▎                      | 378kB 8.4MB/s eta 0:00:01\r\u001b[K     |█████████▋                      | 389kB 8.4MB/s eta 0:00:01\r\u001b[K     |█████████▉                      | 399kB 8.4MB/s eta 0:00:01\r\u001b[K     |██████████                      | 409kB 8.4MB/s eta 0:00:01\r\u001b[K     |██████████▎                     | 419kB 8.4MB/s eta 0:00:01\r\u001b[K     |██████████▋                     | 430kB 8.4MB/s eta 0:00:01\r\u001b[K     |██████████▉                     | 440kB 8.4MB/s eta 0:00:01\r\u001b[K     |███████████                     | 450kB 8.4MB/s eta 0:00:01\r\u001b[K     |███████████▍                    | 460kB 8.4MB/s eta 0:00:01\r\u001b[K     |███████████▋                    | 471kB 8.4MB/s eta 0:00:01\r\u001b[K     |███████████▉                    | 481kB 8.4MB/s eta 0:00:01\r\u001b[K     |████████████                    | 491kB 8.4MB/s eta 0:00:01\r\u001b[K     |████████████▍                   | 501kB 8.4MB/s eta 0:00:01\r\u001b[K     |████████████▋                   | 512kB 8.4MB/s eta 0:00:01\r\u001b[K     |████████████▉                   | 522kB 8.4MB/s eta 0:00:01\r\u001b[K     |█████████████                   | 532kB 8.4MB/s eta 0:00:01\r\u001b[K     |█████████████▍                  | 542kB 8.4MB/s eta 0:00:01\r\u001b[K     |█████████████▋                  | 552kB 8.4MB/s eta 0:00:01\r\u001b[K     |█████████████▉                  | 563kB 8.4MB/s eta 0:00:01\r\u001b[K     |██████████████                  | 573kB 8.4MB/s eta 0:00:01\r\u001b[K     |██████████████▍                 | 583kB 8.4MB/s eta 0:00:01\r\u001b[K     |██████████████▋                 | 593kB 8.4MB/s eta 0:00:01\r\u001b[K     |██████████████▉                 | 604kB 8.4MB/s eta 0:00:01\r\u001b[K     |███████████████▏                | 614kB 8.4MB/s eta 0:00:01\r\u001b[K     |███████████████▍                | 624kB 8.4MB/s eta 0:00:01\r\u001b[K     |███████████████▋                | 634kB 8.4MB/s eta 0:00:01\r\u001b[K     |███████████████▉                | 645kB 8.4MB/s eta 0:00:01\r\u001b[K     |████████████████▏               | 655kB 8.4MB/s eta 0:00:01\r\u001b[K     |████████████████▍               | 665kB 8.4MB/s eta 0:00:01\r\u001b[K     |████████████████▋               | 675kB 8.4MB/s eta 0:00:01\r\u001b[K     |████████████████▉               | 686kB 8.4MB/s eta 0:00:01\r\u001b[K     |█████████████████▏              | 696kB 8.4MB/s eta 0:00:01\r\u001b[K     |█████████████████▍              | 706kB 8.4MB/s eta 0:00:01\r\u001b[K     |█████████████████▋              | 716kB 8.4MB/s eta 0:00:01\r\u001b[K     |██████████████████              | 727kB 8.4MB/s eta 0:00:01\r\u001b[K     |██████████████████▏             | 737kB 8.4MB/s eta 0:00:01\r\u001b[K     |██████████████████▍             | 747kB 8.4MB/s eta 0:00:01\r\u001b[K     |██████████████████▋             | 757kB 8.4MB/s eta 0:00:01\r\u001b[K     |███████████████████             | 768kB 8.4MB/s eta 0:00:01\r\u001b[K     |███████████████████▏            | 778kB 8.4MB/s eta 0:00:01\r\u001b[K     |███████████████████▍            | 788kB 8.4MB/s eta 0:00:01\r\u001b[K     |███████████████████▋            | 798kB 8.4MB/s eta 0:00:01\r\u001b[K     |████████████████████            | 808kB 8.4MB/s eta 0:00:01\r\u001b[K     |████████████████████▏           | 819kB 8.4MB/s eta 0:00:01\r\u001b[K     |████████████████████▍           | 829kB 8.4MB/s eta 0:00:01\r\u001b[K     |████████████████████▋           | 839kB 8.4MB/s eta 0:00:01\r\u001b[K     |█████████████████████           | 849kB 8.4MB/s eta 0:00:01\r\u001b[K     |█████████████████████▏          | 860kB 8.4MB/s eta 0:00:01\r\u001b[K     |█████████████████████▍          | 870kB 8.4MB/s eta 0:00:01\r\u001b[K     |█████████████████████▊          | 880kB 8.4MB/s eta 0:00:01\r\u001b[K     |██████████████████████          | 890kB 8.4MB/s eta 0:00:01\r\u001b[K     |██████████████████████▏         | 901kB 8.4MB/s eta 0:00:01\r\u001b[K     |██████████████████████▍         | 911kB 8.4MB/s eta 0:00:01\r\u001b[K     |██████████████████████▊         | 921kB 8.4MB/s eta 0:00:01\r\u001b[K     |███████████████████████         | 931kB 8.4MB/s eta 0:00:01\r\u001b[K     |███████████████████████▏        | 942kB 8.4MB/s eta 0:00:01\r\u001b[K     |███████████████████████▍        | 952kB 8.4MB/s eta 0:00:01\r\u001b[K     |███████████████████████▊        | 962kB 8.4MB/s eta 0:00:01\r\u001b[K     |████████████████████████        | 972kB 8.4MB/s eta 0:00:01\r\u001b[K     |████████████████████████▏       | 983kB 8.4MB/s eta 0:00:01\r\u001b[K     |████████████████████████▍       | 993kB 8.4MB/s eta 0:00:01\r\u001b[K     |████████████████████████▊       | 1.0MB 8.4MB/s eta 0:00:01\r\u001b[K     |█████████████████████████       | 1.0MB 8.4MB/s eta 0:00:01\r\u001b[K     |█████████████████████████▏      | 1.0MB 8.4MB/s eta 0:00:01\r\u001b[K     |█████████████████████████▌      | 1.0MB 8.4MB/s eta 0:00:01\r\u001b[K     |█████████████████████████▊      | 1.0MB 8.4MB/s eta 0:00:01\r\u001b[K     |██████████████████████████      | 1.1MB 8.4MB/s eta 0:00:01\r\u001b[K     |██████████████████████████▏     | 1.1MB 8.4MB/s eta 0:00:01\r\u001b[K     |██████████████████████████▌     | 1.1MB 8.4MB/s eta 0:00:01\r\u001b[K     |██████████████████████████▊     | 1.1MB 8.4MB/s eta 0:00:01\r\u001b[K     |███████████████████████████     | 1.1MB 8.4MB/s eta 0:00:01\r\u001b[K     |███████████████████████████▏    | 1.1MB 8.4MB/s eta 0:00:01\r\u001b[K     |███████████████████████████▌    | 1.1MB 8.4MB/s eta 0:00:01\r\u001b[K     |███████████████████████████▊    | 1.1MB 8.4MB/s eta 0:00:01\r\u001b[K     |████████████████████████████    | 1.1MB 8.4MB/s eta 0:00:01\r\u001b[K     |████████████████████████████▏   | 1.1MB 8.4MB/s eta 0:00:01\r\u001b[K     |████████████████████████████▌   | 1.2MB 8.4MB/s eta 0:00:01\r\u001b[K     |████████████████████████████▊   | 1.2MB 8.4MB/s eta 0:00:01\r\u001b[K     |█████████████████████████████   | 1.2MB 8.4MB/s eta 0:00:01\r\u001b[K     |█████████████████████████████▎  | 1.2MB 8.4MB/s eta 0:00:01\r\u001b[K     |█████████████████████████████▌  | 1.2MB 8.4MB/s eta 0:00:01\r\u001b[K     |█████████████████████████████▊  | 1.2MB 8.4MB/s eta 0:00:01\r\u001b[K     |██████████████████████████████  | 1.2MB 8.4MB/s eta 0:00:01\r\u001b[K     |██████████████████████████████▎ | 1.2MB 8.4MB/s eta 0:00:01\r\u001b[K     |██████████████████████████████▌ | 1.2MB 8.4MB/s eta 0:00:01\r\u001b[K     |██████████████████████████████▊ | 1.2MB 8.4MB/s eta 0:00:01\r\u001b[K     |███████████████████████████████ | 1.3MB 8.4MB/s eta 0:00:01\r\u001b[K     |███████████████████████████████▎| 1.3MB 8.4MB/s eta 0:00:01\r\u001b[K     |███████████████████████████████▌| 1.3MB 8.4MB/s eta 0:00:01\r\u001b[K     |███████████████████████████████▊| 1.3MB 8.4MB/s eta 0:00:01\r\u001b[K     |████████████████████████████████| 1.3MB 8.4MB/s eta 0:00:01\r\u001b[K     |████████████████████████████████| 1.3MB 8.4MB/s \n",
            "\u001b[?25hRequirement already satisfied: packaging in /usr/local/lib/python3.6/dist-packages (from transformers) (20.4)\n",
            "Collecting tokenizers==0.9.3\n",
            "\u001b[?25l  Downloading https://files.pythonhosted.org/packages/4c/34/b39eb9994bc3c999270b69c9eea40ecc6f0e97991dba28282b9fd32d44ee/tokenizers-0.9.3-cp36-cp36m-manylinux1_x86_64.whl (2.9MB)\n",
            "\u001b[K     |████████████████████████████████| 2.9MB 30.1MB/s \n",
            "\u001b[?25hRequirement already satisfied: numpy in /usr/local/lib/python3.6/dist-packages (from transformers) (1.18.5)\n",
            "Requirement already satisfied: filelock in /usr/local/lib/python3.6/dist-packages (from transformers) (3.0.12)\n",
            "Requirement already satisfied: tqdm>=4.27 in /usr/local/lib/python3.6/dist-packages (from transformers) (4.41.1)\n",
            "Requirement already satisfied: requests in /usr/local/lib/python3.6/dist-packages (from transformers) (2.23.0)\n",
            "Collecting sentencepiece==0.1.91\n",
            "\u001b[?25l  Downloading https://files.pythonhosted.org/packages/d4/a4/d0a884c4300004a78cca907a6ff9a5e9fe4f090f5d95ab341c53d28cbc58/sentencepiece-0.1.91-cp36-cp36m-manylinux1_x86_64.whl (1.1MB)\n",
            "\u001b[K     |████████████████████████████████| 1.1MB 58.3MB/s \n",
            "\u001b[?25hRequirement already satisfied: dataclasses; python_version < \"3.7\" in /usr/local/lib/python3.6/dist-packages (from transformers) (0.7)\n",
            "Collecting sacremoses\n",
            "\u001b[?25l  Downloading https://files.pythonhosted.org/packages/7d/34/09d19aff26edcc8eb2a01bed8e98f13a1537005d31e95233fd48216eed10/sacremoses-0.0.43.tar.gz (883kB)\n",
            "\u001b[K     |████████████████████████████████| 890kB 64.6MB/s \n",
            "\u001b[?25hRequirement already satisfied: protobuf in /usr/local/lib/python3.6/dist-packages (from transformers) (3.12.4)\n",
            "Requirement already satisfied: regex!=2019.12.17 in /usr/local/lib/python3.6/dist-packages (from transformers) (2019.12.20)\n",
            "Requirement already satisfied: pyparsing>=2.0.2 in /usr/local/lib/python3.6/dist-packages (from packaging->transformers) (2.4.7)\n",
            "Requirement already satisfied: six in /usr/local/lib/python3.6/dist-packages (from packaging->transformers) (1.15.0)\n",
            "Requirement already satisfied: certifi>=2017.4.17 in /usr/local/lib/python3.6/dist-packages (from requests->transformers) (2020.6.20)\n",
            "Requirement already satisfied: idna<3,>=2.5 in /usr/local/lib/python3.6/dist-packages (from requests->transformers) (2.10)\n",
            "Requirement already satisfied: urllib3!=1.25.0,!=1.25.1,<1.26,>=1.21.1 in /usr/local/lib/python3.6/dist-packages (from requests->transformers) (1.24.3)\n",
            "Requirement already satisfied: chardet<4,>=3.0.2 in /usr/local/lib/python3.6/dist-packages (from requests->transformers) (3.0.4)\n",
            "Requirement already satisfied: click in /usr/local/lib/python3.6/dist-packages (from sacremoses->transformers) (7.1.2)\n",
            "Requirement already satisfied: joblib in /usr/local/lib/python3.6/dist-packages (from sacremoses->transformers) (0.17.0)\n",
            "Requirement already satisfied: setuptools in /usr/local/lib/python3.6/dist-packages (from protobuf->transformers) (50.3.2)\n",
            "Building wheels for collected packages: sacremoses\n",
            "  Building wheel for sacremoses (setup.py) ... \u001b[?25l\u001b[?25hdone\n",
            "  Created wheel for sacremoses: filename=sacremoses-0.0.43-cp36-none-any.whl size=893257 sha256=baa3f2d478b4cb569aec2d75d637608f2a3f3120357ae25f01e3f17df4ae14ad\n",
            "  Stored in directory: /root/.cache/pip/wheels/29/3c/fd/7ce5c3f0666dab31a50123635e6fb5e19ceb42ce38d4e58f45\n",
            "Successfully built sacremoses\n",
            "Installing collected packages: tokenizers, sentencepiece, sacremoses, transformers\n",
            "Successfully installed sacremoses-0.0.43 sentencepiece-0.1.91 tokenizers-0.9.3 transformers-3.5.1\n",
            "Collecting unidecode\n",
            "\u001b[?25l  Downloading https://files.pythonhosted.org/packages/d0/42/d9edfed04228bacea2d824904cae367ee9efd05e6cce7ceaaedd0b0ad964/Unidecode-1.1.1-py2.py3-none-any.whl (238kB)\n",
            "\u001b[K     |████████████████████████████████| 245kB 8.4MB/s \n",
            "\u001b[?25hInstalling collected packages: unidecode\n",
            "Successfully installed unidecode-1.1.1\n"
          ],
          "name": "stdout"
        }
      ]
    },
    {
      "cell_type": "markdown",
      "metadata": {
        "id": "aaR1kCaX9H1H"
      },
      "source": [
        "# Importing Libraries"
      ]
    },
    {
      "cell_type": "code",
      "metadata": {
        "id": "udaVulil9Jo6"
      },
      "source": [
        "import numpy as np\n",
        "import pandas as pd\n",
        "import os\n",
        "from os import listdir\n",
        "from os.path import join\n",
        "import unidecode\n",
        "import re\n",
        "import logging\n",
        "from tqdm.notebook import tnrange\n",
        "import glob\n",
        "import json\n",
        "\n",
        "#For ploting results\n",
        "import matplotlib.pyplot as plt\n",
        "\n",
        "# DL Libraries\n",
        "from transformers import BertModel, AdamW, BertTokenizer, BertConfig, RobertaTokenizer, RobertaModel\n",
        "from keras.preprocessing.sequence import pad_sequences\n",
        "import torch\n",
        "import torch.nn as nn\n",
        "from torch.utils.data import (DataLoader, RandomSampler, SequentialSampler, TensorDataset)\n",
        "from sklearn.metrics import classification_report, accuracy_score\n",
        "from sklearn.model_selection import train_test_split\n",
        "from scipy.stats import pearsonr\n",
        "from sklearn.utils import shuffle\n",
        "from sklearn.metrics import mean_squared_error\n",
        "from sklearn.metrics import r2_score"
      ],
      "execution_count": null,
      "outputs": []
    },
    {
      "cell_type": "code",
      "metadata": {
        "id": "G4OvOrtF9MKU",
        "colab": {
          "base_uri": "https://localhost:8080/"
        },
        "outputId": "e2676f0b-7a25-4eff-d1cc-bf58502e6d23"
      },
      "source": [
        "device = torch.device(\"cuda\" if torch.cuda.is_available() else \"cpu\")\n",
        "n_gpu = torch.cuda.device_count()\n",
        "print(\"device: {} n_gpu: {}\".format(device, n_gpu)) "
      ],
      "execution_count": null,
      "outputs": [
        {
          "output_type": "stream",
          "text": [
            "device: cuda n_gpu: 1\n"
          ],
          "name": "stdout"
        }
      ]
    },
    {
      "cell_type": "code",
      "metadata": {
        "id": "ZL5xOuWM9OKP",
        "colab": {
          "base_uri": "https://localhost:8080/"
        },
        "outputId": "329e1ecd-d916-4d58-8bf9-8a5610ff4baf"
      },
      "source": [
        "logging.basicConfig(format = '%(asctime)s - %(levelname)s - %(name)s -   %(message)s',\n",
        "                    datefmt = '%m/%d/%Y %H:%M:%S',\n",
        "                    level = logging.INFO)\n",
        "logger = logging.getLogger(__name__)\n",
        "print(logger)"
      ],
      "execution_count": null,
      "outputs": [
        {
          "output_type": "stream",
          "text": [
            "<Logger __main__ (INFO)>\n"
          ],
          "name": "stdout"
        }
      ]
    },
    {
      "cell_type": "markdown",
      "metadata": {
        "id": "-51uiEKJ9SGG"
      },
      "source": [
        "#Data Processing"
      ]
    },
    {
      "cell_type": "markdown",
      "metadata": {
        "id": "aPnAk7bgMtiI"
      },
      "source": [
        "Function to tokenize input dataframe (Query, Sentence, Label) and return tensorDatset with corresponding input_id, attention_masks and labels as a PyTorch dataloader. "
      ]
    },
    {
      "cell_type": "code",
      "metadata": {
        "id": "B9ebvwdy9bPc"
      },
      "source": [
        "def create_dataloader(tokenizer, df):\n",
        "    input_ids= list()\n",
        "    attention_masks= list()\n",
        "\n",
        "    print(\"Shape: {}\".format(df.shape))\n",
        "\n",
        "    special_sentences_1 = [sentence for i, sentence in enumerate(df.question)]\n",
        "    special_sentences_2 = [\" [SEP] \" + str(sentence) for i, sentence in enumerate(df.sentence)]\n",
        "    special_sentences = [i + j for i, j in zip(special_sentences_1, special_sentences_2)]\n",
        "\n",
        "    for sentence in special_sentences:\n",
        "      encoded_text = tokenizer.encode_plus(sentence, max_length=512, add_special_tokens=True, return_token_type_ids=False, \n",
        "                                       padding='max_length', return_attention_mask=True, truncation=True)\n",
        "      input_ids.append(encoded_text['input_ids'])\n",
        "      attention_masks.append(encoded_text['attention_mask'])\n",
        "\n",
        "    inputs = torch.tensor(input_ids).to(device)\n",
        "    masks = torch.tensor(attention_masks).to(device)\n",
        "    gold_labels = torch.tensor(df.sia_score.tolist()).to(device)\n",
        "  \n",
        "    data = TensorDataset(inputs, masks, gold_labels)\n",
        "    sampler = RandomSampler(data)\n",
        "    dataloader = DataLoader(data, sampler=sampler, batch_size=4)\n",
        "\n",
        "    return dataloader"
      ],
      "execution_count": null,
      "outputs": []
    },
    {
      "cell_type": "markdown",
      "metadata": {
        "id": "HVf0RoytN-Qz"
      },
      "source": [
        "To load the dataset from google drive.\n",
        "\n",
        "**!!! Please change the directory accordingly !!!**\n",
        "\n",
        "Performing the train-test split after shuffling the dataset."
      ]
    },
    {
      "cell_type": "code",
      "metadata": {
        "id": "W4aFg_k79ihP"
      },
      "source": [
        "load_data= '/content/drive/My Drive/phase2_experiments/Data'\n",
        "\n",
        "data_df= pd.read_csv(join(load_data,'qasc_train.csv'))\n",
        "data_df= shuffle(data_df)\n",
        "\n",
        "train_df, test_df= train_test_split(data_df, test_size=0.2)"
      ],
      "execution_count": null,
      "outputs": []
    },
    {
      "cell_type": "markdown",
      "metadata": {
        "id": "Hme5lMASO0ya"
      },
      "source": [
        "Loading pretrained 'roberta-base' tokenizer and creating dataloader for train & test dataframes."
      ]
    },
    {
      "cell_type": "code",
      "metadata": {
        "id": "EGwP2HAe-XOt",
        "colab": {
          "base_uri": "https://localhost:8080/",
          "height": 237,
          "referenced_widgets": [
            "051ce60a0f91494eafb747104feafeaf",
            "2d0948d6bfbf438cb27e64d0fef11f6e",
            "3fa972f88bcb465389619aafbeaddff0",
            "8d854744dc9a4dbea4a7899c94d33000",
            "cc6ef5e6aea74dd396120a282ce98629",
            "ff32880313c64a2b8706ef4fb49c779b",
            "ab875e9d87814384ac24bed1dc2f6cd2",
            "9322d3aa709846b1a516cccade82db75",
            "96811de5a6c848cd9b27b3674fd92475",
            "11d3a67f9e344bd58efca6f14869490d",
            "6d2a9f31c3d24c1c8458b2e6aa211571",
            "f06df6b2fb084f7d94dd91cc78540a28",
            "4172fd80588f4dbf938fda743fb9b3b4",
            "d07a0bcf9ec2482e8f5f2fecb74e291e",
            "8c007414a40545138a31e8110444618c",
            "d81e7a2b97334a2ca4f8f2a9c1a166fa"
          ]
        },
        "outputId": "372a8bbe-cd10-4e9e-c8ac-2cba03f799a2"
      },
      "source": [
        "#Dataloaders\n",
        "tokenizer = RobertaTokenizer.from_pretrained('roberta-base')\n",
        "train_dataloader= create_dataloader(tokenizer, train_df)\n",
        "test_dataloader= create_dataloader(tokenizer, test_df)"
      ],
      "execution_count": null,
      "outputs": [
        {
          "output_type": "stream",
          "text": [
            "11/15/2020 19:14:25 - INFO - filelock -   Lock 140302031761080 acquired on /root/.cache/torch/transformers/d3ccdbfeb9aaa747ef20432d4976c32ee3fa69663b379deb253ccfce2bb1fdc5.d67d6b367eb24ab43b08ad55e014cf254076934f71d832bbab9ad35644a375ab.lock\n"
          ],
          "name": "stderr"
        },
        {
          "output_type": "display_data",
          "data": {
            "application/vnd.jupyter.widget-view+json": {
              "model_id": "051ce60a0f91494eafb747104feafeaf",
              "version_minor": 0,
              "version_major": 2
            },
            "text/plain": [
              "HBox(children=(FloatProgress(value=0.0, description='Downloading', max=898823.0, style=ProgressStyle(descripti…"
            ]
          },
          "metadata": {
            "tags": []
          }
        },
        {
          "output_type": "stream",
          "text": [
            "11/15/2020 19:14:26 - INFO - filelock -   Lock 140302031761080 released on /root/.cache/torch/transformers/d3ccdbfeb9aaa747ef20432d4976c32ee3fa69663b379deb253ccfce2bb1fdc5.d67d6b367eb24ab43b08ad55e014cf254076934f71d832bbab9ad35644a375ab.lock\n"
          ],
          "name": "stderr"
        },
        {
          "output_type": "stream",
          "text": [
            "\n"
          ],
          "name": "stdout"
        },
        {
          "output_type": "stream",
          "text": [
            "11/15/2020 19:14:26 - INFO - filelock -   Lock 140302031761080 acquired on /root/.cache/torch/transformers/cafdecc90fcab17011e12ac813dd574b4b3fea39da6dd817813efa010262ff3f.5d12962c5ee615a4c803841266e9c3be9a691a924f72d395d3a6c6c81157788b.lock\n"
          ],
          "name": "stderr"
        },
        {
          "output_type": "display_data",
          "data": {
            "application/vnd.jupyter.widget-view+json": {
              "model_id": "96811de5a6c848cd9b27b3674fd92475",
              "version_minor": 0,
              "version_major": 2
            },
            "text/plain": [
              "HBox(children=(FloatProgress(value=0.0, description='Downloading', max=456318.0, style=ProgressStyle(descripti…"
            ]
          },
          "metadata": {
            "tags": []
          }
        },
        {
          "output_type": "stream",
          "text": [
            "11/15/2020 19:14:27 - INFO - filelock -   Lock 140302031761080 released on /root/.cache/torch/transformers/cafdecc90fcab17011e12ac813dd574b4b3fea39da6dd817813efa010262ff3f.5d12962c5ee615a4c803841266e9c3be9a691a924f72d395d3a6c6c81157788b.lock\n"
          ],
          "name": "stderr"
        },
        {
          "output_type": "stream",
          "text": [
            "\n",
            "Shape: (32000, 3)\n",
            "Shape: (8000, 3)\n"
          ],
          "name": "stdout"
        }
      ]
    },
    {
      "cell_type": "markdown",
      "metadata": {
        "id": "lXtqwzjtHMM_"
      },
      "source": [
        "# Model"
      ]
    },
    {
      "cell_type": "markdown",
      "metadata": {
        "id": "IxGD23NFQOe2"
      },
      "source": [
        "Model: 'roberta-base' with a Linear layer on top to generate SIA scores."
      ]
    },
    {
      "cell_type": "code",
      "metadata": {
        "id": "objCF2naHNeR"
      },
      "source": [
        "#Class for Regression\n",
        "class Regressor(nn.Module):\n",
        "\n",
        "  def __init__(self):\n",
        "    super(Regressor, self).__init__()\n",
        "    self.bert = RobertaModel.from_pretrained('roberta-base')\n",
        "    self.out = nn.Linear(self.bert.config.hidden_size, 1)\n",
        "\n",
        "  def forward(self, input_ids, attention_mask):\n",
        "    output, pooler_out = self.bert(input_ids=input_ids, attention_mask=attention_mask)\n",
        "    score= self.out(pooler_out)\n",
        "    return score\n",
        "    "
      ],
      "execution_count": null,
      "outputs": []
    },
    {
      "cell_type": "markdown",
      "metadata": {
        "id": "Y0lUjY7RPbwt"
      },
      "source": [
        "Model Initialization with:\n",
        "\n",
        "* 10 epochs\n",
        "\n",
        "* 'AdamW' optimizer\n",
        "\n",
        "* Mean Squared Error (MSE) Loss function"
      ]
    },
    {
      "cell_type": "code",
      "metadata": {
        "id": "n2nHjhrpHV3b",
        "colab": {
          "base_uri": "https://localhost:8080/",
          "height": 203,
          "referenced_widgets": [
            "8d1c048dc44642dd857be772db0a82a3",
            "643b86e207754e4583205b0ee178d746",
            "0f28849178be41b7b3dc5e4305d12b5a",
            "e9c4601c5d4e4d26a22185bc18c2ba66",
            "56a7fd81c6db4385905eb4ab18d742e1",
            "026a50da3b9b4b0eab7454093bc449d6",
            "94450a6a58464ec4ab9c55a3e22079a9",
            "d8611ae31e1b48bfa68531820e146af0",
            "f948b86bebe44f2580bcf7d8233c97ac",
            "3fe1e4b8a6a445ccb753e6ed211c1bed",
            "e6d1546b7f67442a8a9a961fe61bf119",
            "39deecd71768497eae555c2c3d76c59a",
            "6595f3a4a81e4d6f94089c629cf6fe97",
            "513301a9806f4ec08c466392086ce517",
            "cf27a5a017214323bfa7cda5a4574b4b",
            "b3bcbb0c94cd46189a9a98cf7fd63fd5"
          ]
        },
        "outputId": "0c34027d-0bfb-4c3c-ef2f-77a1c0d7ae3f"
      },
      "source": [
        "#Model Intialization\n",
        "\n",
        "epochs=10\n",
        "\n",
        "#Load Model\n",
        "model= Regressor()\n",
        "model.to(device)\n",
        "\n",
        "# Prepare optimizer\n",
        "optimizer = AdamW(model.parameters(),lr=2e-5)\n",
        "\n",
        "#Loss Function\n",
        "mse_loss= nn.MSELoss().to(device)"
      ],
      "execution_count": null,
      "outputs": [
        {
          "output_type": "stream",
          "text": [
            "11/15/2020 19:14:54 - INFO - filelock -   Lock 140299533510640 acquired on /root/.cache/torch/transformers/733bade19e5f0ce98e6531021dd5180994bb2f7b8bd7e80c7968805834ba351e.35205c6cfc956461d8515139f0f8dd5d207a2f336c0c3a83b4bc8dca3518e37b.lock\n"
          ],
          "name": "stderr"
        },
        {
          "output_type": "display_data",
          "data": {
            "application/vnd.jupyter.widget-view+json": {
              "model_id": "8d1c048dc44642dd857be772db0a82a3",
              "version_minor": 0,
              "version_major": 2
            },
            "text/plain": [
              "HBox(children=(FloatProgress(value=0.0, description='Downloading', max=481.0, style=ProgressStyle(description_…"
            ]
          },
          "metadata": {
            "tags": []
          }
        },
        {
          "output_type": "stream",
          "text": [
            "11/15/2020 19:14:54 - INFO - filelock -   Lock 140299533510640 released on /root/.cache/torch/transformers/733bade19e5f0ce98e6531021dd5180994bb2f7b8bd7e80c7968805834ba351e.35205c6cfc956461d8515139f0f8dd5d207a2f336c0c3a83b4bc8dca3518e37b.lock\n"
          ],
          "name": "stderr"
        },
        {
          "output_type": "stream",
          "text": [
            "\n"
          ],
          "name": "stdout"
        },
        {
          "output_type": "stream",
          "text": [
            "11/15/2020 19:14:54 - INFO - filelock -   Lock 140299576170368 acquired on /root/.cache/torch/transformers/51ba668f7ff34e7cdfa9561e8361747738113878850a7d717dbc69de8683aaad.c7efaa30a0d80b2958b876969faa180e485944a849deee4ad482332de65365a7.lock\n"
          ],
          "name": "stderr"
        },
        {
          "output_type": "display_data",
          "data": {
            "application/vnd.jupyter.widget-view+json": {
              "model_id": "f948b86bebe44f2580bcf7d8233c97ac",
              "version_minor": 0,
              "version_major": 2
            },
            "text/plain": [
              "HBox(children=(FloatProgress(value=0.0, description='Downloading', max=501200538.0, style=ProgressStyle(descri…"
            ]
          },
          "metadata": {
            "tags": []
          }
        },
        {
          "output_type": "stream",
          "text": [
            "11/15/2020 19:15:36 - INFO - filelock -   Lock 140299576170368 released on /root/.cache/torch/transformers/51ba668f7ff34e7cdfa9561e8361747738113878850a7d717dbc69de8683aaad.c7efaa30a0d80b2958b876969faa180e485944a849deee4ad482332de65365a7.lock\n"
          ],
          "name": "stderr"
        },
        {
          "output_type": "stream",
          "text": [
            "\n"
          ],
          "name": "stdout"
        }
      ]
    },
    {
      "cell_type": "markdown",
      "metadata": {
        "id": "pQ2Y6ATjHdFL"
      },
      "source": [
        "#Training and Evaluation"
      ]
    },
    {
      "cell_type": "markdown",
      "metadata": {
        "id": "FDWWMBZtQp0N"
      },
      "source": [
        "Creating output directory:\n",
        "model_path= '/content/drive/My Drive/phase2_experiments/SIA_EXPERIMENT/model_QASCrobertabase_fulltraindataset_10epochs'\n",
        "\n",
        "result_path= '/content/drive/My Drive/phase2_experiments/SIA_EXPERIMENT/results_baseroberta_QASC_fulltraindataset_10epochs'"
      ]
    },
    {
      "cell_type": "code",
      "metadata": {
        "id": "XorrsE4iHfNz"
      },
      "source": [
        "output_dir= '/content/drive/My Drive/phase2_experiments/SIA_EXPERIMENT/model_QASCrobertabase_fulltraindataset_10epochs'\n",
        "output_result= '/content/drive/My Drive/phase2_experiments/SIA_EXPERIMENT/results_baseroberta_QASC_fulltraindataset_10epochs'\n",
        "\n",
        "if not os.path.exists(output_dir):\n",
        "  os.makedirs(output_dir)\n",
        "\n",
        "if not os.path.exists(output_result):\n",
        "  os.makedirs(output_result)"
      ],
      "execution_count": null,
      "outputs": []
    },
    {
      "cell_type": "markdown",
      "metadata": {
        "id": "B_93zgQbRRmm"
      },
      "source": [
        "Model training followed by model evaluation"
      ]
    },
    {
      "cell_type": "code",
      "metadata": {
        "id": "igAHY2yyH13H",
        "colab": {
          "base_uri": "https://localhost:8080/",
          "height": 746,
          "referenced_widgets": [
            "fc2f08edb0ee4a4d95cfbc0b67e6761c",
            "325917cc6d06436ebcd197c10fdb47ff",
            "5064166756ba47198a805243aa6ff395",
            "d834af58751446cc8d960a780c3f961c",
            "97a51b239cec4ed6aa2447f570a89348",
            "f142f811b3ff41c98e6b662de1b5dace",
            "192a874b858d4b27bbf0c50f9305d402",
            "5dd3c1e3d4fb4e198dc73433a13b76d0"
          ]
        },
        "outputId": "6a5d8c81-4336-40ab-e7fb-8950f109fff2"
      },
      "source": [
        "for iteration in tnrange(epochs, desc='Epochs'):\n",
        "  model.train()\n",
        "  logger.info(\"Running for iteration: {}\".format(iteration+1))\n",
        "\n",
        "  training_loss, training_steps=0,0\n",
        "  true_labels, predicted_labels= list(), list()\n",
        "  \n",
        "  for step, batch in enumerate(train_dataloader):\n",
        "    batch = tuple(t.to(device) for t in batch)\n",
        "    ip_ids, masks, gold_labels= batch\n",
        "    score = model(ip_ids, attention_mask=masks)\n",
        "    score = score.squeeze(1)\n",
        "    loss= mse_loss(score, gold_labels.float())\n",
        "    loss.backward()\n",
        "    optimizer.step()\n",
        "    optimizer.zero_grad()\n",
        "    training_loss+=loss.item()\n",
        "    training_steps+=1\n",
        "    if (step+1)%10000 == 0:\n",
        "      print(step+1)\n",
        "\n",
        "    true_labels.extend(gold_labels.cpu().numpy())\n",
        "    predicted_labels.extend(score.detach().cpu().numpy())\n",
        "  \n",
        "  training_loss_for_epoch= training_loss/training_steps\n",
        "  pcc= pearsonr(true_labels, predicted_labels)\n",
        "  rmse= mean_squared_error(true_labels, predicted_labels, squared=False)\n",
        "  accuracy=r2_score(true_labels, predicted_labels)\n",
        "  result = {'loss': training_loss_for_epoch, 'PCC': pcc[0], 'RMSE':rmse, 'R2_score':accuracy}\n",
        "  print(result)\n",
        "\n",
        "  model_to_save = model.bert.module if hasattr(model.bert, 'module') else model.bert\n",
        "  model_to_save.save_pretrained(output_dir)\n",
        "\n",
        "  torch.save(model.out.state_dict(), join(output_dir, 'model_state.bin'))\n",
        "\n",
        "  #Testing\n",
        "  print(\"Running evaluation for epoch: {}\".format(iteration+1))\n",
        "\n",
        "  true_labels, predicted_labels= list(), list()\n",
        "  model.eval()\n",
        "  with torch.no_grad():\n",
        "    for step, batch in enumerate(test_dataloader):\n",
        "      batch = tuple(t.to(device) for t in batch)\n",
        "      ip_ids, masks, gold_labels= batch\n",
        "      score = model(ip_ids, attention_mask=masks)\n",
        "      score = score.squeeze(1)\n",
        "\n",
        "      true_labels.extend(gold_labels.cpu().numpy())\n",
        "      predicted_labels.extend(score.detach().cpu().numpy())\n",
        "  \n",
        "  pcc= pearsonr(true_labels, predicted_labels)\n",
        "  rmse= mean_squared_error(true_labels, predicted_labels, squared=False)\n",
        "  accuracy=r2_score(true_labels, predicted_labels)\n",
        "  test_report= {'PCC': pcc[0], 'RMSE':str(rmse), 'R2_score':str(accuracy)}\n",
        "  print(test_report)\n",
        "\n",
        "  with open(join(output_result, 'result_'+str(iteration+1)+'.json'), 'w') as fp:\n",
        "    json.dump(test_report, fp)"
      ],
      "execution_count": null,
      "outputs": [
        {
          "output_type": "display_data",
          "data": {
            "application/vnd.jupyter.widget-view+json": {
              "model_id": "fc2f08edb0ee4a4d95cfbc0b67e6761c",
              "version_minor": 0,
              "version_major": 2
            },
            "text/plain": [
              "HBox(children=(FloatProgress(value=0.0, description='Epochs', max=10.0, style=ProgressStyle(description_width=…"
            ]
          },
          "metadata": {
            "tags": []
          }
        },
        {
          "output_type": "stream",
          "text": [
            "11/15/2020 03:26:54 - INFO - __main__ -   Running for iteration: 1\n"
          ],
          "name": "stderr"
        },
        {
          "output_type": "stream",
          "text": [
            "{'loss': 0.316948220959006, 'PCC': 0.858252803836929, 'RMSE': 0.56298155, 'R2_score': 0.7362694053764729}\n",
            "Running evaluation for epoch: 1\n"
          ],
          "name": "stdout"
        },
        {
          "output_type": "stream",
          "text": [
            "11/15/2020 04:01:58 - INFO - __main__ -   Running for iteration: 2\n"
          ],
          "name": "stderr"
        },
        {
          "output_type": "stream",
          "text": [
            "{'PCC': 0.8979805223259498, 'RMSE': '0.50079584', 'R2_score': '0.7904944670123933'}\n",
            "{'loss': 0.2212345151767513, 'PCC': 0.9033047344949144, 'RMSE': 0.47035575, 'R2_score': 0.8159121588982058}\n",
            "Running evaluation for epoch: 2\n"
          ],
          "name": "stdout"
        },
        {
          "output_type": "stream",
          "text": [
            "11/15/2020 04:37:02 - INFO - __main__ -   Running for iteration: 3\n"
          ],
          "name": "stderr"
        },
        {
          "output_type": "stream",
          "text": [
            "{'PCC': 0.9094765989371809, 'RMSE': '0.46191233', 'R2_score': '0.8217649542315048'}\n",
            "{'loss': 0.17380989143368789, 'PCC': 0.9248766032252225, 'RMSE': 0.41690513, 'R2_score': 0.8553738887145862}\n",
            "Running evaluation for epoch: 3\n"
          ],
          "name": "stdout"
        },
        {
          "output_type": "stream",
          "text": [
            "11/15/2020 05:12:05 - INFO - __main__ -   Running for iteration: 4\n"
          ],
          "name": "stderr"
        },
        {
          "output_type": "stream",
          "text": [
            "{'PCC': 0.9156299878892413, 'RMSE': '0.44493178', 'R2_score': '0.83462841922913'}\n",
            "{'loss': 0.1494600441532748, 'PCC': 0.935762721466353, 'RMSE': 0.38660064, 'R2_score': 0.875635242519454}\n",
            "Running evaluation for epoch: 4\n"
          ],
          "name": "stdout"
        },
        {
          "output_type": "stream",
          "text": [
            "11/15/2020 05:47:07 - INFO - __main__ -   Running for iteration: 5\n"
          ],
          "name": "stderr"
        },
        {
          "output_type": "stream",
          "text": [
            "{'PCC': 0.9152833553872414, 'RMSE': '0.45028162', 'R2_score': '0.8306276773726227'}\n",
            "{'loss': 0.12332130304044403, 'PCC': 0.9473086608556127, 'RMSE': 0.3511713, 'R2_score': 0.8973851236104324}\n",
            "Running evaluation for epoch: 5\n"
          ],
          "name": "stdout"
        },
        {
          "output_type": "stream",
          "text": [
            "11/15/2020 06:22:09 - INFO - __main__ -   Running for iteration: 6\n"
          ],
          "name": "stderr"
        },
        {
          "output_type": "stream",
          "text": [
            "{'PCC': 0.9188627585177381, 'RMSE': '0.44012833', 'R2_score': '0.8381798158688042'}\n",
            "{'loss': 0.10595071901914525, 'PCC': 0.9549068179909379, 'RMSE': 0.32550073, 'R2_score': 0.9118390767606472}\n",
            "Running evaluation for epoch: 6\n"
          ],
          "name": "stdout"
        },
        {
          "output_type": "stream",
          "text": [
            "11/15/2020 06:57:11 - INFO - __main__ -   Running for iteration: 7\n"
          ],
          "name": "stderr"
        },
        {
          "output_type": "stream",
          "text": [
            "{'PCC': 0.9130338714252875, 'RMSE': '0.4476361', 'R2_score': '0.8326120364246362'}\n",
            "{'loss': 0.0917778914096034, 'PCC': 0.9610606841018872, 'RMSE': 0.30294865, 'R2_score': 0.9236321970252168}\n",
            "Running evaluation for epoch: 7\n"
          ],
          "name": "stdout"
        },
        {
          "output_type": "stream",
          "text": [
            "11/15/2020 07:32:13 - INFO - __main__ -   Running for iteration: 8\n"
          ],
          "name": "stderr"
        },
        {
          "output_type": "stream",
          "text": [
            "{'PCC': 0.9160084275279966, 'RMSE': '0.44207308', 'R2_score': '0.8367466389865281'}\n",
            "{'loss': 0.08444063032502527, 'PCC': 0.9642308147659806, 'RMSE': 0.29058668, 'R2_score': 0.9297374855472638}\n",
            "Running evaluation for epoch: 8\n"
          ],
          "name": "stdout"
        },
        {
          "output_type": "stream",
          "text": [
            "11/15/2020 08:07:18 - INFO - __main__ -   Running for iteration: 9\n"
          ],
          "name": "stderr"
        },
        {
          "output_type": "stream",
          "text": [
            "{'PCC': 0.9195819913636367, 'RMSE': '0.44827202', 'R2_score': '0.8321361391442683'}\n",
            "{'loss': 0.07514111007013344, 'PCC': 0.9682347542115222, 'RMSE': 0.2741188, 'R2_score': 0.9374755575275201}\n",
            "Running evaluation for epoch: 9\n"
          ],
          "name": "stdout"
        },
        {
          "output_type": "stream",
          "text": [
            "11/15/2020 08:42:22 - INFO - __main__ -   Running for iteration: 10\n"
          ],
          "name": "stderr"
        },
        {
          "output_type": "stream",
          "text": [
            "{'PCC': 0.9208929302438675, 'RMSE': '0.4273876', 'R2_score': '0.847412896861006'}\n",
            "{'loss': 0.06918799543561363, 'PCC': 0.9707894576520302, 'RMSE': 0.2630361, 'R2_score': 0.9424291066194148}\n",
            "Running evaluation for epoch: 10\n",
            "{'PCC': 0.9165741118469044, 'RMSE': '0.44762945', 'R2_score': '0.832617001662687'}\n",
            "\n"
          ],
          "name": "stdout"
        }
      ]
    },
    {
      "cell_type": "markdown",
      "metadata": {
        "id": "LcvxpXXXkfsy"
      },
      "source": [
        "# Visualizing the results"
      ]
    },
    {
      "cell_type": "code",
      "metadata": {
        "id": "amWhbDQmkbx5",
        "colab": {
          "base_uri": "https://localhost:8080/"
        },
        "outputId": "b6eb0972-6e8f-4248-a2f3-a714af1d4cd5"
      },
      "source": [
        "filepaths= glob.glob(join(output_result,'*.json'))\n",
        "\n",
        "pcc, rmse= list(), list()\n",
        "\n",
        "for path in filepaths:\n",
        "  print(path)\n",
        "  f = open(path,'r')\n",
        "  data = json.load(f)\n",
        "  pcc.append(data['PCC'])  \n",
        "  rmse.append(float(data['RMSE']))"
      ],
      "execution_count": null,
      "outputs": [
        {
          "output_type": "stream",
          "text": [
            "/content/drive/My Drive/QASC-DATASET/data/QASC_Dataset/sia_experiment/results_baseroberta_QASC_40ktraindataset_10epochs/result_1.json\n",
            "/content/drive/My Drive/QASC-DATASET/data/QASC_Dataset/sia_experiment/results_baseroberta_QASC_40ktraindataset_10epochs/result_2.json\n",
            "/content/drive/My Drive/QASC-DATASET/data/QASC_Dataset/sia_experiment/results_baseroberta_QASC_40ktraindataset_10epochs/result_3.json\n",
            "/content/drive/My Drive/QASC-DATASET/data/QASC_Dataset/sia_experiment/results_baseroberta_QASC_40ktraindataset_10epochs/result_4.json\n",
            "/content/drive/My Drive/QASC-DATASET/data/QASC_Dataset/sia_experiment/results_baseroberta_QASC_40ktraindataset_10epochs/result_5.json\n",
            "/content/drive/My Drive/QASC-DATASET/data/QASC_Dataset/sia_experiment/results_baseroberta_QASC_40ktraindataset_10epochs/result_6.json\n",
            "/content/drive/My Drive/QASC-DATASET/data/QASC_Dataset/sia_experiment/results_baseroberta_QASC_40ktraindataset_10epochs/result_7.json\n",
            "/content/drive/My Drive/QASC-DATASET/data/QASC_Dataset/sia_experiment/results_baseroberta_QASC_40ktraindataset_10epochs/result_8.json\n",
            "/content/drive/My Drive/QASC-DATASET/data/QASC_Dataset/sia_experiment/results_baseroberta_QASC_40ktraindataset_10epochs/result_9.json\n",
            "/content/drive/My Drive/QASC-DATASET/data/QASC_Dataset/sia_experiment/results_baseroberta_QASC_40ktraindataset_10epochs/result_10.json\n"
          ],
          "name": "stdout"
        }
      ]
    },
    {
      "cell_type": "code",
      "metadata": {
        "id": "P2P0TkTekmsO",
        "colab": {
          "base_uri": "https://localhost:8080/",
          "height": 545
        },
        "outputId": "7dcecc90-c0ce-4c10-ce15-602597e1cbce"
      },
      "source": [
        "#plot rmse\n",
        "plt.plot(rmse)\n",
        "plt.ylabel('RMSE')\n",
        "plt.xticks(range(1, 11))\n",
        "plt.xlabel('Epochs')\n",
        "plt.savefig(join(output_result, 'rmse.png'))\n",
        "plt.show()\n",
        "\n",
        "#plot\n",
        "plt.plot(pcc)\n",
        "plt.ylabel('PCC')\n",
        "plt.xticks(range(1, 11))\n",
        "plt.ylim(0, 1)\n",
        "plt.xlabel('Epochs')\n",
        "plt.savefig(join(output_result, 'pcc.png'))\n",
        "plt.show() "
      ],
      "execution_count": null,
      "outputs": [
        {
          "output_type": "display_data",
          "data": {
            "image/png": "[encoded data removed]",
            "text/plain": [
              "<Figure size 432x288 with 1 Axes>"
            ]
          },
          "metadata": {
            "tags": [],
            "needs_background": "light"
          }
        },
        {
          "output_type": "display_data",
          "data": {
            "image/png": "[encoded data removed]",
            "text/plain": [
              "<Figure size 432x288 with 1 Axes>"
            ]
          },
          "metadata": {
            "tags": [],
            "needs_background": "light"
          }
        }
      ]
    },
    {
      "cell_type": "code",
      "metadata": {
        "id": "samZLMGq0OD6"
      },
      "source": [
        ""
      ],
      "execution_count": null,
      "outputs": []
    },
    {
      "cell_type": "code",
      "metadata": {
        "id": "oKPcQvZuErKl",
        "colab": {
          "base_uri": "https://localhost:8080/",
          "height": 283
        },
        "outputId": "026efc01-c4f9-47a3-f951-1ec4b630e89d"
      },
      "source": [
        "#plot\n",
        "accuracy=[0.7904944670123933,0.8217649542315048,0.83462841922913,0.8306276773726227,0.8381798158688042,0.8326120364246362,0.8367466389865281,0.8321361391442683,0.847412896861006,0.832617001662687]\n",
        "plt.plot(accuracy)\n",
        "plt.ylabel('R2')\n",
        "plt.xticks(range(1, 11))\n",
        "plt.ylim(0, 1)\n",
        "plt.xlabel('Epochs')\n",
        "plt.savefig(join(output_result, 'R2.png'))\n",
        "plt.show() "
      ],
      "execution_count": null,
      "outputs": [
        {
          "output_type": "display_data",
          "data": {
            "image/png": "[encoded data removed]",
            "text/plain": [
              "<Figure size 432x288 with 1 Axes>"
            ]
          },
          "metadata": {
            "tags": [],
            "needs_background": "light"
          }
        }
      ]
    },
    {
      "cell_type": "code",
      "metadata": {
        "id": "cHLITgVm5Ck_",
        "colab": {
          "base_uri": "https://localhost:8080/",
          "height": 1000
        },
        "outputId": "d91a61e9-31df-4ab4-b24c-87aabc5059f6"
      },
      "source": [
        "!pip install allennlp==0.4.2\n"
      ],
      "execution_count": null,
      "outputs": [
        {
          "output_type": "stream",
          "text": [
            "Collecting allennlp==0.4.2\n",
            "\u001b[?25l  Downloading https://files.pythonhosted.org/packages/c5/60/fa613bdea022bd6c26176f5786efcc0b5a6d8acf97131e324179a99fcbaf/allennlp-0.4.2-py3-none-any.whl (710kB)\n",
            "\u001b[K     |████████████████████████████████| 716kB 9.7MB/s \n",
            "\u001b[?25hRequirement already satisfied: scikit-learn in /usr/local/lib/python3.6/dist-packages (from allennlp==0.4.2) (0.22.2.post1)\n",
            "Collecting typing\n",
            "\u001b[?25l  Downloading https://files.pythonhosted.org/packages/05/d9/6eebe19d46bd05360c9a9aae822e67a80f9242aabbfc58b641b957546607/typing-3.7.4.3.tar.gz (78kB)\n",
            "\u001b[K     |████████████████████████████████| 81kB 10.0MB/s \n",
            "\u001b[?25hRequirement already satisfied: nltk in /usr/local/lib/python3.6/dist-packages (from allennlp==0.4.2) (3.2.5)\n",
            "Requirement already satisfied: h5py in /usr/local/lib/python3.6/dist-packages (from allennlp==0.4.2) (2.10.0)\n",
            "Collecting argparse\n",
            "  Downloading https://files.pythonhosted.org/packages/f2/94/3af39d34be01a24a6e65433d19e107099374224905f1e0cc6bbe1fd22a2f/argparse-1.4.0-py2.py3-none-any.whl\n",
            "Collecting pyhocon==0.3.35\n",
            "\u001b[?25l  Downloading https://files.pythonhosted.org/packages/95/b9/72883593ce531e95ac8190e251ae6f5377eada69504248bf1aebfce4c5b4/pyhocon-0.3.35.tar.gz (94kB)\n",
            "\u001b[K     |████████████████████████████████| 102kB 9.7MB/s \n",
            "\u001b[?25hRequirement already satisfied: tqdm>=4.19 in /usr/local/lib/python3.6/dist-packages (from allennlp==0.4.2) (4.41.1)\n",
            "Collecting flask==0.12.1\n",
            "\u001b[?25l  Downloading https://files.pythonhosted.org/packages/f4/43/fb2d5fb1d10e1d0402dd57836cf9a78b7f69c8b5f76a04b6e6113d0d7c5a/Flask-0.12.1-py2.py3-none-any.whl (82kB)\n",
            "\u001b[K     |████████████████████████████████| 92kB 7.4MB/s \n",
            "\u001b[?25hCollecting pytz==2017.3\n",
            "\u001b[?25l  Downloading https://files.pythonhosted.org/packages/a3/7f/e7d1acbd433b929168a4fb4182a2ff3c33653717195a26c1de099ad1ef29/pytz-2017.3-py2.py3-none-any.whl (511kB)\n",
            "\u001b[K     |████████████████████████████████| 512kB 20.5MB/s \n",
            "\u001b[?25hRequirement already satisfied: scipy in /usr/local/lib/python3.6/dist-packages (from allennlp==0.4.2) (1.4.1)\n",
            "Requirement already satisfied: psycopg2 in /usr/local/lib/python3.6/dist-packages (from allennlp==0.4.2) (2.7.6.1)\n",
            "Collecting tensorboardX==1.0\n",
            "\u001b[?25l  Downloading https://files.pythonhosted.org/packages/fc/bf/b98db400dd0d8a500d4ab318c410701c5b6f2b9fdd220900569dbd0a8528/tensorboardX-1.0-py2.py3-none-any.whl (42kB)\n",
            "\u001b[K     |████████████████████████████████| 51kB 7.8MB/s \n",
            "\u001b[?25hCollecting flask-cors==3.0.3\n",
            "  Downloading https://files.pythonhosted.org/packages/83/a7/c7243ffd096a491013956c9ee71e2ed0b7d14979fafe89986ca2d30fc6f7/Flask_Cors-3.0.3-py2.py3-none-any.whl\n",
            "Collecting overrides\n",
            "  Downloading https://files.pythonhosted.org/packages/ff/b1/10f69c00947518e6676bbd43e739733048de64b8dd998e9c2d5a71f44c5d/overrides-3.1.0.tar.gz\n",
            "Collecting torch==0.3.1\n",
            "\u001b[?25l  Downloading https://files.pythonhosted.org/packages/5b/a5/e8b50b55b1abac9f1e3346c4242f1e42a82d368a8442cbd50c532922f6c4/torch-0.3.1-cp36-cp36m-manylinux1_x86_64.whl (496.4MB)\n",
            "\u001b[K     |████████████████████████████████| 496.4MB 30kB/s \n",
            "\u001b[?25hCollecting cffi==1.11.2\n",
            "\u001b[?25l  Downloading https://files.pythonhosted.org/packages/dc/1e/b383fde1f0a14b6ef5a60f71797c778ea1ef8bb34b726cb57061c0542c58/cffi-1.11.2-cp36-cp36m-manylinux1_x86_64.whl (419kB)\n",
            "\u001b[K     |████████████████████████████████| 430kB 70.2MB/s \n",
            "\u001b[?25hRequirement already satisfied: editdistance in /usr/local/lib/python3.6/dist-packages (from allennlp==0.4.2) (0.5.3)\n",
            "Collecting awscli>=1.11.91\n",
            "\u001b[?25l  Downloading https://files.pythonhosted.org/packages/5a/86/a1efc65ba5464744c241ef6d56f85c80ded898886ef781487d625bfe56d7/awscli-1.18.178-py2.py3-none-any.whl (3.4MB)\n",
            "\u001b[K     |████████████████████████████████| 3.5MB 64.3MB/s \n",
            "\u001b[?25hRequirement already satisfied: unidecode in /usr/local/lib/python3.6/dist-packages (from allennlp==0.4.2) (1.1.1)\n",
            "Requirement already satisfied: numpy in /usr/local/lib/python3.6/dist-packages (from allennlp==0.4.2) (1.18.5)\n",
            "Collecting spacy<2.1,>=2.0\n",
            "\u001b[?25l  Downloading https://files.pythonhosted.org/packages/ae/6e/a89da6b5c83f8811e46e3a9270c1aed90e9b9ee6c60faf52b7239e5d3d69/spacy-2.0.18-cp36-cp36m-manylinux1_x86_64.whl (25.2MB)\n",
            "\u001b[K     |████████████████████████████████| 25.2MB 127kB/s \n",
            "\u001b[?25hCollecting gevent==1.2.2\n",
            "\u001b[?25l  Downloading https://files.pythonhosted.org/packages/a3/af/438c505b62f630c203a6a6a5a3b6fec49524c0cda7ab6392be03999537ad/gevent-1.2.2-cp36-cp36m-manylinux1_x86_64.whl (1.7MB)\n",
            "\u001b[K     |████████████████████████████████| 1.7MB 54.3MB/s \n",
            "\u001b[?25hRequirement already satisfied: requests>=2.18 in /usr/local/lib/python3.6/dist-packages (from allennlp==0.4.2) (2.23.0)\n",
            "Requirement already satisfied: joblib>=0.11 in /usr/local/lib/python3.6/dist-packages (from scikit-learn->allennlp==0.4.2) (0.17.0)\n",
            "Requirement already satisfied: six in /usr/local/lib/python3.6/dist-packages (from nltk->allennlp==0.4.2) (1.15.0)\n",
            "Requirement already satisfied: pyparsing>=2.0.3 in /usr/local/lib/python3.6/dist-packages (from pyhocon==0.3.35->allennlp==0.4.2) (2.4.7)\n",
            "Requirement already satisfied: Werkzeug>=0.7 in /usr/local/lib/python3.6/dist-packages (from flask==0.12.1->allennlp==0.4.2) (1.0.1)\n",
            "Requirement already satisfied: itsdangerous>=0.21 in /usr/local/lib/python3.6/dist-packages (from flask==0.12.1->allennlp==0.4.2) (1.1.0)\n",
            "Requirement already satisfied: Jinja2>=2.4 in /usr/local/lib/python3.6/dist-packages (from flask==0.12.1->allennlp==0.4.2) (2.11.2)\n",
            "Requirement already satisfied: click>=2.0 in /usr/local/lib/python3.6/dist-packages (from flask==0.12.1->allennlp==0.4.2) (7.1.2)\n",
            "Requirement already satisfied: protobuf>=0.3.2 in /usr/local/lib/python3.6/dist-packages (from tensorboardX==1.0->allennlp==0.4.2) (3.12.4)\n",
            "Requirement already satisfied: pyyaml in /usr/local/lib/python3.6/dist-packages (from torch==0.3.1->allennlp==0.4.2) (3.13)\n",
            "Requirement already satisfied: pycparser in /usr/local/lib/python3.6/dist-packages (from cffi==1.11.2->allennlp==0.4.2) (2.20)\n",
            "Collecting rsa<=4.5.0,>=3.1.2; python_version != \"3.4\"\n",
            "  Downloading https://files.pythonhosted.org/packages/26/f8/8127fdda0294f044121d20aac7785feb810e159098447967a6103dedfb96/rsa-4.5-py2.py3-none-any.whl\n",
            "Collecting s3transfer<0.4.0,>=0.3.0\n",
            "\u001b[?25l  Downloading https://files.pythonhosted.org/packages/69/79/e6afb3d8b0b4e96cefbdc690f741d7dd24547ff1f94240c997a26fa908d3/s3transfer-0.3.3-py2.py3-none-any.whl (69kB)\n",
            "\u001b[K     |████████████████████████████████| 71kB 11.3MB/s \n",
            "\u001b[?25hCollecting colorama<0.4.4,>=0.2.5; python_version != \"3.4\"\n",
            "  Downloading https://files.pythonhosted.org/packages/c9/dc/45cdef1b4d119eb96316b3117e6d5708a08029992b2fee2c143c7a0a5cc5/colorama-0.4.3-py2.py3-none-any.whl\n",
            "Collecting botocore==1.19.18\n",
            "\u001b[?25l  Downloading https://files.pythonhosted.org/packages/d1/e4/3f243b98244f13ac3f7bbe3ec6c4f8473194a200e9785d68696dc5e0d72f/botocore-1.19.18-py2.py3-none-any.whl (6.8MB)\n",
            "\u001b[K     |████████████████████████████████| 6.8MB 55.6MB/s \n",
            "\u001b[?25hCollecting docutils<0.16,>=0.10\n",
            "\u001b[?25l  Downloading https://files.pythonhosted.org/packages/22/cd/a6aa959dca619918ccb55023b4cb151949c64d4d5d55b3f4ffd7eee0c6e8/docutils-0.15.2-py3-none-any.whl (547kB)\n",
            "\u001b[K     |████████████████████████████████| 552kB 63.2MB/s \n",
            "\u001b[?25hCollecting plac<1.0.0,>=0.9.6\n",
            "  Downloading https://files.pythonhosted.org/packages/9e/9b/62c60d2f5bc135d2aa1d8c8a86aaf84edb719a59c7f11a4316259e61a298/plac-0.9.6-py2.py3-none-any.whl\n",
            "Requirement already satisfied: murmurhash<1.1.0,>=0.28.0 in /usr/local/lib/python3.6/dist-packages (from spacy<2.1,>=2.0->allennlp==0.4.2) (1.0.3)\n",
            "Collecting thinc<6.13.0,>=6.12.1\n",
            "\u001b[?25l  Downloading https://files.pythonhosted.org/packages/db/a7/46640a46fd707aeb204aa4257a70974b6a22a0204ba703164d803215776f/thinc-6.12.1-cp36-cp36m-manylinux1_x86_64.whl (1.9MB)\n",
            "\u001b[K     |████████████████████████████████| 1.9MB 43.9MB/s \n",
            "\u001b[?25hRequirement already satisfied: cymem<2.1.0,>=2.0.2 in /usr/local/lib/python3.6/dist-packages (from spacy<2.1,>=2.0->allennlp==0.4.2) (2.0.4)\n",
            "Collecting regex==2018.01.10\n",
            "\u001b[?25l  Downloading https://files.pythonhosted.org/packages/76/f4/7146c3812f96fcaaf2d06ff6862582302626a59011ccb6f2833bb38d80f7/regex-2018.01.10.tar.gz (612kB)\n",
            "\u001b[K     |████████████████████████████████| 614kB 54.1MB/s \n",
            "\u001b[?25hCollecting dill<0.3,>=0.2\n",
            "\u001b[?25l  Downloading https://files.pythonhosted.org/packages/fe/42/bfe2e0857bc284cbe6a011d93f2a9ad58a22cb894461b199ae72cfef0f29/dill-0.2.9.tar.gz (150kB)\n",
            "\u001b[K     |████████████████████████████████| 153kB 52.6MB/s \n",
            "\u001b[?25hCollecting ujson>=1.35\n",
            "\u001b[?25l  Downloading https://files.pythonhosted.org/packages/f1/84/e039c6ffc6603f2dfe966972d345d4f650a4ffd74b18c852ece645de12ac/ujson-4.0.1-cp36-cp36m-manylinux1_x86_64.whl (179kB)\n",
            "\u001b[K     |████████████████████████████████| 184kB 58.8MB/s \n",
            "\u001b[?25hCollecting preshed<2.1.0,>=2.0.1\n",
            "\u001b[?25l  Downloading https://files.pythonhosted.org/packages/20/93/f222fb957764a283203525ef20e62008675fd0a14ffff8cc1b1490147c63/preshed-2.0.1-cp36-cp36m-manylinux1_x86_64.whl (83kB)\n",
            "\u001b[K     |████████████████████████████████| 92kB 12.7MB/s \n",
            "\u001b[?25hCollecting greenlet>=0.4.10\n",
            "\u001b[?25l  Downloading https://files.pythonhosted.org/packages/80/d0/532e160c777b42f6f393f9de8c88abb8af6c892037c55e4d3a8a211324dd/greenlet-0.4.17-cp36-cp36m-manylinux1_x86_64.whl (44kB)\n",
            "\u001b[K     |████████████████████████████████| 51kB 7.9MB/s \n",
            "\u001b[?25hRequirement already satisfied: idna<3,>=2.5 in /usr/local/lib/python3.6/dist-packages (from requests>=2.18->allennlp==0.4.2) (2.10)\n",
            "Requirement already satisfied: urllib3!=1.25.0,!=1.25.1,<1.26,>=1.21.1 in /usr/local/lib/python3.6/dist-packages (from requests>=2.18->allennlp==0.4.2) (1.24.3)\n",
            "Requirement already satisfied: chardet<4,>=3.0.2 in /usr/local/lib/python3.6/dist-packages (from requests>=2.18->allennlp==0.4.2) (3.0.4)\n",
            "Requirement already satisfied: certifi>=2017.4.17 in /usr/local/lib/python3.6/dist-packages (from requests>=2.18->allennlp==0.4.2) (2020.6.20)\n",
            "Requirement already satisfied: MarkupSafe>=0.23 in /usr/local/lib/python3.6/dist-packages (from Jinja2>=2.4->flask==0.12.1->allennlp==0.4.2) (1.1.1)\n",
            "Requirement already satisfied: setuptools in /usr/local/lib/python3.6/dist-packages (from protobuf>=0.3.2->tensorboardX==1.0->allennlp==0.4.2) (50.3.2)\n",
            "Requirement already satisfied: pyasn1>=0.1.3 in /usr/local/lib/python3.6/dist-packages (from rsa<=4.5.0,>=3.1.2; python_version != \"3.4\"->awscli>=1.11.91->allennlp==0.4.2) (0.4.8)\n",
            "Collecting jmespath<1.0.0,>=0.7.1\n",
            "  Downloading https://files.pythonhosted.org/packages/07/cb/5f001272b6faeb23c1c9e0acc04d48eaaf5c862c17709d20e3469c6e0139/jmespath-0.10.0-py2.py3-none-any.whl\n",
            "Requirement already satisfied: python-dateutil<3.0.0,>=2.1 in /usr/local/lib/python3.6/dist-packages (from botocore==1.19.18->awscli>=1.11.91->allennlp==0.4.2) (2.8.1)\n",
            "Collecting msgpack<0.6.0,>=0.5.6\n",
            "\u001b[?25l  Downloading https://files.pythonhosted.org/packages/22/4e/dcf124fd97e5f5611123d6ad9f40ffd6eb979d1efdc1049e28a795672fcd/msgpack-0.5.6-cp36-cp36m-manylinux1_x86_64.whl (315kB)\n",
            "\u001b[K     |████████████████████████████████| 317kB 60.9MB/s \n",
            "\u001b[?25hCollecting msgpack-numpy<0.4.4\n",
            "  Downloading https://files.pythonhosted.org/packages/ad/45/464be6da85b5ca893cfcbd5de3b31a6710f636ccb8521b17bd4110a08d94/msgpack_numpy-0.4.3.2-py2.py3-none-any.whl\n",
            "Collecting cytoolz<0.10,>=0.9.0\n",
            "\u001b[?25l  Downloading https://files.pythonhosted.org/packages/36/f4/9728ba01ccb2f55df9a5af029b48ba0aaca1081bbd7823ea2ee223ba7a42/cytoolz-0.9.0.1.tar.gz (443kB)\n",
            "\u001b[K     |████████████████████████████████| 450kB 57.0MB/s \n",
            "\u001b[?25hCollecting wrapt<1.11.0,>=1.10.0\n",
            "  Downloading https://files.pythonhosted.org/packages/a0/47/66897906448185fcb77fc3c2b1bc20ed0ecca81a0f2f88eda3fc5a34fc3d/wrapt-1.10.11.tar.gz\n",
            "Requirement already satisfied: toolz>=0.8.0 in /usr/local/lib/python3.6/dist-packages (from cytoolz<0.10,>=0.9.0->thinc<6.13.0,>=6.12.1->spacy<2.1,>=2.0->allennlp==0.4.2) (0.11.1)\n",
            "Building wheels for collected packages: typing, pyhocon, overrides, regex, dill, cytoolz, wrapt\n",
            "  Building wheel for typing (setup.py) ... \u001b[?25l\u001b[?25hdone\n",
            "  Created wheel for typing: filename=typing-3.7.4.3-cp36-none-any.whl size=26307 sha256=c060a37e22708c362f56a8803d2c2ede3335ee2adb0f59fefde7dcbd27046d0b\n",
            "  Stored in directory: /root/.cache/pip/wheels/2d/04/41/8e1836e79581989c22eebac3f4e70aaac9af07b0908da173be\n",
            "  Building wheel for pyhocon (setup.py) ... \u001b[?25l\u001b[?25hdone\n",
            "  Created wheel for pyhocon: filename=pyhocon-0.3.35-cp36-none-any.whl size=14125 sha256=5c8b6900c63c2afabe4b8de2ff26d5b2581fe854ef4b468f5223a7d13a6c3437\n",
            "  Stored in directory: /root/.cache/pip/wheels/97/ea/cd/d2b70c1cfa9e6b1242709de5a64fd46be8982bc42be56d9390\n",
            "  Building wheel for overrides (setup.py) ... \u001b[?25l\u001b[?25hdone\n",
            "  Created wheel for overrides: filename=overrides-3.1.0-cp36-none-any.whl size=10174 sha256=4e3fb723beccef7e4e7189701a0a2d800bf2c36be60149542046589349b9d23a\n",
            "  Stored in directory: /root/.cache/pip/wheels/5c/24/13/6ef8600e6f147c95e595f1289a86a3cc82ed65df57582c65a9\n",
            "  Building wheel for regex (setup.py) ... \u001b[?25l\u001b[?25hdone\n",
            "  Created wheel for regex: filename=regex-2018.1.10-cp36-cp36m-linux_x86_64.whl size=548025 sha256=3f97ec6d0ada43510aa7b2b7b6cfd583521a655c5287182b40510d83129cb294\n",
            "  Stored in directory: /root/.cache/pip/wheels/74/17/3f/c77bba99efd74ba1a19862c9dd97f4b6d735e2826721dc00ff\n",
            "  Building wheel for dill (setup.py) ... \u001b[?25l\u001b[?25hdone\n",
            "  Created wheel for dill: filename=dill-0.2.9-cp36-none-any.whl size=77406 sha256=04b5b26cc11ddfc9f16c9881a9bc6c88fed9109c31c00cbe70ed5d323d411b1d\n",
            "  Stored in directory: /root/.cache/pip/wheels/5b/d7/0f/e58eae695403de585269f4e4a94e0cd6ca60ec0c202936fa4a\n",
            "  Building wheel for cytoolz (setup.py) ... \u001b[?25l\u001b[?25hdone\n",
            "  Created wheel for cytoolz: filename=cytoolz-0.9.0.1-cp36-cp36m-linux_x86_64.whl size=1247715 sha256=1968bcfea775445df1d54d45b13fa7eeb7c25ebd412121eabd3648fb9555b2d7\n",
            "  Stored in directory: /root/.cache/pip/wheels/88/f3/11/9817b001e59ab04889e8cffcbd9087e2e2155b9ebecfc8dd38\n",
            "  Building wheel for wrapt (setup.py) ... \u001b[?25l\u001b[?25hdone\n",
            "  Created wheel for wrapt: filename=wrapt-1.10.11-cp36-cp36m-linux_x86_64.whl size=65119 sha256=43e3fb0e3efc64487f2753f711d8bcf8241b7185d5cb4340fe15f0110e1cffd8\n",
            "  Stored in directory: /root/.cache/pip/wheels/48/5d/04/22361a593e70d23b1f7746d932802efe1f0e523376a74f321e\n",
            "Successfully built typing pyhocon overrides regex dill cytoolz wrapt\n",
            "\u001b[31mERROR: torchvision 0.8.1+cu101 has requirement torch==1.7.0, but you'll have torch 0.3.1 which is incompatible.\u001b[0m\n",
            "\u001b[31mERROR: tensorflow 2.3.0 has requirement wrapt>=1.11.1, but you'll have wrapt 1.10.11 which is incompatible.\u001b[0m\n",
            "\u001b[31mERROR: rpy2 3.2.7 has requirement cffi>=1.13.1, but you'll have cffi 1.11.2 which is incompatible.\u001b[0m\n",
            "\u001b[31mERROR: multiprocess 0.70.10 has requirement dill>=0.3.2, but you'll have dill 0.2.9 which is incompatible.\u001b[0m\n",
            "\u001b[31mERROR: fastai 1.0.61 has requirement torch>=1.0.0, but you'll have torch 0.3.1 which is incompatible.\u001b[0m\n",
            "\u001b[31mERROR: en-core-web-sm 2.2.5 has requirement spacy>=2.2.2, but you'll have spacy 2.0.18 which is incompatible.\u001b[0m\n",
            "\u001b[31mERROR: datascience 0.10.6 has requirement folium==0.2.1, but you'll have folium 0.8.3 which is incompatible.\u001b[0m\n",
            "\u001b[31mERROR: botocore 1.19.18 has requirement urllib3<1.27,>=1.25.4; python_version != \"3.4\", but you'll have urllib3 1.24.3 which is incompatible.\u001b[0m\n",
            "Installing collected packages: typing, argparse, pyhocon, flask, pytz, tensorboardX, flask-cors, overrides, torch, cffi, rsa, jmespath, botocore, s3transfer, colorama, docutils, awscli, plac, preshed, msgpack, dill, msgpack-numpy, cytoolz, wrapt, thinc, regex, ujson, spacy, greenlet, gevent, allennlp\n",
            "  Found existing installation: Flask 1.1.2\n",
            "    Uninstalling Flask-1.1.2:\n",
            "      Successfully uninstalled Flask-1.1.2\n",
            "  Found existing installation: pytz 2018.9\n",
            "    Uninstalling pytz-2018.9:\n",
            "      Successfully uninstalled pytz-2018.9\n",
            "  Found existing installation: torch 1.7.0+cu101\n",
            "    Uninstalling torch-1.7.0+cu101:\n",
            "      Successfully uninstalled torch-1.7.0+cu101\n",
            "  Found existing installation: cffi 1.14.3\n",
            "    Uninstalling cffi-1.14.3:\n",
            "      Successfully uninstalled cffi-1.14.3\n",
            "  Found existing installation: rsa 4.6\n",
            "    Uninstalling rsa-4.6:\n",
            "      Successfully uninstalled rsa-4.6\n",
            "  Found existing installation: docutils 0.16\n",
            "    Uninstalling docutils-0.16:\n",
            "      Successfully uninstalled docutils-0.16\n",
            "  Found existing installation: plac 1.1.3\n",
            "    Uninstalling plac-1.1.3:\n",
            "      Successfully uninstalled plac-1.1.3\n",
            "  Found existing installation: preshed 3.0.2\n",
            "    Uninstalling preshed-3.0.2:\n",
            "      Successfully uninstalled preshed-3.0.2\n",
            "  Found existing installation: msgpack 1.0.0\n",
            "    Uninstalling msgpack-1.0.0:\n",
            "      Successfully uninstalled msgpack-1.0.0\n",
            "  Found existing installation: dill 0.3.3\n",
            "    Uninstalling dill-0.3.3:\n",
            "      Successfully uninstalled dill-0.3.3\n",
            "  Found existing installation: wrapt 1.12.1\n",
            "    Uninstalling wrapt-1.12.1:\n",
            "      Successfully uninstalled wrapt-1.12.1\n",
            "  Found existing installation: thinc 7.4.0\n",
            "    Uninstalling thinc-7.4.0:\n",
            "      Successfully uninstalled thinc-7.4.0\n",
            "  Found existing installation: regex 2019.12.20\n",
            "    Uninstalling regex-2019.12.20:\n",
            "      Successfully uninstalled regex-2019.12.20\n",
            "  Found existing installation: spacy 2.2.4\n",
            "    Uninstalling spacy-2.2.4:\n",
            "      Successfully uninstalled spacy-2.2.4\n",
            "Successfully installed allennlp-0.4.2 argparse-1.4.0 awscli-1.18.178 botocore-1.19.18 cffi-1.11.2 colorama-0.4.3 cytoolz-0.9.0.1 dill-0.2.9 docutils-0.15.2 flask-0.12.1 flask-cors-3.0.3 gevent-1.2.2 greenlet-0.4.17 jmespath-0.10.0 msgpack-0.5.6 msgpack-numpy-0.4.3.2 overrides-3.1.0 plac-0.9.6 preshed-2.0.1 pyhocon-0.3.35 pytz-2017.3 regex-2018.1.10 rsa-4.5 s3transfer-0.3.3 spacy-2.0.18 tensorboardX-1.0 thinc-6.12.1 torch-0.3.1 typing-3.7.4.3 ujson-4.0.1 wrapt-1.10.11\n"
          ],
          "name": "stdout"
        },
        {
          "output_type": "display_data",
          "data": {
            "application/vnd.colab-display-data+json": {
              "pip_warning": {
                "packages": [
                  "argparse",
                  "cffi",
                  "pytz",
                  "regex",
                  "rsa",
                  "torch",
                  "typing",
                  "wrapt"
                ]
              }
            }
          },
          "metadata": {
            "tags": []
          }
        }
      ]
    },
    {
      "cell_type": "code",
      "metadata": {
        "id": "4y1suA-z2zzI",
        "colab": {
          "base_uri": "https://localhost:8080/"
        },
        "outputId": "afdbe452-48ec-4187-efe2-b0609a6a9a0d"
      },
      "source": [
        "!python -m allennlp.run predict \\\n",
        "     --include-package qasc \\\n",
        "     --predictor multiple-choice-qa-json \\\n",
        "     --output-file data/nokb_predictions.jsonl \\\n",
        "     /content/drive/My Drive/QASC-DATASET/data/QASC_Dataset/sia_experiment/model_QASCrobertabase_40ktraindataset_10epochs/model_state.bin  \\\n",
        "     /content/drive/My Drive/QASC-DATASET/data/QASC_Dataset/test.jsonl"
      ],
      "execution_count": null,
      "outputs": [
        {
          "output_type": "stream",
          "text": [
            "/usr/local/lib/python3.6/dist-packages/sklearn/utils/linear_assignment_.py:22: FutureWarning: The linear_assignment_ module is deprecated in 0.21 and will be removed from 0.23. Use scipy.optimize.linear_sum_assignment instead.\n",
            "  FutureWarning)\n",
            "/usr/local/lib/python3.6/dist-packages/psycopg2/__init__.py:144: UserWarning: The psycopg2 wheel package will be renamed from release 2.8; in order to keep installing from binary please use \"pip install psycopg2-binary\" instead. For details see: <http://initd.org/psycopg/docs/install.html#binary-install-from-pypi>.\n",
            "  \"\"\")\n",
            "usage: python -m allennlp.run predict [-h] [--output-file OUTPUT_FILE]\n",
            "                                      [--weights-file WEIGHTS_FILE]\n",
            "                                      [--batch-size BATCH_SIZE] [--silent]\n",
            "                                      [--cuda-device CUDA_DEVICE]\n",
            "                                      [-o OVERRIDES] [--predictor PREDICTOR]\n",
            "                                      [--include-package INCLUDE_PACKAGE]\n",
            "                                      archive_file input_file\n",
            "python -m allennlp.run predict: error: argument --output-file: can't open 'data/nokb_predictions.jsonl': [Errno 2] No such file or directory: 'data/nokb_predictions.jsonl'\n"
          ],
          "name": "stdout"
        }
      ]
    },
    {
      "cell_type": "code",
      "metadata": {
        "id": "Ieqrod8O41zW"
      },
      "source": [
        ""
      ],
      "execution_count": null,
      "outputs": []
    }
  ]
}