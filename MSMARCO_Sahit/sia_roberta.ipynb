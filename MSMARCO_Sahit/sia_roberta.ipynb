{
  "nbformat": 4,
  "nbformat_minor": 0,
  "metadata": {
    "accelerator": "GPU",
    "colab": {
      "name": "sia_roberta.ipynb",
      "provenance": [],
      "collapsed_sections": [],
      "machine_shape": "hm"
    },
    "kernelspec": {
      "display_name": "Python 3",
      "name": "python3"
    },
    "widgets": {
      "application/vnd.jupyter.widget-state+json": {
        "ca9866a432b64505bc1a2db0601c0dcc": {
          "model_module": "@jupyter-widgets/controls",
          "model_name": "HBoxModel",
          "state": {
            "_view_name": "HBoxView",
            "_dom_classes": [],
            "_model_name": "HBoxModel",
            "_view_module": "@jupyter-widgets/controls",
            "_model_module_version": "1.5.0",
            "_view_count": null,
            "_view_module_version": "1.5.0",
            "box_style": "",
            "layout": "IPY_MODEL_2bd37c8c58294cfd812be4dc46a4cc1a",
            "_model_module": "@jupyter-widgets/controls",
            "children": [
              "IPY_MODEL_a49841e0664d433bb7619e6a32374c8d",
              "IPY_MODEL_098c0ff98933487a8369e3780ed9538b"
            ]
          }
        },
        "2bd37c8c58294cfd812be4dc46a4cc1a": {
          "model_module": "@jupyter-widgets/base",
          "model_name": "LayoutModel",
          "state": {
            "_view_name": "LayoutView",
            "grid_template_rows": null,
            "right": null,
            "justify_content": null,
            "_view_module": "@jupyter-widgets/base",
            "overflow": null,
            "_model_module_version": "1.2.0",
            "_view_count": null,
            "flex_flow": null,
            "width": null,
            "min_width": null,
            "border": null,
            "align_items": null,
            "bottom": null,
            "_model_module": "@jupyter-widgets/base",
            "top": null,
            "grid_column": null,
            "overflow_y": null,
            "overflow_x": null,
            "grid_auto_flow": null,
            "grid_area": null,
            "grid_template_columns": null,
            "flex": null,
            "_model_name": "LayoutModel",
            "justify_items": null,
            "grid_row": null,
            "max_height": null,
            "align_content": null,
            "visibility": null,
            "align_self": null,
            "height": null,
            "min_height": null,
            "padding": null,
            "grid_auto_rows": null,
            "grid_gap": null,
            "max_width": null,
            "order": null,
            "_view_module_version": "1.2.0",
            "grid_template_areas": null,
            "object_position": null,
            "object_fit": null,
            "grid_auto_columns": null,
            "margin": null,
            "display": null,
            "left": null
          }
        },
        "a49841e0664d433bb7619e6a32374c8d": {
          "model_module": "@jupyter-widgets/controls",
          "model_name": "FloatProgressModel",
          "state": {
            "_view_name": "ProgressView",
            "style": "IPY_MODEL_cef5f0024c8b4ff2b579c9e0be2cd0a2",
            "_dom_classes": [],
            "description": "Downloading: 100%",
            "_model_name": "FloatProgressModel",
            "bar_style": "success",
            "max": 898823,
            "_view_module": "@jupyter-widgets/controls",
            "_model_module_version": "1.5.0",
            "value": 898823,
            "_view_count": null,
            "_view_module_version": "1.5.0",
            "orientation": "horizontal",
            "min": 0,
            "description_tooltip": null,
            "_model_module": "@jupyter-widgets/controls",
            "layout": "IPY_MODEL_e56f26a234b043519d145cbc5e2cb5fd"
          }
        },
        "098c0ff98933487a8369e3780ed9538b": {
          "model_module": "@jupyter-widgets/controls",
          "model_name": "HTMLModel",
          "state": {
            "_view_name": "HTMLView",
            "style": "IPY_MODEL_f4ef795f63054ddbb87c0a2316e14126",
            "_dom_classes": [],
            "description": "",
            "_model_name": "HTMLModel",
            "placeholder": "​",
            "_view_module": "@jupyter-widgets/controls",
            "_model_module_version": "1.5.0",
            "value": " 899k/899k [00:01&lt;00:00, 510kB/s]",
            "_view_count": null,
            "_view_module_version": "1.5.0",
            "description_tooltip": null,
            "_model_module": "@jupyter-widgets/controls",
            "layout": "IPY_MODEL_ab7198cf200c4c0b853e0582959b56cc"
          }
        },
        "cef5f0024c8b4ff2b579c9e0be2cd0a2": {
          "model_module": "@jupyter-widgets/controls",
          "model_name": "ProgressStyleModel",
          "state": {
            "_view_name": "StyleView",
            "_model_name": "ProgressStyleModel",
            "description_width": "initial",
            "_view_module": "@jupyter-widgets/base",
            "_model_module_version": "1.5.0",
            "_view_count": null,
            "_view_module_version": "1.2.0",
            "bar_color": null,
            "_model_module": "@jupyter-widgets/controls"
          }
        },
        "e56f26a234b043519d145cbc5e2cb5fd": {
          "model_module": "@jupyter-widgets/base",
          "model_name": "LayoutModel",
          "state": {
            "_view_name": "LayoutView",
            "grid_template_rows": null,
            "right": null,
            "justify_content": null,
            "_view_module": "@jupyter-widgets/base",
            "overflow": null,
            "_model_module_version": "1.2.0",
            "_view_count": null,
            "flex_flow": null,
            "width": null,
            "min_width": null,
            "border": null,
            "align_items": null,
            "bottom": null,
            "_model_module": "@jupyter-widgets/base",
            "top": null,
            "grid_column": null,
            "overflow_y": null,
            "overflow_x": null,
            "grid_auto_flow": null,
            "grid_area": null,
            "grid_template_columns": null,
            "flex": null,
            "_model_name": "LayoutModel",
            "justify_items": null,
            "grid_row": null,
            "max_height": null,
            "align_content": null,
            "visibility": null,
            "align_self": null,
            "height": null,
            "min_height": null,
            "padding": null,
            "grid_auto_rows": null,
            "grid_gap": null,
            "max_width": null,
            "order": null,
            "_view_module_version": "1.2.0",
            "grid_template_areas": null,
            "object_position": null,
            "object_fit": null,
            "grid_auto_columns": null,
            "margin": null,
            "display": null,
            "left": null
          }
        },
        "f4ef795f63054ddbb87c0a2316e14126": {
          "model_module": "@jupyter-widgets/controls",
          "model_name": "DescriptionStyleModel",
          "state": {
            "_view_name": "StyleView",
            "_model_name": "DescriptionStyleModel",
            "description_width": "",
            "_view_module": "@jupyter-widgets/base",
            "_model_module_version": "1.5.0",
            "_view_count": null,
            "_view_module_version": "1.2.0",
            "_model_module": "@jupyter-widgets/controls"
          }
        },
        "ab7198cf200c4c0b853e0582959b56cc": {
          "model_module": "@jupyter-widgets/base",
          "model_name": "LayoutModel",
          "state": {
            "_view_name": "LayoutView",
            "grid_template_rows": null,
            "right": null,
            "justify_content": null,
            "_view_module": "@jupyter-widgets/base",
            "overflow": null,
            "_model_module_version": "1.2.0",
            "_view_count": null,
            "flex_flow": null,
            "width": null,
            "min_width": null,
            "border": null,
            "align_items": null,
            "bottom": null,
            "_model_module": "@jupyter-widgets/base",
            "top": null,
            "grid_column": null,
            "overflow_y": null,
            "overflow_x": null,
            "grid_auto_flow": null,
            "grid_area": null,
            "grid_template_columns": null,
            "flex": null,
            "_model_name": "LayoutModel",
            "justify_items": null,
            "grid_row": null,
            "max_height": null,
            "align_content": null,
            "visibility": null,
            "align_self": null,
            "height": null,
            "min_height": null,
            "padding": null,
            "grid_auto_rows": null,
            "grid_gap": null,
            "max_width": null,
            "order": null,
            "_view_module_version": "1.2.0",
            "grid_template_areas": null,
            "object_position": null,
            "object_fit": null,
            "grid_auto_columns": null,
            "margin": null,
            "display": null,
            "left": null
          }
        },
        "89e1202c7b9b49b5900fcf49112267e2": {
          "model_module": "@jupyter-widgets/controls",
          "model_name": "HBoxModel",
          "state": {
            "_view_name": "HBoxView",
            "_dom_classes": [],
            "_model_name": "HBoxModel",
            "_view_module": "@jupyter-widgets/controls",
            "_model_module_version": "1.5.0",
            "_view_count": null,
            "_view_module_version": "1.5.0",
            "box_style": "",
            "layout": "IPY_MODEL_53f6dcf1b3fb4efc875e85ddcd3f8fa0",
            "_model_module": "@jupyter-widgets/controls",
            "children": [
              "IPY_MODEL_5f9480e4bb6546a0ad50670b2aca8ec4",
              "IPY_MODEL_1884680e6a694a738b04c02bff2ca656"
            ]
          }
        },
        "53f6dcf1b3fb4efc875e85ddcd3f8fa0": {
          "model_module": "@jupyter-widgets/base",
          "model_name": "LayoutModel",
          "state": {
            "_view_name": "LayoutView",
            "grid_template_rows": null,
            "right": null,
            "justify_content": null,
            "_view_module": "@jupyter-widgets/base",
            "overflow": null,
            "_model_module_version": "1.2.0",
            "_view_count": null,
            "flex_flow": null,
            "width": null,
            "min_width": null,
            "border": null,
            "align_items": null,
            "bottom": null,
            "_model_module": "@jupyter-widgets/base",
            "top": null,
            "grid_column": null,
            "overflow_y": null,
            "overflow_x": null,
            "grid_auto_flow": null,
            "grid_area": null,
            "grid_template_columns": null,
            "flex": null,
            "_model_name": "LayoutModel",
            "justify_items": null,
            "grid_row": null,
            "max_height": null,
            "align_content": null,
            "visibility": null,
            "align_self": null,
            "height": null,
            "min_height": null,
            "padding": null,
            "grid_auto_rows": null,
            "grid_gap": null,
            "max_width": null,
            "order": null,
            "_view_module_version": "1.2.0",
            "grid_template_areas": null,
            "object_position": null,
            "object_fit": null,
            "grid_auto_columns": null,
            "margin": null,
            "display": null,
            "left": null
          }
        },
        "5f9480e4bb6546a0ad50670b2aca8ec4": {
          "model_module": "@jupyter-widgets/controls",
          "model_name": "FloatProgressModel",
          "state": {
            "_view_name": "ProgressView",
            "style": "IPY_MODEL_cf1a912bd3224714a0acbf5f06245d56",
            "_dom_classes": [],
            "description": "Downloading: 100%",
            "_model_name": "FloatProgressModel",
            "bar_style": "success",
            "max": 456318,
            "_view_module": "@jupyter-widgets/controls",
            "_model_module_version": "1.5.0",
            "value": 456318,
            "_view_count": null,
            "_view_module_version": "1.5.0",
            "orientation": "horizontal",
            "min": 0,
            "description_tooltip": null,
            "_model_module": "@jupyter-widgets/controls",
            "layout": "IPY_MODEL_cca6c804028d472c80380fb7030c026b"
          }
        },
        "1884680e6a694a738b04c02bff2ca656": {
          "model_module": "@jupyter-widgets/controls",
          "model_name": "HTMLModel",
          "state": {
            "_view_name": "HTMLView",
            "style": "IPY_MODEL_e5a3b9bba5f64783a763e981033b4aba",
            "_dom_classes": [],
            "description": "",
            "_model_name": "HTMLModel",
            "placeholder": "​",
            "_view_module": "@jupyter-widgets/controls",
            "_model_module_version": "1.5.0",
            "value": " 456k/456k [00:00&lt;00:00, 942kB/s]",
            "_view_count": null,
            "_view_module_version": "1.5.0",
            "description_tooltip": null,
            "_model_module": "@jupyter-widgets/controls",
            "layout": "IPY_MODEL_b1bb959092db4185bca23eda89026a2d"
          }
        },
        "cf1a912bd3224714a0acbf5f06245d56": {
          "model_module": "@jupyter-widgets/controls",
          "model_name": "ProgressStyleModel",
          "state": {
            "_view_name": "StyleView",
            "_model_name": "ProgressStyleModel",
            "description_width": "initial",
            "_view_module": "@jupyter-widgets/base",
            "_model_module_version": "1.5.0",
            "_view_count": null,
            "_view_module_version": "1.2.0",
            "bar_color": null,
            "_model_module": "@jupyter-widgets/controls"
          }
        },
        "cca6c804028d472c80380fb7030c026b": {
          "model_module": "@jupyter-widgets/base",
          "model_name": "LayoutModel",
          "state": {
            "_view_name": "LayoutView",
            "grid_template_rows": null,
            "right": null,
            "justify_content": null,
            "_view_module": "@jupyter-widgets/base",
            "overflow": null,
            "_model_module_version": "1.2.0",
            "_view_count": null,
            "flex_flow": null,
            "width": null,
            "min_width": null,
            "border": null,
            "align_items": null,
            "bottom": null,
            "_model_module": "@jupyter-widgets/base",
            "top": null,
            "grid_column": null,
            "overflow_y": null,
            "overflow_x": null,
            "grid_auto_flow": null,
            "grid_area": null,
            "grid_template_columns": null,
            "flex": null,
            "_model_name": "LayoutModel",
            "justify_items": null,
            "grid_row": null,
            "max_height": null,
            "align_content": null,
            "visibility": null,
            "align_self": null,
            "height": null,
            "min_height": null,
            "padding": null,
            "grid_auto_rows": null,
            "grid_gap": null,
            "max_width": null,
            "order": null,
            "_view_module_version": "1.2.0",
            "grid_template_areas": null,
            "object_position": null,
            "object_fit": null,
            "grid_auto_columns": null,
            "margin": null,
            "display": null,
            "left": null
          }
        },
        "e5a3b9bba5f64783a763e981033b4aba": {
          "model_module": "@jupyter-widgets/controls",
          "model_name": "DescriptionStyleModel",
          "state": {
            "_view_name": "StyleView",
            "_model_name": "DescriptionStyleModel",
            "description_width": "",
            "_view_module": "@jupyter-widgets/base",
            "_model_module_version": "1.5.0",
            "_view_count": null,
            "_view_module_version": "1.2.0",
            "_model_module": "@jupyter-widgets/controls"
          }
        },
        "b1bb959092db4185bca23eda89026a2d": {
          "model_module": "@jupyter-widgets/base",
          "model_name": "LayoutModel",
          "state": {
            "_view_name": "LayoutView",
            "grid_template_rows": null,
            "right": null,
            "justify_content": null,
            "_view_module": "@jupyter-widgets/base",
            "overflow": null,
            "_model_module_version": "1.2.0",
            "_view_count": null,
            "flex_flow": null,
            "width": null,
            "min_width": null,
            "border": null,
            "align_items": null,
            "bottom": null,
            "_model_module": "@jupyter-widgets/base",
            "top": null,
            "grid_column": null,
            "overflow_y": null,
            "overflow_x": null,
            "grid_auto_flow": null,
            "grid_area": null,
            "grid_template_columns": null,
            "flex": null,
            "_model_name": "LayoutModel",
            "justify_items": null,
            "grid_row": null,
            "max_height": null,
            "align_content": null,
            "visibility": null,
            "align_self": null,
            "height": null,
            "min_height": null,
            "padding": null,
            "grid_auto_rows": null,
            "grid_gap": null,
            "max_width": null,
            "order": null,
            "_view_module_version": "1.2.0",
            "grid_template_areas": null,
            "object_position": null,
            "object_fit": null,
            "grid_auto_columns": null,
            "margin": null,
            "display": null,
            "left": null
          }
        },
        "f5db89c125d34511a07f87035976e54d": {
          "model_module": "@jupyter-widgets/controls",
          "model_name": "HBoxModel",
          "state": {
            "_view_name": "HBoxView",
            "_dom_classes": [],
            "_model_name": "HBoxModel",
            "_view_module": "@jupyter-widgets/controls",
            "_model_module_version": "1.5.0",
            "_view_count": null,
            "_view_module_version": "1.5.0",
            "box_style": "",
            "layout": "IPY_MODEL_8fb1c475fa7842bd96ff22a6d5a6c919",
            "_model_module": "@jupyter-widgets/controls",
            "children": [
              "IPY_MODEL_7531707e4d1843a7a787a1c3e456767a",
              "IPY_MODEL_30ce7acc5dc64f31869f34abf0565f4e"
            ]
          }
        },
        "8fb1c475fa7842bd96ff22a6d5a6c919": {
          "model_module": "@jupyter-widgets/base",
          "model_name": "LayoutModel",
          "state": {
            "_view_name": "LayoutView",
            "grid_template_rows": null,
            "right": null,
            "justify_content": null,
            "_view_module": "@jupyter-widgets/base",
            "overflow": null,
            "_model_module_version": "1.2.0",
            "_view_count": null,
            "flex_flow": null,
            "width": null,
            "min_width": null,
            "border": null,
            "align_items": null,
            "bottom": null,
            "_model_module": "@jupyter-widgets/base",
            "top": null,
            "grid_column": null,
            "overflow_y": null,
            "overflow_x": null,
            "grid_auto_flow": null,
            "grid_area": null,
            "grid_template_columns": null,
            "flex": null,
            "_model_name": "LayoutModel",
            "justify_items": null,
            "grid_row": null,
            "max_height": null,
            "align_content": null,
            "visibility": null,
            "align_self": null,
            "height": null,
            "min_height": null,
            "padding": null,
            "grid_auto_rows": null,
            "grid_gap": null,
            "max_width": null,
            "order": null,
            "_view_module_version": "1.2.0",
            "grid_template_areas": null,
            "object_position": null,
            "object_fit": null,
            "grid_auto_columns": null,
            "margin": null,
            "display": null,
            "left": null
          }
        },
        "7531707e4d1843a7a787a1c3e456767a": {
          "model_module": "@jupyter-widgets/controls",
          "model_name": "FloatProgressModel",
          "state": {
            "_view_name": "ProgressView",
            "style": "IPY_MODEL_7cdfc7f9f4cc41d0926781906fc56917",
            "_dom_classes": [],
            "description": "Downloading: 100%",
            "_model_name": "FloatProgressModel",
            "bar_style": "success",
            "max": 481,
            "_view_module": "@jupyter-widgets/controls",
            "_model_module_version": "1.5.0",
            "value": 481,
            "_view_count": null,
            "_view_module_version": "1.5.0",
            "orientation": "horizontal",
            "min": 0,
            "description_tooltip": null,
            "_model_module": "@jupyter-widgets/controls",
            "layout": "IPY_MODEL_a619e8b73d73478ca7197bc797e86001"
          }
        },
        "30ce7acc5dc64f31869f34abf0565f4e": {
          "model_module": "@jupyter-widgets/controls",
          "model_name": "HTMLModel",
          "state": {
            "_view_name": "HTMLView",
            "style": "IPY_MODEL_b5253d77fc2b4284b8eb734b9eccb45f",
            "_dom_classes": [],
            "description": "",
            "_model_name": "HTMLModel",
            "placeholder": "​",
            "_view_module": "@jupyter-widgets/controls",
            "_model_module_version": "1.5.0",
            "value": " 481/481 [00:10&lt;00:00, 44.2B/s]",
            "_view_count": null,
            "_view_module_version": "1.5.0",
            "description_tooltip": null,
            "_model_module": "@jupyter-widgets/controls",
            "layout": "IPY_MODEL_129e29c967c043f9be621053eace5fa5"
          }
        },
        "7cdfc7f9f4cc41d0926781906fc56917": {
          "model_module": "@jupyter-widgets/controls",
          "model_name": "ProgressStyleModel",
          "state": {
            "_view_name": "StyleView",
            "_model_name": "ProgressStyleModel",
            "description_width": "initial",
            "_view_module": "@jupyter-widgets/base",
            "_model_module_version": "1.5.0",
            "_view_count": null,
            "_view_module_version": "1.2.0",
            "bar_color": null,
            "_model_module": "@jupyter-widgets/controls"
          }
        },
        "a619e8b73d73478ca7197bc797e86001": {
          "model_module": "@jupyter-widgets/base",
          "model_name": "LayoutModel",
          "state": {
            "_view_name": "LayoutView",
            "grid_template_rows": null,
            "right": null,
            "justify_content": null,
            "_view_module": "@jupyter-widgets/base",
            "overflow": null,
            "_model_module_version": "1.2.0",
            "_view_count": null,
            "flex_flow": null,
            "width": null,
            "min_width": null,
            "border": null,
            "align_items": null,
            "bottom": null,
            "_model_module": "@jupyter-widgets/base",
            "top": null,
            "grid_column": null,
            "overflow_y": null,
            "overflow_x": null,
            "grid_auto_flow": null,
            "grid_area": null,
            "grid_template_columns": null,
            "flex": null,
            "_model_name": "LayoutModel",
            "justify_items": null,
            "grid_row": null,
            "max_height": null,
            "align_content": null,
            "visibility": null,
            "align_self": null,
            "height": null,
            "min_height": null,
            "padding": null,
            "grid_auto_rows": null,
            "grid_gap": null,
            "max_width": null,
            "order": null,
            "_view_module_version": "1.2.0",
            "grid_template_areas": null,
            "object_position": null,
            "object_fit": null,
            "grid_auto_columns": null,
            "margin": null,
            "display": null,
            "left": null
          }
        },
        "b5253d77fc2b4284b8eb734b9eccb45f": {
          "model_module": "@jupyter-widgets/controls",
          "model_name": "DescriptionStyleModel",
          "state": {
            "_view_name": "StyleView",
            "_model_name": "DescriptionStyleModel",
            "description_width": "",
            "_view_module": "@jupyter-widgets/base",
            "_model_module_version": "1.5.0",
            "_view_count": null,
            "_view_module_version": "1.2.0",
            "_model_module": "@jupyter-widgets/controls"
          }
        },
        "129e29c967c043f9be621053eace5fa5": {
          "model_module": "@jupyter-widgets/base",
          "model_name": "LayoutModel",
          "state": {
            "_view_name": "LayoutView",
            "grid_template_rows": null,
            "right": null,
            "justify_content": null,
            "_view_module": "@jupyter-widgets/base",
            "overflow": null,
            "_model_module_version": "1.2.0",
            "_view_count": null,
            "flex_flow": null,
            "width": null,
            "min_width": null,
            "border": null,
            "align_items": null,
            "bottom": null,
            "_model_module": "@jupyter-widgets/base",
            "top": null,
            "grid_column": null,
            "overflow_y": null,
            "overflow_x": null,
            "grid_auto_flow": null,
            "grid_area": null,
            "grid_template_columns": null,
            "flex": null,
            "_model_name": "LayoutModel",
            "justify_items": null,
            "grid_row": null,
            "max_height": null,
            "align_content": null,
            "visibility": null,
            "align_self": null,
            "height": null,
            "min_height": null,
            "padding": null,
            "grid_auto_rows": null,
            "grid_gap": null,
            "max_width": null,
            "order": null,
            "_view_module_version": "1.2.0",
            "grid_template_areas": null,
            "object_position": null,
            "object_fit": null,
            "grid_auto_columns": null,
            "margin": null,
            "display": null,
            "left": null
          }
        },
        "3756518c1cd54dcab13092e36bf1dd20": {
          "model_module": "@jupyter-widgets/controls",
          "model_name": "HBoxModel",
          "state": {
            "_view_name": "HBoxView",
            "_dom_classes": [],
            "_model_name": "HBoxModel",
            "_view_module": "@jupyter-widgets/controls",
            "_model_module_version": "1.5.0",
            "_view_count": null,
            "_view_module_version": "1.5.0",
            "box_style": "",
            "layout": "IPY_MODEL_4fc2732a88ab46879ed3d9f2f092bab3",
            "_model_module": "@jupyter-widgets/controls",
            "children": [
              "IPY_MODEL_5d80dc0c7c35433ea095b66a4d6336c2",
              "IPY_MODEL_8d405635375a4da1a484a9ced6ea3ad1"
            ]
          }
        },
        "4fc2732a88ab46879ed3d9f2f092bab3": {
          "model_module": "@jupyter-widgets/base",
          "model_name": "LayoutModel",
          "state": {
            "_view_name": "LayoutView",
            "grid_template_rows": null,
            "right": null,
            "justify_content": null,
            "_view_module": "@jupyter-widgets/base",
            "overflow": null,
            "_model_module_version": "1.2.0",
            "_view_count": null,
            "flex_flow": null,
            "width": null,
            "min_width": null,
            "border": null,
            "align_items": null,
            "bottom": null,
            "_model_module": "@jupyter-widgets/base",
            "top": null,
            "grid_column": null,
            "overflow_y": null,
            "overflow_x": null,
            "grid_auto_flow": null,
            "grid_area": null,
            "grid_template_columns": null,
            "flex": null,
            "_model_name": "LayoutModel",
            "justify_items": null,
            "grid_row": null,
            "max_height": null,
            "align_content": null,
            "visibility": null,
            "align_self": null,
            "height": null,
            "min_height": null,
            "padding": null,
            "grid_auto_rows": null,
            "grid_gap": null,
            "max_width": null,
            "order": null,
            "_view_module_version": "1.2.0",
            "grid_template_areas": null,
            "object_position": null,
            "object_fit": null,
            "grid_auto_columns": null,
            "margin": null,
            "display": null,
            "left": null
          }
        },
        "5d80dc0c7c35433ea095b66a4d6336c2": {
          "model_module": "@jupyter-widgets/controls",
          "model_name": "FloatProgressModel",
          "state": {
            "_view_name": "ProgressView",
            "style": "IPY_MODEL_21c1359c4a834d67952e3d28bd1810b8",
            "_dom_classes": [],
            "description": "Downloading: 100%",
            "_model_name": "FloatProgressModel",
            "bar_style": "success",
            "max": 501200538,
            "_view_module": "@jupyter-widgets/controls",
            "_model_module_version": "1.5.0",
            "value": 501200538,
            "_view_count": null,
            "_view_module_version": "1.5.0",
            "orientation": "horizontal",
            "min": 0,
            "description_tooltip": null,
            "_model_module": "@jupyter-widgets/controls",
            "layout": "IPY_MODEL_489f5d3cfe4a4662901b6a77e4a65467"
          }
        },
        "8d405635375a4da1a484a9ced6ea3ad1": {
          "model_module": "@jupyter-widgets/controls",
          "model_name": "HTMLModel",
          "state": {
            "_view_name": "HTMLView",
            "style": "IPY_MODEL_19b3845dbb2d455e985802c133405e1d",
            "_dom_classes": [],
            "description": "",
            "_model_name": "HTMLModel",
            "placeholder": "​",
            "_view_module": "@jupyter-widgets/controls",
            "_model_module_version": "1.5.0",
            "value": " 501M/501M [00:07&lt;00:00, 69.1MB/s]",
            "_view_count": null,
            "_view_module_version": "1.5.0",
            "description_tooltip": null,
            "_model_module": "@jupyter-widgets/controls",
            "layout": "IPY_MODEL_270f586b3af94df3afae583e4fb3a459"
          }
        },
        "21c1359c4a834d67952e3d28bd1810b8": {
          "model_module": "@jupyter-widgets/controls",
          "model_name": "ProgressStyleModel",
          "state": {
            "_view_name": "StyleView",
            "_model_name": "ProgressStyleModel",
            "description_width": "initial",
            "_view_module": "@jupyter-widgets/base",
            "_model_module_version": "1.5.0",
            "_view_count": null,
            "_view_module_version": "1.2.0",
            "bar_color": null,
            "_model_module": "@jupyter-widgets/controls"
          }
        },
        "489f5d3cfe4a4662901b6a77e4a65467": {
          "model_module": "@jupyter-widgets/base",
          "model_name": "LayoutModel",
          "state": {
            "_view_name": "LayoutView",
            "grid_template_rows": null,
            "right": null,
            "justify_content": null,
            "_view_module": "@jupyter-widgets/base",
            "overflow": null,
            "_model_module_version": "1.2.0",
            "_view_count": null,
            "flex_flow": null,
            "width": null,
            "min_width": null,
            "border": null,
            "align_items": null,
            "bottom": null,
            "_model_module": "@jupyter-widgets/base",
            "top": null,
            "grid_column": null,
            "overflow_y": null,
            "overflow_x": null,
            "grid_auto_flow": null,
            "grid_area": null,
            "grid_template_columns": null,
            "flex": null,
            "_model_name": "LayoutModel",
            "justify_items": null,
            "grid_row": null,
            "max_height": null,
            "align_content": null,
            "visibility": null,
            "align_self": null,
            "height": null,
            "min_height": null,
            "padding": null,
            "grid_auto_rows": null,
            "grid_gap": null,
            "max_width": null,
            "order": null,
            "_view_module_version": "1.2.0",
            "grid_template_areas": null,
            "object_position": null,
            "object_fit": null,
            "grid_auto_columns": null,
            "margin": null,
            "display": null,
            "left": null
          }
        },
        "19b3845dbb2d455e985802c133405e1d": {
          "model_module": "@jupyter-widgets/controls",
          "model_name": "DescriptionStyleModel",
          "state": {
            "_view_name": "StyleView",
            "_model_name": "DescriptionStyleModel",
            "description_width": "",
            "_view_module": "@jupyter-widgets/base",
            "_model_module_version": "1.5.0",
            "_view_count": null,
            "_view_module_version": "1.2.0",
            "_model_module": "@jupyter-widgets/controls"
          }
        },
        "270f586b3af94df3afae583e4fb3a459": {
          "model_module": "@jupyter-widgets/base",
          "model_name": "LayoutModel",
          "state": {
            "_view_name": "LayoutView",
            "grid_template_rows": null,
            "right": null,
            "justify_content": null,
            "_view_module": "@jupyter-widgets/base",
            "overflow": null,
            "_model_module_version": "1.2.0",
            "_view_count": null,
            "flex_flow": null,
            "width": null,
            "min_width": null,
            "border": null,
            "align_items": null,
            "bottom": null,
            "_model_module": "@jupyter-widgets/base",
            "top": null,
            "grid_column": null,
            "overflow_y": null,
            "overflow_x": null,
            "grid_auto_flow": null,
            "grid_area": null,
            "grid_template_columns": null,
            "flex": null,
            "_model_name": "LayoutModel",
            "justify_items": null,
            "grid_row": null,
            "max_height": null,
            "align_content": null,
            "visibility": null,
            "align_self": null,
            "height": null,
            "min_height": null,
            "padding": null,
            "grid_auto_rows": null,
            "grid_gap": null,
            "max_width": null,
            "order": null,
            "_view_module_version": "1.2.0",
            "grid_template_areas": null,
            "object_position": null,
            "object_fit": null,
            "grid_auto_columns": null,
            "margin": null,
            "display": null,
            "left": null
          }
        },
        "daf31294e2764cc0b5a62bb2b2e04f6c": {
          "model_module": "@jupyter-widgets/controls",
          "model_name": "HBoxModel",
          "state": {
            "_view_name": "HBoxView",
            "_dom_classes": [],
            "_model_name": "HBoxModel",
            "_view_module": "@jupyter-widgets/controls",
            "_model_module_version": "1.5.0",
            "_view_count": null,
            "_view_module_version": "1.5.0",
            "box_style": "",
            "layout": "IPY_MODEL_74e3799ebe2b44cca9eb0057efcf06d6",
            "_model_module": "@jupyter-widgets/controls",
            "children": [
              "IPY_MODEL_81246cf41ce944cfa23fc38f9c0f810d",
              "IPY_MODEL_725237507a0c419fa28c310a49c7128a"
            ]
          }
        },
        "74e3799ebe2b44cca9eb0057efcf06d6": {
          "model_module": "@jupyter-widgets/base",
          "model_name": "LayoutModel",
          "state": {
            "_view_name": "LayoutView",
            "grid_template_rows": null,
            "right": null,
            "justify_content": null,
            "_view_module": "@jupyter-widgets/base",
            "overflow": null,
            "_model_module_version": "1.2.0",
            "_view_count": null,
            "flex_flow": null,
            "width": null,
            "min_width": null,
            "border": null,
            "align_items": null,
            "bottom": null,
            "_model_module": "@jupyter-widgets/base",
            "top": null,
            "grid_column": null,
            "overflow_y": null,
            "overflow_x": null,
            "grid_auto_flow": null,
            "grid_area": null,
            "grid_template_columns": null,
            "flex": null,
            "_model_name": "LayoutModel",
            "justify_items": null,
            "grid_row": null,
            "max_height": null,
            "align_content": null,
            "visibility": null,
            "align_self": null,
            "height": null,
            "min_height": null,
            "padding": null,
            "grid_auto_rows": null,
            "grid_gap": null,
            "max_width": null,
            "order": null,
            "_view_module_version": "1.2.0",
            "grid_template_areas": null,
            "object_position": null,
            "object_fit": null,
            "grid_auto_columns": null,
            "margin": null,
            "display": null,
            "left": null
          }
        },
        "81246cf41ce944cfa23fc38f9c0f810d": {
          "model_module": "@jupyter-widgets/controls",
          "model_name": "FloatProgressModel",
          "state": {
            "_view_name": "ProgressView",
            "style": "IPY_MODEL_7ee7468867c64440a29cfd1acdf6d93d",
            "_dom_classes": [],
            "description": "Epochs: 100%",
            "_model_name": "FloatProgressModel",
            "bar_style": "success",
            "max": 10,
            "_view_module": "@jupyter-widgets/controls",
            "_model_module_version": "1.5.0",
            "value": 10,
            "_view_count": null,
            "_view_module_version": "1.5.0",
            "orientation": "horizontal",
            "min": 0,
            "description_tooltip": null,
            "_model_module": "@jupyter-widgets/controls",
            "layout": "IPY_MODEL_acc7de0fe52a48e784ca188ab1ac7709"
          }
        },
        "725237507a0c419fa28c310a49c7128a": {
          "model_module": "@jupyter-widgets/controls",
          "model_name": "HTMLModel",
          "state": {
            "_view_name": "HTMLView",
            "style": "IPY_MODEL_799882fa11614ceb83ec2c6601109bff",
            "_dom_classes": [],
            "description": "",
            "_model_name": "HTMLModel",
            "placeholder": "​",
            "_view_module": "@jupyter-widgets/controls",
            "_model_module_version": "1.5.0",
            "value": " 10/10 [5:37:48&lt;00:00, 2026.84s/it]",
            "_view_count": null,
            "_view_module_version": "1.5.0",
            "description_tooltip": null,
            "_model_module": "@jupyter-widgets/controls",
            "layout": "IPY_MODEL_f932a37ba792468794480c707af4f4e4"
          }
        },
        "7ee7468867c64440a29cfd1acdf6d93d": {
          "model_module": "@jupyter-widgets/controls",
          "model_name": "ProgressStyleModel",
          "state": {
            "_view_name": "StyleView",
            "_model_name": "ProgressStyleModel",
            "description_width": "initial",
            "_view_module": "@jupyter-widgets/base",
            "_model_module_version": "1.5.0",
            "_view_count": null,
            "_view_module_version": "1.2.0",
            "bar_color": null,
            "_model_module": "@jupyter-widgets/controls"
          }
        },
        "acc7de0fe52a48e784ca188ab1ac7709": {
          "model_module": "@jupyter-widgets/base",
          "model_name": "LayoutModel",
          "state": {
            "_view_name": "LayoutView",
            "grid_template_rows": null,
            "right": null,
            "justify_content": null,
            "_view_module": "@jupyter-widgets/base",
            "overflow": null,
            "_model_module_version": "1.2.0",
            "_view_count": null,
            "flex_flow": null,
            "width": null,
            "min_width": null,
            "border": null,
            "align_items": null,
            "bottom": null,
            "_model_module": "@jupyter-widgets/base",
            "top": null,
            "grid_column": null,
            "overflow_y": null,
            "overflow_x": null,
            "grid_auto_flow": null,
            "grid_area": null,
            "grid_template_columns": null,
            "flex": null,
            "_model_name": "LayoutModel",
            "justify_items": null,
            "grid_row": null,
            "max_height": null,
            "align_content": null,
            "visibility": null,
            "align_self": null,
            "height": null,
            "min_height": null,
            "padding": null,
            "grid_auto_rows": null,
            "grid_gap": null,
            "max_width": null,
            "order": null,
            "_view_module_version": "1.2.0",
            "grid_template_areas": null,
            "object_position": null,
            "object_fit": null,
            "grid_auto_columns": null,
            "margin": null,
            "display": null,
            "left": null
          }
        },
        "799882fa11614ceb83ec2c6601109bff": {
          "model_module": "@jupyter-widgets/controls",
          "model_name": "DescriptionStyleModel",
          "state": {
            "_view_name": "StyleView",
            "_model_name": "DescriptionStyleModel",
            "description_width": "",
            "_view_module": "@jupyter-widgets/base",
            "_model_module_version": "1.5.0",
            "_view_count": null,
            "_view_module_version": "1.2.0",
            "_model_module": "@jupyter-widgets/controls"
          }
        },
        "f932a37ba792468794480c707af4f4e4": {
          "model_module": "@jupyter-widgets/base",
          "model_name": "LayoutModel",
          "state": {
            "_view_name": "LayoutView",
            "grid_template_rows": null,
            "right": null,
            "justify_content": null,
            "_view_module": "@jupyter-widgets/base",
            "overflow": null,
            "_model_module_version": "1.2.0",
            "_view_count": null,
            "flex_flow": null,
            "width": null,
            "min_width": null,
            "border": null,
            "align_items": null,
            "bottom": null,
            "_model_module": "@jupyter-widgets/base",
            "top": null,
            "grid_column": null,
            "overflow_y": null,
            "overflow_x": null,
            "grid_auto_flow": null,
            "grid_area": null,
            "grid_template_columns": null,
            "flex": null,
            "_model_name": "LayoutModel",
            "justify_items": null,
            "grid_row": null,
            "max_height": null,
            "align_content": null,
            "visibility": null,
            "align_self": null,
            "height": null,
            "min_height": null,
            "padding": null,
            "grid_auto_rows": null,
            "grid_gap": null,
            "max_width": null,
            "order": null,
            "_view_module_version": "1.2.0",
            "grid_template_areas": null,
            "object_position": null,
            "object_fit": null,
            "grid_auto_columns": null,
            "margin": null,
            "display": null,
            "left": null
          }
        }
      }
    }
  },
  "cells": [
    {
      "cell_type": "markdown",
      "metadata": {
        "id": "JmfaxxMGLEIO"
      },
      "source": [
        "[link text](https:// [link text](https://))# Mounting Goolge drive."
      ]
    },
    {
      "cell_type": "markdown",
      "metadata": {
        "id": "d-gFZYfYT9Wz"
      },
      "source": [
        "First add the data to your google drive using the following link:\n",
        "\n",
        "https://drive.google.com/drive/folders/1I0MTQwn2HXquEiXdtntgRggqw6xJr47b?usp=sharing"
      ]
    },
    {
      "cell_type": "code",
      "metadata": {
        "id": "EV0WPAzb8WUA",
        "colab": {
          "base_uri": "https://localhost:8080/"
        },
        "outputId": "e212b183-e049-456c-e127-de1289df5cf2"
      },
      "source": [
        "from google.colab import drive\n",
        "\n",
        "drive.mount('/content/drive')"
      ],
      "execution_count": null,
      "outputs": [
        {
          "output_type": "stream",
          "text": [
            "Drive already mounted at /content/drive; to attempt to forcibly remount, call drive.mount(\"/content/drive\", force_remount=True).\n"
          ],
          "name": "stdout"
        }
      ]
    },
    {
      "cell_type": "markdown",
      "metadata": {
        "id": "f_4gkoxRLZ5Q"
      },
      "source": [
        "# Installing required packages"
      ]
    },
    {
      "cell_type": "markdown",
      "metadata": {
        "id": "c-ZgdlghL35-"
      },
      "source": [
        "GPU and available memory check"
      ]
    },
    {
      "cell_type": "code",
      "metadata": {
        "id": "2BdD133t8_yE",
        "colab": {
          "base_uri": "https://localhost:8080/"
        },
        "outputId": "b4ad52bb-a2af-4007-916b-8d505cb58b60"
      },
      "source": [
        "# memory footprint support libraries/code\n",
        "!ln -sf /opt/bin/nvidia-smi /usr/bin/nvidia-smi\n",
        "!pip install gputil\n",
        "!pip install psutil\n",
        "!pip install humanize\n",
        "\n",
        "import psutil\n",
        "import humanize\n",
        "import os\n",
        "import GPUtil as GPU\n",
        "\n",
        "GPUs = GPU.getGPUs()\n",
        "# XXX: only one GPU on Colab and isn’t guaranteed\n",
        "gpu = GPUs[0]\n",
        "def printm():\n",
        "    process = psutil.Process(os.getpid())\n",
        "    print(\"Gen RAM Free: \" + humanize.naturalsize(psutil.virtual_memory().available), \" |     Proc size: \" + humanize.naturalsize(process.memory_info().rss))\n",
        "    print(\"GPU RAM Free: {0:.0f}MB | Used: {1:.0f}MB | Util {2:3.0f}% | Total     {3:.0f}MB\".format(gpu.memoryFree, gpu.memoryUsed, gpu.memoryUtil*100, gpu.memoryTotal))\n",
        "printm()"
      ],
      "execution_count": null,
      "outputs": [
        {
          "output_type": "stream",
          "text": [
            "Collecting gputil\n",
            "  Downloading https://files.pythonhosted.org/packages/ed/0e/5c61eedde9f6c87713e89d794f01e378cfd9565847d4576fa627d758c554/GPUtil-1.4.0.tar.gz\n",
            "Building wheels for collected packages: gputil\n",
            "  Building wheel for gputil (setup.py) ... \u001b[?25l\u001b[?25hdone\n",
            "  Created wheel for gputil: filename=GPUtil-1.4.0-cp36-none-any.whl size=7411 sha256=da8635e62e777a0be0b7f0cf88021dfb62486740bfbe076e5477cc981597ac55\n",
            "  Stored in directory: /root/.cache/pip/wheels/3d/77/07/80562de4bb0786e5ea186911a2c831fdd0018bda69beab71fd\n",
            "Successfully built gputil\n",
            "Installing collected packages: gputil\n",
            "Successfully installed gputil-1.4.0\n",
            "Requirement already satisfied: psutil in /usr/local/lib/python3.6/dist-packages (5.4.8)\n",
            "Requirement already satisfied: humanize in /usr/local/lib/python3.6/dist-packages (0.5.1)\n",
            "Gen RAM Free: 26.4 GB  |     Proc size: 112.5 MB\n",
            "GPU RAM Free: 16130MB | Used: 0MB | Util   0% | Total     16130MB\n"
          ],
          "name": "stdout"
        }
      ]
    },
    {
      "cell_type": "markdown",
      "metadata": {
        "id": "hxI_bH3nMWwU"
      },
      "source": [
        "Transformers for general purpose NLP models\n",
        "\n",
        "Unidecode for ASCII translation of Unicode text."
      ]
    },
    {
      "cell_type": "code",
      "metadata": {
        "id": "ProxRZG19EvY",
        "colab": {
          "base_uri": "https://localhost:8080/"
        },
        "outputId": "f1867184-c2d6-4b2e-8ea7-8eb281f264ac"
      },
      "source": [
        "!pip3 install transformers\n",
        "!pip3 install unidecode"
      ],
      "execution_count": null,
      "outputs": [
        {
          "output_type": "stream",
          "text": [
            "Collecting transformers\n",
            "\u001b[?25l  Downloading https://files.pythonhosted.org/packages/3a/83/e74092e7f24a08d751aa59b37a9fc572b2e4af3918cb66f7766c3affb1b4/transformers-3.5.1-py3-none-any.whl (1.3MB)\n",
            "\r\u001b[K     |▎                               | 10kB 18.0MB/s eta 0:00:01\r\u001b[K     |▌                               | 20kB 24.7MB/s eta 0:00:01\r\u001b[K     |▊                               | 30kB 28.2MB/s eta 0:00:01\r\u001b[K     |█                               | 40kB 20.2MB/s eta 0:00:01\r\u001b[K     |█▎                              | 51kB 16.7MB/s eta 0:00:01\r\u001b[K     |█▌                              | 61kB 18.6MB/s eta 0:00:01\r\u001b[K     |█▊                              | 71kB 15.9MB/s eta 0:00:01\r\u001b[K     |██                              | 81kB 16.7MB/s eta 0:00:01\r\u001b[K     |██▎                             | 92kB 15.2MB/s eta 0:00:01\r\u001b[K     |██▌                             | 102kB 14.2MB/s eta 0:00:01\r\u001b[K     |██▊                             | 112kB 14.2MB/s eta 0:00:01\r\u001b[K     |███                             | 122kB 14.2MB/s eta 0:00:01\r\u001b[K     |███▎                            | 133kB 14.2MB/s eta 0:00:01\r\u001b[K     |███▌                            | 143kB 14.2MB/s eta 0:00:01\r\u001b[K     |███▉                            | 153kB 14.2MB/s eta 0:00:01\r\u001b[K     |████                            | 163kB 14.2MB/s eta 0:00:01\r\u001b[K     |████▎                           | 174kB 14.2MB/s eta 0:00:01\r\u001b[K     |████▌                           | 184kB 14.2MB/s eta 0:00:01\r\u001b[K     |████▉                           | 194kB 14.2MB/s eta 0:00:01\r\u001b[K     |█████                           | 204kB 14.2MB/s eta 0:00:01\r\u001b[K     |█████▎                          | 215kB 14.2MB/s eta 0:00:01\r\u001b[K     |█████▌                          | 225kB 14.2MB/s eta 0:00:01\r\u001b[K     |█████▉                          | 235kB 14.2MB/s eta 0:00:01\r\u001b[K     |██████                          | 245kB 14.2MB/s eta 0:00:01\r\u001b[K     |██████▎                         | 256kB 14.2MB/s eta 0:00:01\r\u001b[K     |██████▌                         | 266kB 14.2MB/s eta 0:00:01\r\u001b[K     |██████▉                         | 276kB 14.2MB/s eta 0:00:01\r\u001b[K     |███████                         | 286kB 14.2MB/s eta 0:00:01\r\u001b[K     |███████▎                        | 296kB 14.2MB/s eta 0:00:01\r\u001b[K     |███████▋                        | 307kB 14.2MB/s eta 0:00:01\r\u001b[K     |███████▉                        | 317kB 14.2MB/s eta 0:00:01\r\u001b[K     |████████                        | 327kB 14.2MB/s eta 0:00:01\r\u001b[K     |████████▎                       | 337kB 14.2MB/s eta 0:00:01\r\u001b[K     |████████▋                       | 348kB 14.2MB/s eta 0:00:01\r\u001b[K     |████████▉                       | 358kB 14.2MB/s eta 0:00:01\r\u001b[K     |█████████                       | 368kB 14.2MB/s eta 0:00:01\r\u001b[K     |█████████▎                      | 378kB 14.2MB/s eta 0:00:01\r\u001b[K     |█████████▋                      | 389kB 14.2MB/s eta 0:00:01\r\u001b[K     |█████████▉                      | 399kB 14.2MB/s eta 0:00:01\r\u001b[K     |██████████                      | 409kB 14.2MB/s eta 0:00:01\r\u001b[K     |██████████▎                     | 419kB 14.2MB/s eta 0:00:01\r\u001b[K     |██████████▋                     | 430kB 14.2MB/s eta 0:00:01\r\u001b[K     |██████████▉                     | 440kB 14.2MB/s eta 0:00:01\r\u001b[K     |███████████                     | 450kB 14.2MB/s eta 0:00:01\r\u001b[K     |███████████▍                    | 460kB 14.2MB/s eta 0:00:01\r\u001b[K     |███████████▋                    | 471kB 14.2MB/s eta 0:00:01\r\u001b[K     |███████████▉                    | 481kB 14.2MB/s eta 0:00:01\r\u001b[K     |████████████                    | 491kB 14.2MB/s eta 0:00:01\r\u001b[K     |████████████▍                   | 501kB 14.2MB/s eta 0:00:01\r\u001b[K     |████████████▋                   | 512kB 14.2MB/s eta 0:00:01\r\u001b[K     |████████████▉                   | 522kB 14.2MB/s eta 0:00:01\r\u001b[K     |█████████████                   | 532kB 14.2MB/s eta 0:00:01\r\u001b[K     |█████████████▍                  | 542kB 14.2MB/s eta 0:00:01\r\u001b[K     |█████████████▋                  | 552kB 14.2MB/s eta 0:00:01\r\u001b[K     |█████████████▉                  | 563kB 14.2MB/s eta 0:00:01\r\u001b[K     |██████████████                  | 573kB 14.2MB/s eta 0:00:01\r\u001b[K     |██████████████▍                 | 583kB 14.2MB/s eta 0:00:01\r\u001b[K     |██████████████▋                 | 593kB 14.2MB/s eta 0:00:01\r\u001b[K     |██████████████▉                 | 604kB 14.2MB/s eta 0:00:01\r\u001b[K     |███████████████▏                | 614kB 14.2MB/s eta 0:00:01\r\u001b[K     |███████████████▍                | 624kB 14.2MB/s eta 0:00:01\r\u001b[K     |███████████████▋                | 634kB 14.2MB/s eta 0:00:01\r\u001b[K     |███████████████▉                | 645kB 14.2MB/s eta 0:00:01\r\u001b[K     |████████████████▏               | 655kB 14.2MB/s eta 0:00:01\r\u001b[K     |████████████████▍               | 665kB 14.2MB/s eta 0:00:01\r\u001b[K     |████████████████▋               | 675kB 14.2MB/s eta 0:00:01\r\u001b[K     |████████████████▉               | 686kB 14.2MB/s eta 0:00:01\r\u001b[K     |█████████████████▏              | 696kB 14.2MB/s eta 0:00:01\r\u001b[K     |█████████████████▍              | 706kB 14.2MB/s eta 0:00:01\r\u001b[K     |█████████████████▋              | 716kB 14.2MB/s eta 0:00:01\r\u001b[K     |██████████████████              | 727kB 14.2MB/s eta 0:00:01\r\u001b[K     |██████████████████▏             | 737kB 14.2MB/s eta 0:00:01\r\u001b[K     |██████████████████▍             | 747kB 14.2MB/s eta 0:00:01\r\u001b[K     |██████████████████▋             | 757kB 14.2MB/s eta 0:00:01\r\u001b[K     |███████████████████             | 768kB 14.2MB/s eta 0:00:01\r\u001b[K     |███████████████████▏            | 778kB 14.2MB/s eta 0:00:01\r\u001b[K     |███████████████████▍            | 788kB 14.2MB/s eta 0:00:01\r\u001b[K     |███████████████████▋            | 798kB 14.2MB/s eta 0:00:01\r\u001b[K     |████████████████████            | 808kB 14.2MB/s eta 0:00:01\r\u001b[K     |████████████████████▏           | 819kB 14.2MB/s eta 0:00:01\r\u001b[K     |████████████████████▍           | 829kB 14.2MB/s eta 0:00:01\r\u001b[K     |████████████████████▋           | 839kB 14.2MB/s eta 0:00:01\r\u001b[K     |█████████████████████           | 849kB 14.2MB/s eta 0:00:01\r\u001b[K     |█████████████████████▏          | 860kB 14.2MB/s eta 0:00:01\r\u001b[K     |█████████████████████▍          | 870kB 14.2MB/s eta 0:00:01\r\u001b[K     |█████████████████████▊          | 880kB 14.2MB/s eta 0:00:01\r\u001b[K     |██████████████████████          | 890kB 14.2MB/s eta 0:00:01\r\u001b[K     |██████████████████████▏         | 901kB 14.2MB/s eta 0:00:01\r\u001b[K     |██████████████████████▍         | 911kB 14.2MB/s eta 0:00:01\r\u001b[K     |██████████████████████▊         | 921kB 14.2MB/s eta 0:00:01\r\u001b[K     |███████████████████████         | 931kB 14.2MB/s eta 0:00:01\r\u001b[K     |███████████████████████▏        | 942kB 14.2MB/s eta 0:00:01\r\u001b[K     |███████████████████████▍        | 952kB 14.2MB/s eta 0:00:01\r\u001b[K     |███████████████████████▊        | 962kB 14.2MB/s eta 0:00:01\r\u001b[K     |████████████████████████        | 972kB 14.2MB/s eta 0:00:01\r\u001b[K     |████████████████████████▏       | 983kB 14.2MB/s eta 0:00:01\r\u001b[K     |████████████████████████▍       | 993kB 14.2MB/s eta 0:00:01\r\u001b[K     |████████████████████████▊       | 1.0MB 14.2MB/s eta 0:00:01\r\u001b[K     |█████████████████████████       | 1.0MB 14.2MB/s eta 0:00:01\r\u001b[K     |█████████████████████████▏      | 1.0MB 14.2MB/s eta 0:00:01\r\u001b[K     |█████████████████████████▌      | 1.0MB 14.2MB/s eta 0:00:01\r\u001b[K     |█████████████████████████▊      | 1.0MB 14.2MB/s eta 0:00:01\r\u001b[K     |██████████████████████████      | 1.1MB 14.2MB/s eta 0:00:01\r\u001b[K     |██████████████████████████▏     | 1.1MB 14.2MB/s eta 0:00:01\r\u001b[K     |██████████████████████████▌     | 1.1MB 14.2MB/s eta 0:00:01\r\u001b[K     |██████████████████████████▊     | 1.1MB 14.2MB/s eta 0:00:01\r\u001b[K     |███████████████████████████     | 1.1MB 14.2MB/s eta 0:00:01\r\u001b[K     |███████████████████████████▏    | 1.1MB 14.2MB/s eta 0:00:01\r\u001b[K     |███████████████████████████▌    | 1.1MB 14.2MB/s eta 0:00:01\r\u001b[K     |███████████████████████████▊    | 1.1MB 14.2MB/s eta 0:00:01\r\u001b[K     |████████████████████████████    | 1.1MB 14.2MB/s eta 0:00:01\r\u001b[K     |████████████████████████████▏   | 1.1MB 14.2MB/s eta 0:00:01\r\u001b[K     |████████████████████████████▌   | 1.2MB 14.2MB/s eta 0:00:01\r\u001b[K     |████████████████████████████▊   | 1.2MB 14.2MB/s eta 0:00:01\r\u001b[K     |█████████████████████████████   | 1.2MB 14.2MB/s eta 0:00:01\r\u001b[K     |█████████████████████████████▎  | 1.2MB 14.2MB/s eta 0:00:01\r\u001b[K     |█████████████████████████████▌  | 1.2MB 14.2MB/s eta 0:00:01\r\u001b[K     |█████████████████████████████▊  | 1.2MB 14.2MB/s eta 0:00:01\r\u001b[K     |██████████████████████████████  | 1.2MB 14.2MB/s eta 0:00:01\r\u001b[K     |██████████████████████████████▎ | 1.2MB 14.2MB/s eta 0:00:01\r\u001b[K     |██████████████████████████████▌ | 1.2MB 14.2MB/s eta 0:00:01\r\u001b[K     |██████████████████████████████▊ | 1.2MB 14.2MB/s eta 0:00:01\r\u001b[K     |███████████████████████████████ | 1.3MB 14.2MB/s eta 0:00:01\r\u001b[K     |███████████████████████████████▎| 1.3MB 14.2MB/s eta 0:00:01\r\u001b[K     |███████████████████████████████▌| 1.3MB 14.2MB/s eta 0:00:01\r\u001b[K     |███████████████████████████████▊| 1.3MB 14.2MB/s eta 0:00:01\r\u001b[K     |████████████████████████████████| 1.3MB 14.2MB/s eta 0:00:01\r\u001b[K     |████████████████████████████████| 1.3MB 14.2MB/s \n",
            "\u001b[?25hRequirement already satisfied: protobuf in /usr/local/lib/python3.6/dist-packages (from transformers) (3.12.4)\n",
            "Collecting tokenizers==0.9.3\n",
            "\u001b[?25l  Downloading https://files.pythonhosted.org/packages/4c/34/b39eb9994bc3c999270b69c9eea40ecc6f0e97991dba28282b9fd32d44ee/tokenizers-0.9.3-cp36-cp36m-manylinux1_x86_64.whl (2.9MB)\n",
            "\u001b[K     |████████████████████████████████| 2.9MB 47.0MB/s \n",
            "\u001b[?25hRequirement already satisfied: numpy in /usr/local/lib/python3.6/dist-packages (from transformers) (1.18.5)\n",
            "Requirement already satisfied: dataclasses; python_version < \"3.7\" in /usr/local/lib/python3.6/dist-packages (from transformers) (0.7)\n",
            "Requirement already satisfied: regex!=2019.12.17 in /usr/local/lib/python3.6/dist-packages (from transformers) (2019.12.20)\n",
            "Collecting sacremoses\n",
            "\u001b[?25l  Downloading https://files.pythonhosted.org/packages/7d/34/09d19aff26edcc8eb2a01bed8e98f13a1537005d31e95233fd48216eed10/sacremoses-0.0.43.tar.gz (883kB)\n",
            "\u001b[K     |████████████████████████████████| 890kB 58.7MB/s \n",
            "\u001b[?25hRequirement already satisfied: requests in /usr/local/lib/python3.6/dist-packages (from transformers) (2.23.0)\n",
            "Requirement already satisfied: filelock in /usr/local/lib/python3.6/dist-packages (from transformers) (3.0.12)\n",
            "Requirement already satisfied: tqdm>=4.27 in /usr/local/lib/python3.6/dist-packages (from transformers) (4.41.1)\n",
            "Requirement already satisfied: packaging in /usr/local/lib/python3.6/dist-packages (from transformers) (20.4)\n",
            "Collecting sentencepiece==0.1.91\n",
            "\u001b[?25l  Downloading https://files.pythonhosted.org/packages/d4/a4/d0a884c4300004a78cca907a6ff9a5e9fe4f090f5d95ab341c53d28cbc58/sentencepiece-0.1.91-cp36-cp36m-manylinux1_x86_64.whl (1.1MB)\n",
            "\u001b[K     |████████████████████████████████| 1.1MB 47.6MB/s \n",
            "\u001b[?25hRequirement already satisfied: setuptools in /usr/local/lib/python3.6/dist-packages (from protobuf->transformers) (50.3.2)\n",
            "Requirement already satisfied: six>=1.9 in /usr/local/lib/python3.6/dist-packages (from protobuf->transformers) (1.15.0)\n",
            "Requirement already satisfied: click in /usr/local/lib/python3.6/dist-packages (from sacremoses->transformers) (7.1.2)\n",
            "Requirement already satisfied: joblib in /usr/local/lib/python3.6/dist-packages (from sacremoses->transformers) (0.17.0)\n",
            "Requirement already satisfied: certifi>=2017.4.17 in /usr/local/lib/python3.6/dist-packages (from requests->transformers) (2020.6.20)\n",
            "Requirement already satisfied: idna<3,>=2.5 in /usr/local/lib/python3.6/dist-packages (from requests->transformers) (2.10)\n",
            "Requirement already satisfied: urllib3!=1.25.0,!=1.25.1,<1.26,>=1.21.1 in /usr/local/lib/python3.6/dist-packages (from requests->transformers) (1.24.3)\n",
            "Requirement already satisfied: chardet<4,>=3.0.2 in /usr/local/lib/python3.6/dist-packages (from requests->transformers) (3.0.4)\n",
            "Requirement already satisfied: pyparsing>=2.0.2 in /usr/local/lib/python3.6/dist-packages (from packaging->transformers) (2.4.7)\n",
            "Building wheels for collected packages: sacremoses\n",
            "  Building wheel for sacremoses (setup.py) ... \u001b[?25l\u001b[?25hdone\n",
            "  Created wheel for sacremoses: filename=sacremoses-0.0.43-cp36-none-any.whl size=893257 sha256=138f5d45bd773e513ab735f53de0412092ffd53f54b5eb844dc50ef46d2fcf78\n",
            "  Stored in directory: /root/.cache/pip/wheels/29/3c/fd/7ce5c3f0666dab31a50123635e6fb5e19ceb42ce38d4e58f45\n",
            "Successfully built sacremoses\n",
            "Installing collected packages: tokenizers, sacremoses, sentencepiece, transformers\n",
            "Successfully installed sacremoses-0.0.43 sentencepiece-0.1.91 tokenizers-0.9.3 transformers-3.5.1\n",
            "Collecting unidecode\n",
            "\u001b[?25l  Downloading https://files.pythonhosted.org/packages/d0/42/d9edfed04228bacea2d824904cae367ee9efd05e6cce7ceaaedd0b0ad964/Unidecode-1.1.1-py2.py3-none-any.whl (238kB)\n",
            "\u001b[K     |████████████████████████████████| 245kB 12.4MB/s \n",
            "\u001b[?25hInstalling collected packages: unidecode\n",
            "Successfully installed unidecode-1.1.1\n"
          ],
          "name": "stdout"
        }
      ]
    },
    {
      "cell_type": "markdown",
      "metadata": {
        "id": "aaR1kCaX9H1H"
      },
      "source": [
        "# Importing Libraries"
      ]
    },
    {
      "cell_type": "code",
      "metadata": {
        "id": "udaVulil9Jo6"
      },
      "source": [
        "import numpy as np\n",
        "import pandas as pd\n",
        "import os\n",
        "from os import listdir\n",
        "from os.path import join\n",
        "import unidecode\n",
        "import re\n",
        "import logging\n",
        "from tqdm.notebook import tnrange\n",
        "import glob\n",
        "import json\n",
        "\n",
        "#For ploting results\n",
        "import matplotlib.pyplot as plt\n",
        "\n",
        "# DL Libraries\n",
        "from transformers import BertModel, AdamW, BertTokenizer, BertConfig, RobertaTokenizer, RobertaModel\n",
        "from keras.preprocessing.sequence import pad_sequences\n",
        "import torch\n",
        "import torch.nn as nn\n",
        "from torch.utils.data import (DataLoader, RandomSampler, SequentialSampler, TensorDataset)\n",
        "from sklearn.metrics import classification_report, accuracy_score\n",
        "from sklearn.model_selection import train_test_split\n",
        "from scipy.stats import pearsonr\n",
        "from sklearn.utils import shuffle\n",
        "from sklearn.metrics import mean_squared_error, f1_score"
      ],
      "execution_count": null,
      "outputs": []
    },
    {
      "cell_type": "code",
      "metadata": {
        "id": "G4OvOrtF9MKU",
        "colab": {
          "base_uri": "https://localhost:8080/"
        },
        "outputId": "99849ae3-5161-43a5-ca87-df9fd4c1de82"
      },
      "source": [
        "device = torch.device(\"cuda\" if torch.cuda.is_available() else \"cpu\")\n",
        "n_gpu = torch.cuda.device_count()\n",
        "print(\"device: {} n_gpu: {}\".format(device, n_gpu)) "
      ],
      "execution_count": null,
      "outputs": [
        {
          "output_type": "stream",
          "text": [
            "device: cuda n_gpu: 1\n"
          ],
          "name": "stdout"
        }
      ]
    },
    {
      "cell_type": "code",
      "metadata": {
        "id": "ZL5xOuWM9OKP",
        "colab": {
          "base_uri": "https://localhost:8080/"
        },
        "outputId": "6684eddc-b6bc-430d-b1f6-c7f77452022b"
      },
      "source": [
        "logging.basicConfig(format = '%(asctime)s - %(levelname)s - %(name)s -   %(message)s',\n",
        "                    datefmt = '%m/%d/%Y %H:%M:%S',\n",
        "                    level = logging.INFO)\n",
        "logger = logging.getLogger(__name__)\n",
        "print(logger)"
      ],
      "execution_count": null,
      "outputs": [
        {
          "output_type": "stream",
          "text": [
            "<Logger __main__ (INFO)>\n"
          ],
          "name": "stdout"
        }
      ]
    },
    {
      "cell_type": "markdown",
      "metadata": {
        "id": "-51uiEKJ9SGG"
      },
      "source": [
        "#Data Processing"
      ]
    },
    {
      "cell_type": "markdown",
      "metadata": {
        "id": "aPnAk7bgMtiI"
      },
      "source": [
        "Function to tokenize input dataframe (Query, Sentence, Label) and return tensorDatset with corresponding input_id, attention_masks and labels as a PyTorch dataloader. "
      ]
    },
    {
      "cell_type": "code",
      "metadata": {
        "id": "B9ebvwdy9bPc"
      },
      "source": [
        "def create_dataloader(tokenizer, df):\n",
        "    input_ids= list()\n",
        "    attention_masks= list()\n",
        "\n",
        "    print(\"Shape: {}\".format(df.shape))\n",
        "\n",
        "    special_sentences_1 = [sentence for i, sentence in enumerate(df.question)]\n",
        "    special_sentences_2 = [\" [SEP] \" + str(sentence) for i, sentence in enumerate(df.sentence)]\n",
        "    special_sentences = [i + j for i, j in zip(special_sentences_1, special_sentences_2)]\n",
        "\n",
        "    for sentence in special_sentences:\n",
        "      encoded_text = tokenizer.encode_plus(sentence, max_length=512, add_special_tokens=True, return_token_type_ids=False, \n",
        "                                       padding='max_length', return_attention_mask=True, truncation=True)\n",
        "      input_ids.append(encoded_text['input_ids'])\n",
        "      attention_masks.append(encoded_text['attention_mask'])\n",
        "\n",
        "    inputs = torch.tensor(input_ids).to(device)\n",
        "    masks = torch.tensor(attention_masks).to(device)\n",
        "    gold_labels = torch.tensor(df.sia_score.tolist()).to(device)\n",
        "  \n",
        "    data = TensorDataset(inputs, masks, gold_labels)\n",
        "    sampler = RandomSampler(data)\n",
        "    dataloader = DataLoader(data, sampler=sampler, batch_size=4)\n",
        "\n",
        "    return dataloader"
      ],
      "execution_count": null,
      "outputs": []
    },
    {
      "cell_type": "markdown",
      "metadata": {
        "id": "HVf0RoytN-Qz"
      },
      "source": [
        "To load the dataset from google drive.\n",
        "\n",
        "**!!! Please change the directory accordingly !!!**\n",
        "\n",
        "Performing the train-test split after shuffling the dataset."
      ]
    },
    {
      "cell_type": "code",
      "metadata": {
        "id": "W4aFg_k79ihP"
      },
      "source": [
        "load_data= '/content/drive/My Drive/Sahit/work/project_nlp/data'\n",
        "\n",
        "data_df= pd.read_csv(join(load_data,'data60k.csv'))\n",
        "data_df= shuffle(data_df)\n",
        "\n",
        "train_df, test_df= train_test_split(data_df, test_size=0.2)"
      ],
      "execution_count": null,
      "outputs": []
    },
    {
      "cell_type": "markdown",
      "metadata": {
        "id": "Hme5lMASO0ya"
      },
      "source": [
        "Loading pretrained 'roberta-base' tokenizer and creating dataloader for train & test dataframes."
      ]
    },
    {
      "cell_type": "code",
      "metadata": {
        "id": "EGwP2HAe-XOt",
        "colab": {
          "base_uri": "https://localhost:8080/",
          "height": 237,
          "referenced_widgets": [
            "ca9866a432b64505bc1a2db0601c0dcc",
            "2bd37c8c58294cfd812be4dc46a4cc1a",
            "a49841e0664d433bb7619e6a32374c8d",
            "098c0ff98933487a8369e3780ed9538b",
            "cef5f0024c8b4ff2b579c9e0be2cd0a2",
            "e56f26a234b043519d145cbc5e2cb5fd",
            "f4ef795f63054ddbb87c0a2316e14126",
            "ab7198cf200c4c0b853e0582959b56cc",
            "89e1202c7b9b49b5900fcf49112267e2",
            "53f6dcf1b3fb4efc875e85ddcd3f8fa0",
            "5f9480e4bb6546a0ad50670b2aca8ec4",
            "1884680e6a694a738b04c02bff2ca656",
            "cf1a912bd3224714a0acbf5f06245d56",
            "cca6c804028d472c80380fb7030c026b",
            "e5a3b9bba5f64783a763e981033b4aba",
            "b1bb959092db4185bca23eda89026a2d"
          ]
        },
        "outputId": "197378a7-b673-464a-ec6e-9809c06ab1eb"
      },
      "source": [
        "#Dataloaders\n",
        "tokenizer = RobertaTokenizer.from_pretrained('roberta-base')\n",
        "train_dataloader= create_dataloader(tokenizer, train_df)\n",
        "test_dataloader= create_dataloader(tokenizer, test_df)"
      ],
      "execution_count": null,
      "outputs": [
        {
          "output_type": "stream",
          "text": [
            "11/20/2020 07:27:09 - INFO - filelock -   Lock 140109902941264 acquired on /root/.cache/torch/transformers/d3ccdbfeb9aaa747ef20432d4976c32ee3fa69663b379deb253ccfce2bb1fdc5.d67d6b367eb24ab43b08ad55e014cf254076934f71d832bbab9ad35644a375ab.lock\n"
          ],
          "name": "stderr"
        },
        {
          "output_type": "display_data",
          "data": {
            "application/vnd.jupyter.widget-view+json": {
              "model_id": "ca9866a432b64505bc1a2db0601c0dcc",
              "version_minor": 0,
              "version_major": 2
            },
            "text/plain": [
              "HBox(children=(FloatProgress(value=0.0, description='Downloading', max=898823.0, style=ProgressStyle(descripti…"
            ]
          },
          "metadata": {
            "tags": []
          }
        },
        {
          "output_type": "stream",
          "text": [
            "11/20/2020 07:27:10 - INFO - filelock -   Lock 140109902941264 released on /root/.cache/torch/transformers/d3ccdbfeb9aaa747ef20432d4976c32ee3fa69663b379deb253ccfce2bb1fdc5.d67d6b367eb24ab43b08ad55e014cf254076934f71d832bbab9ad35644a375ab.lock\n"
          ],
          "name": "stderr"
        },
        {
          "output_type": "stream",
          "text": [
            "\n"
          ],
          "name": "stdout"
        },
        {
          "output_type": "stream",
          "text": [
            "11/20/2020 07:27:11 - INFO - filelock -   Lock 140112349613976 acquired on /root/.cache/torch/transformers/cafdecc90fcab17011e12ac813dd574b4b3fea39da6dd817813efa010262ff3f.5d12962c5ee615a4c803841266e9c3be9a691a924f72d395d3a6c6c81157788b.lock\n"
          ],
          "name": "stderr"
        },
        {
          "output_type": "display_data",
          "data": {
            "application/vnd.jupyter.widget-view+json": {
              "model_id": "89e1202c7b9b49b5900fcf49112267e2",
              "version_minor": 0,
              "version_major": 2
            },
            "text/plain": [
              "HBox(children=(FloatProgress(value=0.0, description='Downloading', max=456318.0, style=ProgressStyle(descripti…"
            ]
          },
          "metadata": {
            "tags": []
          }
        },
        {
          "output_type": "stream",
          "text": [
            "11/20/2020 07:27:11 - INFO - filelock -   Lock 140112349613976 released on /root/.cache/torch/transformers/cafdecc90fcab17011e12ac813dd574b4b3fea39da6dd817813efa010262ff3f.5d12962c5ee615a4c803841266e9c3be9a691a924f72d395d3a6c6c81157788b.lock\n"
          ],
          "name": "stderr"
        },
        {
          "output_type": "stream",
          "text": [
            "\n",
            "Shape: (49672, 4)\n",
            "Shape: (12419, 4)\n"
          ],
          "name": "stdout"
        }
      ]
    },
    {
      "cell_type": "markdown",
      "metadata": {
        "id": "lXtqwzjtHMM_"
      },
      "source": [
        "# Model"
      ]
    },
    {
      "cell_type": "markdown",
      "metadata": {
        "id": "IxGD23NFQOe2"
      },
      "source": [
        "Model: 'roberta-base' with a Linear layer on top to generate SIA scores."
      ]
    },
    {
      "cell_type": "code",
      "metadata": {
        "id": "objCF2naHNeR"
      },
      "source": [
        "#Class for Regression\n",
        "class Regressor(nn.Module):\n",
        "\n",
        "  def __init__(self):\n",
        "    super(Regressor, self).__init__()\n",
        "    self.bert = RobertaModel.from_pretrained('roberta-base')\n",
        "    self.out = nn.Linear(self.bert.config.hidden_size, 1)\n",
        "\n",
        "  def forward(self, input_ids, attention_mask):\n",
        "    output, pooler_out = self.bert(input_ids=input_ids, attention_mask=attention_mask)\n",
        "    score= self.out(pooler_out)\n",
        "    return score\n",
        "    "
      ],
      "execution_count": null,
      "outputs": []
    },
    {
      "cell_type": "markdown",
      "metadata": {
        "id": "Y0lUjY7RPbwt"
      },
      "source": [
        "Model Initialization with:\n",
        "\n",
        "* 10 epochs\n",
        "\n",
        "* 'AdamW' optimizer\n",
        "\n",
        "* Mean Squared Error (MSE) Loss function"
      ]
    },
    {
      "cell_type": "code",
      "metadata": {
        "id": "n2nHjhrpHV3b",
        "colab": {
          "base_uri": "https://localhost:8080/",
          "height": 203,
          "referenced_widgets": [
            "f5db89c125d34511a07f87035976e54d",
            "8fb1c475fa7842bd96ff22a6d5a6c919",
            "7531707e4d1843a7a787a1c3e456767a",
            "30ce7acc5dc64f31869f34abf0565f4e",
            "7cdfc7f9f4cc41d0926781906fc56917",
            "a619e8b73d73478ca7197bc797e86001",
            "b5253d77fc2b4284b8eb734b9eccb45f",
            "129e29c967c043f9be621053eace5fa5",
            "3756518c1cd54dcab13092e36bf1dd20",
            "4fc2732a88ab46879ed3d9f2f092bab3",
            "5d80dc0c7c35433ea095b66a4d6336c2",
            "8d405635375a4da1a484a9ced6ea3ad1",
            "21c1359c4a834d67952e3d28bd1810b8",
            "489f5d3cfe4a4662901b6a77e4a65467",
            "19b3845dbb2d455e985802c133405e1d",
            "270f586b3af94df3afae583e4fb3a459"
          ]
        },
        "outputId": "519d2123-b6c3-4663-968d-642292b8ea1d"
      },
      "source": [
        "#Model Intialization\n",
        "\n",
        "epochs = 10\n",
        "\n",
        "#Load Model\n",
        "model= Regressor()\n",
        "model.to(device)\n",
        "\n",
        "# Prepare optimizer\n",
        "optimizer = AdamW(model.parameters(),lr=2e-5)\n",
        "\n",
        "#Loss Function\n",
        "mse_loss= nn.MSELoss().to(device)"
      ],
      "execution_count": null,
      "outputs": [
        {
          "output_type": "stream",
          "text": [
            "11/20/2020 07:28:01 - INFO - filelock -   Lock 140109532988920 acquired on /root/.cache/torch/transformers/733bade19e5f0ce98e6531021dd5180994bb2f7b8bd7e80c7968805834ba351e.35205c6cfc956461d8515139f0f8dd5d207a2f336c0c3a83b4bc8dca3518e37b.lock\n"
          ],
          "name": "stderr"
        },
        {
          "output_type": "display_data",
          "data": {
            "application/vnd.jupyter.widget-view+json": {
              "model_id": "f5db89c125d34511a07f87035976e54d",
              "version_minor": 0,
              "version_major": 2
            },
            "text/plain": [
              "HBox(children=(FloatProgress(value=0.0, description='Downloading', max=481.0, style=ProgressStyle(description_…"
            ]
          },
          "metadata": {
            "tags": []
          }
        },
        {
          "output_type": "stream",
          "text": [
            "11/20/2020 07:28:01 - INFO - filelock -   Lock 140109532988920 released on /root/.cache/torch/transformers/733bade19e5f0ce98e6531021dd5180994bb2f7b8bd7e80c7968805834ba351e.35205c6cfc956461d8515139f0f8dd5d207a2f336c0c3a83b4bc8dca3518e37b.lock\n"
          ],
          "name": "stderr"
        },
        {
          "output_type": "stream",
          "text": [
            "\n"
          ],
          "name": "stdout"
        },
        {
          "output_type": "stream",
          "text": [
            "11/20/2020 07:28:02 - INFO - filelock -   Lock 140109582622000 acquired on /root/.cache/torch/transformers/51ba668f7ff34e7cdfa9561e8361747738113878850a7d717dbc69de8683aaad.c7efaa30a0d80b2958b876969faa180e485944a849deee4ad482332de65365a7.lock\n"
          ],
          "name": "stderr"
        },
        {
          "output_type": "display_data",
          "data": {
            "application/vnd.jupyter.widget-view+json": {
              "model_id": "3756518c1cd54dcab13092e36bf1dd20",
              "version_minor": 0,
              "version_major": 2
            },
            "text/plain": [
              "HBox(children=(FloatProgress(value=0.0, description='Downloading', max=501200538.0, style=ProgressStyle(descri…"
            ]
          },
          "metadata": {
            "tags": []
          }
        },
        {
          "output_type": "stream",
          "text": [
            "11/20/2020 07:28:08 - INFO - filelock -   Lock 140109582622000 released on /root/.cache/torch/transformers/51ba668f7ff34e7cdfa9561e8361747738113878850a7d717dbc69de8683aaad.c7efaa30a0d80b2958b876969faa180e485944a849deee4ad482332de65365a7.lock\n"
          ],
          "name": "stderr"
        },
        {
          "output_type": "stream",
          "text": [
            "\n"
          ],
          "name": "stdout"
        }
      ]
    },
    {
      "cell_type": "markdown",
      "metadata": {
        "id": "pQ2Y6ATjHdFL"
      },
      "source": [
        "#Training and Evaluation"
      ]
    },
    {
      "cell_type": "markdown",
      "metadata": {
        "id": "FDWWMBZtQp0N"
      },
      "source": [
        "Creating output directory:\n",
        "\n",
        "model path: '/content/drive/My Drive/project_nlp/sia_experiment/model1'\n",
        "\n",
        "result path: '/content/drive/My Drive/project_nlp/sia_experiment/results1'"
      ]
    },
    {
      "cell_type": "code",
      "metadata": {
        "id": "XorrsE4iHfNz"
      },
      "source": [
        "output_dir= '/content/drive/My Drive/project_nlp/sia_experiment/modelMSMARCO'\n",
        "output_result= '/content/drive/My Drive/project_nlp/sia_experiment/resultsMSMARCO'\n",
        "\n",
        "if not os.path.exists(output_dir):\n",
        "  os.makedirs(output_dir)\n",
        "\n",
        "if not os.path.exists(output_result):\n",
        "  os.makedirs(output_result)"
      ],
      "execution_count": null,
      "outputs": []
    },
    {
      "cell_type": "markdown",
      "metadata": {
        "id": "B_93zgQbRRmm"
      },
      "source": [
        "Model training followed by model evaluation"
      ]
    },
    {
      "cell_type": "code",
      "metadata": {
        "id": "igAHY2yyH13H",
        "colab": {
          "base_uri": "https://localhost:8080/",
          "height": 916,
          "referenced_widgets": [
            "daf31294e2764cc0b5a62bb2b2e04f6c",
            "74e3799ebe2b44cca9eb0057efcf06d6",
            "81246cf41ce944cfa23fc38f9c0f810d",
            "725237507a0c419fa28c310a49c7128a",
            "7ee7468867c64440a29cfd1acdf6d93d",
            "acc7de0fe52a48e784ca188ab1ac7709",
            "799882fa11614ceb83ec2c6601109bff",
            "f932a37ba792468794480c707af4f4e4"
          ]
        },
        "outputId": "44b40023-fc85-45c5-c036-c61590913450"
      },
      "source": [
        "for iteration in tnrange(epochs, desc='Epochs'):\n",
        "  model.train()\n",
        "  logger.info(\"Running for iteration: {}\".format(iteration+1))\n",
        "\n",
        "  training_loss, training_steps = 0,0\n",
        "  true_labels, predicted_labels = list(), list()\n",
        "  \n",
        "  for step, batch in enumerate(train_dataloader):\n",
        "    batch = tuple(t.to(device) for t in batch)\n",
        "    ip_ids, masks, gold_labels= batch\n",
        "    score = model(ip_ids, attention_mask=masks)\n",
        "    score = score.squeeze(1)\n",
        "    loss= mse_loss(score, gold_labels.float())\n",
        "    loss.backward()\n",
        "    optimizer.step()\n",
        "    optimizer.zero_grad()\n",
        "    training_loss+=loss.item()\n",
        "    training_steps+=1\n",
        "    if (step+1)%10000 == 0:\n",
        "      print(step+1)\n",
        "\n",
        "    true_labels.extend(gold_labels.cpu().numpy())\n",
        "    predicted_labels.extend(score.detach().cpu().numpy())\n",
        "  \n",
        "  training_loss_for_epoch= training_loss/training_steps\n",
        "  pcc= pearsonr(true_labels, predicted_labels)\n",
        "  rmse= mean_squared_error(true_labels, predicted_labels, squared=False)\n",
        "  \n",
        "  result = {'loss': training_loss_for_epoch, 'PCC': pcc[0], 'RMSE':rmse}\n",
        "  print(result)\n",
        "\n",
        "  model_to_save = model.bert.module if hasattr(model.bert, 'module') else model.bert\n",
        "  model_to_save.save_pretrained(output_dir)\n",
        "\n",
        "  torch.save(model.out.state_dict(), join(output_dir, 'model_state.bin'))\n",
        "\n",
        "  #Testing\n",
        "  print(\"Running evaluation for epoch: {}\".format(iteration+1))\n",
        "\n",
        "  true_labels, predicted_labels= list(), list()\n",
        "  model.eval()\n",
        "  with torch.no_grad():\n",
        "    for step, batch in enumerate(test_dataloader):\n",
        "      batch = tuple(t.to(device) for t in batch)\n",
        "      ip_ids, masks, gold_labels= batch\n",
        "      score = model(ip_ids, attention_mask=masks)\n",
        "      score = score.squeeze(1)\n",
        "\n",
        "      true_labels.extend(gold_labels.cpu().numpy())\n",
        "      predicted_labels.extend(score.detach().cpu().numpy())\n",
        "  \n",
        "  pcc= pearsonr(true_labels, predicted_labels)\n",
        "  rmse= mean_squared_error(true_labels, predicted_labels, squared=False)\n",
        "  test_report= {'PCC': pcc[0], 'RMSE':str(rmse)}\n",
        "  print(test_report)\n",
        "\n",
        "  with open(join(output_result, 'result_'+str(iteration+1)+'.json'), 'w') as fp:\n",
        "    json.dump(test_report, fp)\n"
      ],
      "execution_count": null,
      "outputs": [
        {
          "output_type": "display_data",
          "data": {
            "application/vnd.jupyter.widget-view+json": {
              "model_id": "daf31294e2764cc0b5a62bb2b2e04f6c",
              "version_minor": 0,
              "version_major": 2
            },
            "text/plain": [
              "HBox(children=(FloatProgress(value=0.0, description='Epochs', max=10.0, style=ProgressStyle(description_width=…"
            ]
          },
          "metadata": {
            "tags": []
          }
        },
        {
          "output_type": "stream",
          "text": [
            "11/20/2020 07:28:12 - INFO - __main__ -   Running for iteration: 1\n"
          ],
          "name": "stderr"
        },
        {
          "output_type": "stream",
          "text": [
            "10000\n",
            "{'loss': 0.36069470434314616, 'PCC': 0.7220299296690421, 'RMSE': 0.60057867}\n",
            "Running evaluation for epoch: 1\n",
            "{'PCC': 0.813001740702419, 'RMSE': '0.52376467'}\n"
          ],
          "name": "stdout"
        },
        {
          "output_type": "stream",
          "text": [
            "11/20/2020 08:01:56 - INFO - __main__ -   Running for iteration: 2\n"
          ],
          "name": "stderr"
        },
        {
          "output_type": "stream",
          "text": [
            "10000\n",
            "{'loss': 0.228705441012905, 'PCC': 0.8342812108816875, 'RMSE': 0.4782316}\n",
            "Running evaluation for epoch: 2\n",
            "{'PCC': 0.8400303430983965, 'RMSE': '0.50446314'}\n"
          ],
          "name": "stdout"
        },
        {
          "output_type": "stream",
          "text": [
            "11/20/2020 08:35:41 - INFO - __main__ -   Running for iteration: 3\n"
          ],
          "name": "stderr"
        },
        {
          "output_type": "stream",
          "text": [
            "10000\n",
            "{'loss': 0.16595294648451905, 'PCC': 0.8828384289150286, 'RMSE': 0.40737322}\n",
            "Running evaluation for epoch: 3\n",
            "{'PCC': 0.8495938339980833, 'RMSE': '0.473137'}\n"
          ],
          "name": "stdout"
        },
        {
          "output_type": "stream",
          "text": [
            "11/20/2020 09:09:34 - INFO - __main__ -   Running for iteration: 4\n"
          ],
          "name": "stderr"
        },
        {
          "output_type": "stream",
          "text": [
            "10000\n",
            "{'loss': 0.126398724073438, 'PCC': 0.9121236280137388, 'RMSE': 0.35552597}\n",
            "Running evaluation for epoch: 4\n",
            "{'PCC': 0.8532544609667987, 'RMSE': '0.4688463'}\n"
          ],
          "name": "stdout"
        },
        {
          "output_type": "stream",
          "text": [
            "11/20/2020 09:43:20 - INFO - __main__ -   Running for iteration: 5\n"
          ],
          "name": "stderr"
        },
        {
          "output_type": "stream",
          "text": [
            "10000\n",
            "{'loss': 0.09701180297040386, 'PCC': 0.9332908207225082, 'RMSE': 0.31146717}\n",
            "Running evaluation for epoch: 5\n",
            "{'PCC': 0.8639822209684618, 'RMSE': '0.44421396'}\n"
          ],
          "name": "stdout"
        },
        {
          "output_type": "stream",
          "text": [
            "11/20/2020 10:17:06 - INFO - __main__ -   Running for iteration: 6\n"
          ],
          "name": "stderr"
        },
        {
          "output_type": "stream",
          "text": [
            "10000\n",
            "{'loss': 0.07889804219177331, 'PCC': 0.9461022702721584, 'RMSE': 0.28088796}\n",
            "Running evaluation for epoch: 6\n",
            "{'PCC': 0.8667693258926773, 'RMSE': '0.45741135'}\n"
          ],
          "name": "stdout"
        },
        {
          "output_type": "stream",
          "text": [
            "11/20/2020 10:50:59 - INFO - __main__ -   Running for iteration: 7\n"
          ],
          "name": "stderr"
        },
        {
          "output_type": "stream",
          "text": [
            "10000\n",
            "{'loss': 0.06676833811231021, 'PCC': 0.9545862121977449, 'RMSE': 0.2583957}\n",
            "Running evaluation for epoch: 7\n"
          ],
          "name": "stdout"
        },
        {
          "output_type": "stream",
          "text": [
            "11/20/2020 11:24:49 - INFO - __main__ -   Running for iteration: 8\n"
          ],
          "name": "stderr"
        },
        {
          "output_type": "stream",
          "text": [
            "{'PCC': 0.8697604250129233, 'RMSE': '0.45364785'}\n",
            "10000\n",
            "{'loss': 0.05772004318493833, 'PCC': 0.9608661136420755, 'RMSE': 0.24024995}\n",
            "Running evaluation for epoch: 8\n"
          ],
          "name": "stdout"
        },
        {
          "output_type": "stream",
          "text": [
            "11/20/2020 11:58:33 - INFO - __main__ -   Running for iteration: 9\n"
          ],
          "name": "stderr"
        },
        {
          "output_type": "stream",
          "text": [
            "{'PCC': 0.8716596604736326, 'RMSE': '0.4368069'}\n",
            "10000\n",
            "{'loss': 0.050228939942770445, 'PCC': 0.966033803764081, 'RMSE': 0.22411814}\n",
            "Running evaluation for epoch: 9\n"
          ],
          "name": "stdout"
        },
        {
          "output_type": "stream",
          "text": [
            "11/20/2020 12:32:20 - INFO - __main__ -   Running for iteration: 10\n"
          ],
          "name": "stderr"
        },
        {
          "output_type": "stream",
          "text": [
            "{'PCC': 0.8728848541296215, 'RMSE': '0.43644488'}\n",
            "10000\n",
            "{'loss': 0.04544604791727937, 'PCC': 0.9693194042433445, 'RMSE': 0.2131808}\n",
            "Running evaluation for epoch: 10\n",
            "{'PCC': 0.8672140955712699, 'RMSE': '0.44383955'}\n",
            "\n"
          ],
          "name": "stdout"
        }
      ]
    },
    {
      "cell_type": "code",
      "metadata": {
        "id": "T73kWiM3QA6O"
      },
      "source": [
        "torch.save(model, '/content/drive/My Drive/project_nlp/sia_experiment/modelMSMARCO/pytorch_modelTrained')"
      ],
      "execution_count": null,
      "outputs": []
    },
    {
      "cell_type": "markdown",
      "metadata": {
        "id": "LcvxpXXXkfsy"
      },
      "source": [
        "# Visualizing the results"
      ]
    },
    {
      "cell_type": "code",
      "metadata": {
        "id": "amWhbDQmkbx5",
        "colab": {
          "base_uri": "https://localhost:8080/"
        },
        "outputId": "9100df62-e602-4f5b-b0dd-82e3fc44fa4d"
      },
      "source": [
        "filepaths= glob.glob(join(output_result,'*.json'))\n",
        "\n",
        "pcc, rmse= list(), list()\n",
        "\n",
        "for path in filepaths:\n",
        "  print(path)\n",
        "  f = open(path,'r') \n",
        "  data = json.load(f)\n",
        "  pcc.append(data['PCC'])  \n",
        "  rmse.append(float(data['RMSE']))"
      ],
      "execution_count": null,
      "outputs": [
        {
          "output_type": "stream",
          "text": [
            "/content/drive/My Drive/project_nlp/sia_experiment/resultsMSMARCO/result_2.json\n",
            "/content/drive/My Drive/project_nlp/sia_experiment/resultsMSMARCO/result_3.json\n",
            "/content/drive/My Drive/project_nlp/sia_experiment/resultsMSMARCO/result_4.json\n",
            "/content/drive/My Drive/project_nlp/sia_experiment/resultsMSMARCO/result_5.json\n",
            "/content/drive/My Drive/project_nlp/sia_experiment/resultsMSMARCO/result_6.json\n",
            "/content/drive/My Drive/project_nlp/sia_experiment/resultsMSMARCO/result_1.json\n",
            "/content/drive/My Drive/project_nlp/sia_experiment/resultsMSMARCO/result_7.json\n",
            "/content/drive/My Drive/project_nlp/sia_experiment/resultsMSMARCO/result_8.json\n",
            "/content/drive/My Drive/project_nlp/sia_experiment/resultsMSMARCO/result_9.json\n",
            "/content/drive/My Drive/project_nlp/sia_experiment/resultsMSMARCO/result_10.json\n"
          ],
          "name": "stdout"
        }
      ]
    },
    {
      "cell_type": "code",
      "metadata": {
        "id": "P2P0TkTekmsO",
        "colab": {
          "base_uri": "https://localhost:8080/"
        },
        "outputId": "8bbca770-729b-405f-d067-19cf0dc3bebe"
      },
      "source": [
        "#plot rmse\n",
        "plt.plot(rmse)\n",
        "plt.ylabel('RMSE')\n",
        "plt.xticks(range(1, 11))\n",
        "plt.xlabel('Epochs')\n",
        "plt.savefig(join(output_result, 'rmse.png'))\n",
        "plt.show()\n",
        "\n",
        "#plot\n",
        "plt.plot(pcc)\n",
        "plt.ylabel('PCC')\n",
        "plt.xticks(range(1, 11))\n",
        "plt.ylim(0, 1)\n",
        "plt.xlabel('Epochs')\n",
        "plt.savefig(join(output_result, 'pcc.png'))\n",
        "plt.show() "
      ],
      "execution_count": null,
      "outputs": [
        {
          "output_type": "display_data",
          "data": {
            "image/png": "[encoded data removed]",
            "text/plain": [
              "<Figure size 432x288 with 1 Axes>"
            ]
          },
          "metadata": {
            "tags": [],
            "needs_background": "light"
          }
        },
        {
          "output_type": "display_data",
          "data": {
            "image/png": "[encoded data removed]",
            "text/plain": [
              "<Figure size 432x288 with 1 Axes>"
            ]
          },
          "metadata": {
            "tags": [],
            "needs_background": "light"
          }
        }
      ]
    }
  ]
}