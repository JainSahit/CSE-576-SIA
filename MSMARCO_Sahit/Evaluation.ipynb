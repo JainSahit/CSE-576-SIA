{
  "nbformat": 4,
  "nbformat_minor": 0,
  "metadata": {
    "colab": {
      "name": "Evaluation",
      "provenance": [],
      "machine_shape": "hm"
    },
    "kernelspec": {
      "display_name": "Python 3",
      "name": "python3"
    },
    "accelerator": "GPU"
  },
  "cells": [
    {
      "cell_type": "markdown",
      "metadata": {
        "id": "aXhLRq5rpJtk"
      },
      "source": [
        "# Mount Drive \n",
        "\n",
        "\n"
      ]
    },
    {
      "cell_type": "code",
      "metadata": {
        "id": "kbq9z5sbSBvz",
        "colab": {
          "base_uri": "https://localhost:8080/"
        },
        "outputId": "bcbc633a-656a-4958-caca-144231bfe94a"
      },
      "source": [
        "from google.colab import drive\n",
        "\n",
        "drive.mount('/content/drive')"
      ],
      "execution_count": 1,
      "outputs": [
        {
          "output_type": "stream",
          "text": [
            "Mounted at /content/drive\n"
          ],
          "name": "stdout"
        }
      ]
    },
    {
      "cell_type": "code",
      "metadata": {
        "id": "e8ce_-sZK5Jd",
        "colab": {
          "base_uri": "https://localhost:8080/"
        },
        "outputId": "1ed69cda-2c8e-4d5c-d753-4de82c8d7d29"
      },
      "source": [
        "import json\n",
        "\n",
        "with open(\"/var/log/colab-jupyter.log\", \"r\") as fo:\n",
        "  for line in fo:\n",
        "    print(json.loads(line)['msg'])"
      ],
      "execution_count": 2,
      "outputs": [
        {
          "output_type": "stream",
          "text": [
            "Config option `delete_to_trash` not recognized by `ColabFileContentsManager`.\n",
            "Writing notebook server cookie secret to /root/.local/share/jupyter/runtime/notebook_cookie_secret\n",
            "google.colab serverextension initialized.\n",
            "Serving notebooks from local directory: /\n",
            "0 active kernels\n",
            "The Jupyter Notebook is running at:\n",
            "http://172.28.0.2:9000/\n",
            "Use Control-C to stop this server and shut down all kernels (twice to skip confirmation).\n",
            "Kernel started: 83bd10c9-dcf0-406e-959f-ce766481724e\n",
            "Adapting to protocol v5.1 for kernel 83bd10c9-dcf0-406e-959f-ce766481724e\n"
          ],
          "name": "stdout"
        }
      ]
    },
    {
      "cell_type": "markdown",
      "metadata": {
        "id": "5VFN-3lAvmLH"
      },
      "source": [
        "\n",
        "\n",
        "#Load Required Packages"
      ]
    },
    {
      "cell_type": "code",
      "metadata": {
        "colab": {
          "base_uri": "https://localhost:8080/"
        },
        "id": "l7fo2JZd6EXk",
        "outputId": "812014e3-1c3d-402a-830a-14544acc86fd"
      },
      "source": [
        "!pip install datasets\n",
        "!pip install transformers\n",
        "!pip3 install unidecode\n",
        "!pip install pyserini==0.10.0.0"
      ],
      "execution_count": 6,
      "outputs": [
        {
          "output_type": "stream",
          "text": [
            "Requirement already satisfied: datasets in /usr/local/lib/python3.6/dist-packages (1.1.3)\n",
            "Requirement already satisfied: numpy>=1.17 in /usr/local/lib/python3.6/dist-packages (from datasets) (1.18.5)\n",
            "Requirement already satisfied: dill in /usr/local/lib/python3.6/dist-packages (from datasets) (0.3.3)\n",
            "Requirement already satisfied: pyarrow>=0.17.1 in /usr/local/lib/python3.6/dist-packages (from datasets) (2.0.0)\n",
            "Requirement already satisfied: requests>=2.19.0 in /usr/local/lib/python3.6/dist-packages (from datasets) (2.23.0)\n",
            "Requirement already satisfied: pandas in /usr/local/lib/python3.6/dist-packages (from datasets) (1.1.4)\n",
            "Requirement already satisfied: multiprocess in /usr/local/lib/python3.6/dist-packages (from datasets) (0.70.11.1)\n",
            "Requirement already satisfied: tqdm<4.50.0,>=4.27 in /usr/local/lib/python3.6/dist-packages (from datasets) (4.41.1)\n",
            "Requirement already satisfied: dataclasses; python_version < \"3.7\" in /usr/local/lib/python3.6/dist-packages (from datasets) (0.8)\n",
            "Requirement already satisfied: xxhash in /usr/local/lib/python3.6/dist-packages (from datasets) (2.0.0)\n",
            "Requirement already satisfied: certifi>=2017.4.17 in /usr/local/lib/python3.6/dist-packages (from requests>=2.19.0->datasets) (2020.11.8)\n",
            "Requirement already satisfied: idna<3,>=2.5 in /usr/local/lib/python3.6/dist-packages (from requests>=2.19.0->datasets) (2.10)\n",
            "Requirement already satisfied: chardet<4,>=3.0.2 in /usr/local/lib/python3.6/dist-packages (from requests>=2.19.0->datasets) (3.0.4)\n",
            "Requirement already satisfied: urllib3!=1.25.0,!=1.25.1,<1.26,>=1.21.1 in /usr/local/lib/python3.6/dist-packages (from requests>=2.19.0->datasets) (1.24.3)\n",
            "Requirement already satisfied: python-dateutil>=2.7.3 in /usr/local/lib/python3.6/dist-packages (from pandas->datasets) (2.8.1)\n",
            "Requirement already satisfied: pytz>=2017.2 in /usr/local/lib/python3.6/dist-packages (from pandas->datasets) (2018.9)\n",
            "Requirement already satisfied: six>=1.5 in /usr/local/lib/python3.6/dist-packages (from python-dateutil>=2.7.3->pandas->datasets) (1.15.0)\n",
            "Requirement already satisfied: transformers in /usr/local/lib/python3.6/dist-packages (3.5.1)\n",
            "Requirement already satisfied: sentencepiece==0.1.91 in /usr/local/lib/python3.6/dist-packages (from transformers) (0.1.91)\n",
            "Requirement already satisfied: tqdm>=4.27 in /usr/local/lib/python3.6/dist-packages (from transformers) (4.41.1)\n",
            "Requirement already satisfied: sacremoses in /usr/local/lib/python3.6/dist-packages (from transformers) (0.0.43)\n",
            "Requirement already satisfied: dataclasses; python_version < \"3.7\" in /usr/local/lib/python3.6/dist-packages (from transformers) (0.8)\n",
            "Requirement already satisfied: requests in /usr/local/lib/python3.6/dist-packages (from transformers) (2.23.0)\n",
            "Requirement already satisfied: packaging in /usr/local/lib/python3.6/dist-packages (from transformers) (20.4)\n",
            "Requirement already satisfied: numpy in /usr/local/lib/python3.6/dist-packages (from transformers) (1.18.5)\n",
            "Requirement already satisfied: regex!=2019.12.17 in /usr/local/lib/python3.6/dist-packages (from transformers) (2019.12.20)\n",
            "Requirement already satisfied: protobuf in /usr/local/lib/python3.6/dist-packages (from transformers) (3.12.4)\n",
            "Requirement already satisfied: filelock in /usr/local/lib/python3.6/dist-packages (from transformers) (3.0.12)\n",
            "Requirement already satisfied: tokenizers==0.9.3 in /usr/local/lib/python3.6/dist-packages (from transformers) (0.9.3)\n",
            "Requirement already satisfied: click in /usr/local/lib/python3.6/dist-packages (from sacremoses->transformers) (7.1.2)\n",
            "Requirement already satisfied: six in /usr/local/lib/python3.6/dist-packages (from sacremoses->transformers) (1.15.0)\n",
            "Requirement already satisfied: joblib in /usr/local/lib/python3.6/dist-packages (from sacremoses->transformers) (0.17.0)\n",
            "Requirement already satisfied: urllib3!=1.25.0,!=1.25.1,<1.26,>=1.21.1 in /usr/local/lib/python3.6/dist-packages (from requests->transformers) (1.24.3)\n",
            "Requirement already satisfied: chardet<4,>=3.0.2 in /usr/local/lib/python3.6/dist-packages (from requests->transformers) (3.0.4)\n",
            "Requirement already satisfied: certifi>=2017.4.17 in /usr/local/lib/python3.6/dist-packages (from requests->transformers) (2020.11.8)\n",
            "Requirement already satisfied: idna<3,>=2.5 in /usr/local/lib/python3.6/dist-packages (from requests->transformers) (2.10)\n",
            "Requirement already satisfied: pyparsing>=2.0.2 in /usr/local/lib/python3.6/dist-packages (from packaging->transformers) (2.4.7)\n",
            "Requirement already satisfied: setuptools in /usr/local/lib/python3.6/dist-packages (from protobuf->transformers) (50.3.2)\n",
            "Requirement already satisfied: unidecode in /usr/local/lib/python3.6/dist-packages (1.1.1)\n",
            "Collecting pyserini==0.10.0.0\n",
            "\u001b[?25l  Downloading https://files.pythonhosted.org/packages/e0/f9/3e0a58b1130863276855410e22f94351f45da5516cbabd65ef57fed4348c/pyserini-0.10.0.0-py3-none-any.whl (63.1MB)\n",
            "\u001b[K     |████████████████████████████████| 63.1MB 75kB/s \n",
            "\u001b[?25hRequirement already satisfied: pandas in /usr/local/lib/python3.6/dist-packages (from pyserini==0.10.0.0) (1.1.4)\n",
            "Requirement already satisfied: numpy in /usr/local/lib/python3.6/dist-packages (from pyserini==0.10.0.0) (1.18.5)\n",
            "Requirement already satisfied: Cython in /usr/local/lib/python3.6/dist-packages (from pyserini==0.10.0.0) (0.29.21)\n",
            "Requirement already satisfied: scipy in /usr/local/lib/python3.6/dist-packages (from pyserini==0.10.0.0) (1.4.1)\n",
            "Requirement already satisfied: scikit-learn in /usr/local/lib/python3.6/dist-packages (from pyserini==0.10.0.0) (0.22.2.post1)\n",
            "Collecting pyjnius\n",
            "\u001b[?25l  Downloading https://files.pythonhosted.org/packages/d8/50/098cb5fb76fb7c7d99d403226a2a63dcbfb5c129b71b7d0f5200b05de1f0/pyjnius-1.3.0-cp36-cp36m-manylinux2010_x86_64.whl (1.1MB)\n",
            "\u001b[K     |████████████████████████████████| 1.1MB 50.1MB/s \n",
            "\u001b[?25hRequirement already satisfied: pytz>=2017.2 in /usr/local/lib/python3.6/dist-packages (from pandas->pyserini==0.10.0.0) (2018.9)\n",
            "Requirement already satisfied: python-dateutil>=2.7.3 in /usr/local/lib/python3.6/dist-packages (from pandas->pyserini==0.10.0.0) (2.8.1)\n",
            "Requirement already satisfied: joblib>=0.11 in /usr/local/lib/python3.6/dist-packages (from scikit-learn->pyserini==0.10.0.0) (0.17.0)\n",
            "Requirement already satisfied: six>=1.7.0 in /usr/local/lib/python3.6/dist-packages (from pyjnius->pyserini==0.10.0.0) (1.15.0)\n",
            "Installing collected packages: pyjnius, pyserini\n",
            "Successfully installed pyjnius-1.3.0 pyserini-0.10.0.0\n"
          ],
          "name": "stdout"
        }
      ]
    },
    {
      "cell_type": "code",
      "metadata": {
        "colab": {
          "base_uri": "https://localhost:8080/"
        },
        "id": "lDkvaCe-JJto",
        "outputId": "1cfd7eb3-af23-43ff-a744-12f2ad03dc8e"
      },
      "source": [
        "# memory footprint support libraries/code\n",
        "!ln -sf /opt/bin/nvidia-smi /usr/bin/nvidia-smi\n",
        "!pip install gputil\n",
        "!pip install psutil\n",
        "!pip install humanize\n",
        "\n",
        "import psutil\n",
        "import humanize\n",
        "import os\n",
        "import GPUtil as GPU\n",
        "\n",
        "GPUs = GPU.getGPUs()\n",
        "# XXX: only one GPU on Colab and isn’t guaranteed\n",
        "gpu = GPUs[0]\n",
        "def printm():\n",
        "    process = psutil.Process(os.getpid())\n",
        "    print(\"Gen RAM Free: \" + humanize.naturalsize(psutil.virtual_memory().available), \" |     Proc size: \" + humanize.naturalsize(process.memory_info().rss))\n",
        "    print(\"GPU RAM Free: {0:.0f}MB | Used: {1:.0f}MB | Util {2:3.0f}% | Total     {3:.0f}MB\".format(gpu.memoryFree, gpu.memoryUsed, gpu.memoryUtil*100, gpu.memoryTotal))\n",
        "printm()"
      ],
      "execution_count": 7,
      "outputs": [
        {
          "output_type": "stream",
          "text": [
            "Requirement already satisfied: gputil in /usr/local/lib/python3.6/dist-packages (1.4.0)\n",
            "Requirement already satisfied: psutil in /usr/local/lib/python3.6/dist-packages (5.4.8)\n",
            "Requirement already satisfied: humanize in /usr/local/lib/python3.6/dist-packages (0.5.1)\n",
            "Gen RAM Free: 26.3 GB  |     Proc size: 117.4 MB\n",
            "GPU RAM Free: 16130MB | Used: 0MB | Util   0% | Total     16130MB\n"
          ],
          "name": "stdout"
        }
      ]
    },
    {
      "cell_type": "code",
      "metadata": {
        "id": "9VI2bc0qJQ1C"
      },
      "source": [
        "import numpy as np\n",
        "import pandas as pd\n",
        "import os\n",
        "from os import listdir\n",
        "from os.path import join\n",
        "import unidecode\n",
        "import re\n",
        "import logging\n",
        "from tqdm import tqdm_notebook\n",
        "from tqdm.notebook import tnrange\n",
        "import glob\n",
        "import json\n",
        "import multiprocessing\n",
        "from pyserini.search import SimpleSearcher\n",
        "import time\n",
        "\n",
        "#For ploting results\n",
        "import matplotlib.pyplot as plt\n",
        "\n",
        "# DL Libraries\n",
        "from transformers import BertModel, AdamW, BertTokenizer, BertConfig, RobertaTokenizer, RobertaModel\n",
        "from keras.preprocessing.sequence import pad_sequences\n",
        "import torch\n",
        "import torch.nn as nn\n",
        "from torch.utils.data import (DataLoader, RandomSampler, SequentialSampler, TensorDataset)\n",
        "from sklearn.metrics import classification_report, accuracy_score\n",
        "from sklearn.model_selection import train_test_split\n",
        "from scipy.stats import pearsonr\n",
        "from sklearn.utils import shuffle\n",
        "from sklearn.metrics import mean_squared_error, f1_score"
      ],
      "execution_count": 8,
      "outputs": []
    },
    {
      "cell_type": "code",
      "metadata": {
        "colab": {
          "base_uri": "https://localhost:8080/",
          "height": 37
        },
        "id": "2uTVWNSA4F5h",
        "outputId": "90b26e21-071b-48c3-86d0-968d49382c3e"
      },
      "source": [
        "device = torch.device(\"cuda\" if torch.cuda.is_available() else \"cpu\")\n",
        "n_gpu = torch.cuda.device_count()\n",
        "torch.cuda.get_device_name(0)"
      ],
      "execution_count": 9,
      "outputs": [
        {
          "output_type": "execute_result",
          "data": {
            "application/vnd.google.colaboratory.intrinsic+json": {
              "type": "string"
            },
            "text/plain": [
              "'Tesla V100-SXM2-16GB'"
            ]
          },
          "metadata": {
            "tags": []
          },
          "execution_count": 9
        }
      ]
    },
    {
      "cell_type": "markdown",
      "metadata": {
        "id": "OlG40qe-pSbO"
      },
      "source": [
        "# PYSERINI SETUP Files\n",
        "(No need to execute)"
      ]
    },
    {
      "cell_type": "markdown",
      "metadata": {
        "id": "hNJOGTDIw2LC"
      },
      "source": [
        "**(Only need to be executed once.)**"
      ]
    },
    {
      "cell_type": "markdown",
      "metadata": {
        "id": "Sy5-johupYJf"
      },
      "source": [
        "Usings existing scipts provided by anserini for MSMARCO dataset."
      ]
    },
    {
      "cell_type": "code",
      "metadata": {
        "id": "hy5PC-QSjUBo"
      },
      "source": [
        "#!git clone https://github.com/castorini/anserini-tools.git"
      ],
      "execution_count": 11,
      "outputs": []
    },
    {
      "cell_type": "code",
      "metadata": {
        "id": "1POGUtzAjEJU"
      },
      "source": [
        "#%cd /content/drive/My Drive/Sahit/work/project_nlp/anserini-tools/\n",
        "#!ls"
      ],
      "execution_count": 12,
      "outputs": []
    },
    {
      "cell_type": "code",
      "metadata": {
        "id": "UM0d67oYj3Ad"
      },
      "source": [
        "#%cd /content/drive/My Drive/Sahit/work/project_nlp/anserini-tools/collections/msmarco-passage "
      ],
      "execution_count": 13,
      "outputs": []
    },
    {
      "cell_type": "code",
      "metadata": {
        "id": "oLDMN6WijdOR"
      },
      "source": [
        "#!wget https://msmarco.blob.core.windows.net/msmarcoranking/collectionandqueries.tar.gz"
      ],
      "execution_count": 14,
      "outputs": []
    },
    {
      "cell_type": "code",
      "metadata": {
        "id": "eclLLTxbjh5-"
      },
      "source": [
        "#!tar xvfz collectionandqueries.tar.gz"
      ],
      "execution_count": 15,
      "outputs": []
    },
    {
      "cell_type": "code",
      "metadata": {
        "id": "SVxztc1BlmoU"
      },
      "source": [
        "#%cd /content/drive/My Drive/Sahit/work/project_nlp/anserini-tools/\n",
        "#!ls"
      ],
      "execution_count": 16,
      "outputs": []
    },
    {
      "cell_type": "markdown",
      "metadata": {
        "id": "kiTXzcOMph8B"
      },
      "source": [
        "To generate 'lucene-index' for MSMARCO."
      ]
    },
    {
      "cell_type": "code",
      "metadata": {
        "id": "axSK4zt0l9EP"
      },
      "source": [
        "#!python -m pyserini.index -collection JsonCollection -generator DefaultLuceneDocumentGenerator \\\n",
        "# -threads 9 -input collections/msmarco-passage/collection_jsonl \\\n",
        "# -index indexes/msmarco-passage/lucene-index-msmarco -storePositions -storeDocvectors -storeRaw"
      ],
      "execution_count": 17,
      "outputs": []
    },
    {
      "cell_type": "markdown",
      "metadata": {
        "id": "UD9U_rkeprYr"
      },
      "source": [
        "Reformating appropriately."
      ]
    },
    {
      "cell_type": "code",
      "metadata": {
        "id": "WEVGL-6OjnJJ"
      },
      "source": [
        "#!python scripts/msmarco/convert_collection_to_jsonl.py \\\n",
        "# --collection-path collections/msmarco-passage/collection.tsv \\\n",
        "# --output-folder collections/msmarco-passage/collection_jsonl"
      ],
      "execution_count": 18,
      "outputs": []
    },
    {
      "cell_type": "code",
      "metadata": {
        "id": "xO6o51G6joFt"
      },
      "source": [
        "#!python scripts/msmarco/filter_queries.py \\\n",
        "# --qrels collections/msmarco-passage/qrels.dev.small.tsv \\\n",
        "# --queries collections/msmarco-passage/queries.dev.tsv \\\n",
        "# --output collections/msmarco-passage/queries.dev.small.tsv"
      ],
      "execution_count": 19,
      "outputs": []
    },
    {
      "cell_type": "code",
      "metadata": {
        "id": "T1odiJTzjtTy"
      },
      "source": [
        "#!python scripts/msmarco/retrieve.py --hits 50 --threads 1 \\\n",
        "# --index indexes/msmarco-passage/lucene-index-msmarco \\\n",
        "# --queries collections/msmarco-passage/queries.dev.small.tsv \\\n",
        "# --output runs/run.msmarco-passage.dev.small.tsv"
      ],
      "execution_count": 20,
      "outputs": []
    },
    {
      "cell_type": "markdown",
      "metadata": {
        "id": "GMzP9PfSpwOC"
      },
      "source": [
        "Standard MSMARCO evaluation (MRR @10)"
      ]
    },
    {
      "cell_type": "markdown",
      "metadata": {
        "id": "Hs2pcREZw6bD"
      },
      "source": [
        "# Baseline Evaluation"
      ]
    },
    {
      "cell_type": "code",
      "metadata": {
        "colab": {
          "base_uri": "https://localhost:8080/"
        },
        "id": "pJb7XbwzxOhu",
        "outputId": "622a27bc-28c3-4f9d-8030-777a1d0efa31"
      },
      "source": [
        "%cd /content/drive/My Drive/Sahit/work/project_nlp/anserini-tools/\n",
        "!ls"
      ],
      "execution_count": 21,
      "outputs": [
        {
          "output_type": "stream",
          "text": [
            "/content/drive/My Drive/Sahit/work/project_nlp/anserini-tools\n",
            "collections  eval  indexes  README.md  runs  scripts  topics-and-qrels\n"
          ],
          "name": "stdout"
        }
      ]
    },
    {
      "cell_type": "code",
      "metadata": {
        "colab": {
          "base_uri": "https://localhost:8080/"
        },
        "id": "ahoUfD-Cm04I",
        "outputId": "308811e2-eec7-485a-ebd4-dab40022f5ef"
      },
      "source": [
        "!python scripts/msmarco/msmarco_eval.py \\\n",
        " collections/msmarco-passage/qrels.dev.small.tsv runs/run.msmarco-passage.dev.small.tsv"
      ],
      "execution_count": 22,
      "outputs": [
        {
          "output_type": "stream",
          "text": [
            "#####################\n",
            "MRR @10: 0.18741227770955546\n",
            "QueriesRanked: 6980\n",
            "#####################\n"
          ],
          "name": "stdout"
        }
      ]
    },
    {
      "cell_type": "markdown",
      "metadata": {
        "id": "nZXE46wqp1j2"
      },
      "source": [
        "TREC Evaluation metrics:"
      ]
    },
    {
      "cell_type": "code",
      "metadata": {
        "colab": {
          "base_uri": "https://localhost:8080/"
        },
        "id": "8CZ8nsGtnDsR",
        "outputId": "9e870afa-6b2b-48a2-e058-7038359c3fed"
      },
      "source": [
        "!python scripts/msmarco/convert_msmarco_to_trec_run.py \\\n",
        " --input runs/run.msmarco-passage.dev.small.tsv \\\n",
        " --output runs/run.msmarco-passage.dev.small.trec\n",
        "\n",
        "!python scripts/msmarco/convert_msmarco_to_trec_qrels.py \\\n",
        " --input collections/msmarco-passage/qrels.dev.small.tsv \\\n",
        " --output collections/msmarco-passage/qrels.dev.small.trec"
      ],
      "execution_count": 23,
      "outputs": [
        {
          "output_type": "stream",
          "text": [
            "Done!\n",
            "Done!\n"
          ],
          "name": "stdout"
        }
      ]
    },
    {
      "cell_type": "code",
      "metadata": {
        "colab": {
          "base_uri": "https://localhost:8080/"
        },
        "id": "2Bte1_npnjOg",
        "outputId": "51f4a4c1-cce3-4ec8-d8a8-f2d1c8ea23ce"
      },
      "source": [
        "%cd /content/drive/My Drive/Sahit/work/project_nlp/anserini-tools/eval/trec_eval.9.0.4/ \n",
        "!chmod +x *\n",
        "!make\n",
        "!make quicktest"
      ],
      "execution_count": 36,
      "outputs": [
        {
          "output_type": "stream",
          "text": [
            "/content/drive/My Drive/Sahit/work/project_nlp/anserini-tools/eval/trec_eval.9.0.4\n",
            "make: 'trec_eval' is up to date.\n",
            "./trec_eval test/qrels.test test/results.test | diff - test/out.test\n",
            "./trec_eval -m all_trec test/qrels.test test/results.test | diff - test/out.test.a\n",
            "./trec_eval -m all_trec -q test/qrels.test test/results.test | diff - test/out.test.aq\n",
            "./trec_eval -m all_trec -q -c test/qrels.test test/results.trunc | diff - test/out.test.aqc\n",
            "./trec_eval -m all_trec -q -c -M100 test/qrels.test test/results.trunc | diff - test/out.test.aqcM\n",
            "./trec_eval -m all_trec -mrelstring.20 -q -l2 test/qrels.rel_level test/results.test | diff - test/out.test.aql\n",
            "./trec_eval -m all_prefs -q -R prefs test/prefs.test test/prefs.results.test | diff - test/out.test.prefs\n",
            "./trec_eval -m all_prefs -q -R qrels_prefs test/qrels.test test/results.test | diff - test/out.test.qrels_prefs\n",
            "./trec_eval -m qrels_jg -q -R qrels_jg  test/qrels.123 test/results.test | diff - test/out.test.qrels_jg\n",
            "./trec_eval -q -miprec_at_recall..10,.20,.25,.75,.50 -m P.5,7,3 -m recall.20,2000 -m Rprec_mult.5.0,0.2,0.35 -mutility.2,-1,0,0 -m 11pt_avg..25,.5,.75 -mndcg.1=3,2=9,4=4.5 -mndcg_cut.10,20,23.4 -msuccess.2,5,20 test/qrels.test test/results.test | diff - test/out.test.meas_params\n",
            "./trec_eval -q -m all_trec -Z test/zscores_file test/qrels.test test/results.test | diff - test/out.test.aqZ\n",
            "/bin/echo \"Test succeeeded\"\n",
            "Test succeeeded\n"
          ],
          "name": "stdout"
        }
      ]
    },
    {
      "cell_type": "code",
      "metadata": {
        "colab": {
          "base_uri": "https://localhost:8080/"
        },
        "id": "kwoTp0punoBP",
        "outputId": "551916c5-b77e-41b8-8942-8119dda1b0f8"
      },
      "source": [
        "!./trec_eval \"-c\" \"-m\" \"P.5\" \"/content/drive/My Drive/Sahit/work/project_nlp/anserini-tools/collections/msmarco-passage/qrels.dev.small.trec\" \"/content/drive/My Drive/Sahit/work/project_nlp/anserini-tools/runs/run.msmarco-passage.dev.small.trec\"\n",
        "!./trec_eval \"-c\" \"-m\" \"P.10\" \"/content/drive/My Drive/Sahit/work/project_nlp/anserini-tools/collections/msmarco-passage/qrels.dev.small.trec\" \"/content/drive/My Drive/Sahit/work/project_nlp/anserini-tools/runs/run.msmarco-passage.dev.small.trec\"\n",
        "!./trec_eval \"-c\" \"-m\" \"recall.5\" \"/content/drive/My Drive/Sahit/work/project_nlp/anserini-tools/collections/msmarco-passage/qrels.dev.small.trec\" \"/content/drive/My Drive/Sahit/work/project_nlp/anserini-tools/runs/run.msmarco-passage.dev.small.trec\"\n",
        "!./trec_eval \"-c\" \"-m\" \"recall.10\" \"/content/drive/My Drive/Sahit/work/project_nlp/anserini-tools/collections/msmarco-passage/qrels.dev.small.trec\" \"/content/drive/My Drive/Sahit/work/project_nlp/anserini-tools/runs/run.msmarco-passage.dev.small.trec\"\n",
        "!./trec_eval \"-c\" \"-m\" \"recall.20\" \"/content/drive/My Drive/Sahit/work/project_nlp/anserini-tools/collections/msmarco-passage/qrels.dev.small.trec\" \"/content/drive/My Drive/Sahit/work/project_nlp/anserini-tools/runs/run.msmarco-passage.dev.small.trec\"\n",
        "!./trec_eval \"-c\" \"-m\" \"map\" \"/content/drive/My Drive/Sahit/work/project_nlp/anserini-tools/collections/msmarco-passage/qrels.dev.small.trec\" \"/content/drive/My Drive/Sahit/work/project_nlp/anserini-tools/runs/run.msmarco-passage.dev.small.trec\"\n",
        "!./trec_eval \"-c\" \"-m\" \"recip_rank\"  \"/content/drive/My Drive/Sahit/work/project_nlp/anserini-tools/collections/msmarco-passage/qrels.dev.small.trec\" \"/content/drive/My Drive/Sahit/work/project_nlp/anserini-tools/runs/run.msmarco-passage.dev.small.trec\""
      ],
      "execution_count": 47,
      "outputs": [
        {
          "output_type": "stream",
          "text": [
            "P_5                   \tall\t0.0611\n",
            "P_10                  \tall\t0.0408\n",
            "recall_5              \tall\t0.2944\n",
            "recall_10             \tall\t0.3916\n",
            "recall_20             \tall\t0.4842\n",
            "map                   \tall\t0.1937\n",
            "recip_rank            \tall\t0.1974\n"
          ],
          "name": "stdout"
        }
      ]
    },
    {
      "cell_type": "markdown",
      "metadata": {
        "id": "HGLQWMmMp_GP"
      },
      "source": [
        "# SIA Evaluation\n"
      ]
    },
    {
      "cell_type": "code",
      "metadata": {
        "id": "DXRBDZ36mcIL"
      },
      "source": [
        "total_start_time = time.time()\n",
        "searcher.set_bm25(0.82, 0.68)\n",
        "\n",
        "with open('/content/drive/My Drive/Sahit/work/project_nlp/anserini-tools/runs/run.msmarco-passage_SIA.dev.small.tsv', 'w') as fout:\n",
        "    start_time = time.time()\n",
        "    for line_number, line in enumerate(open('/content/drive/My Drive/Sahit/work/project_nlp/anserini-tools/collections/msmarco-passage/queries.dev.small.tsv', 'r', encoding='utf8')):\n",
        "        qid, query = line.strip().split('\\t')\n",
        "        hits = searcher.search(query, 50)\n",
        "        if line_number % 100 == 0:\n",
        "            time_per_query = (time.time() - start_time) / (line_number + 1)\n",
        "            print(f'Retrieving query {line_number} ({time_per_query:0.3f} s/query)', flush=True)\n",
        "        for rank in range(len(hits)):\n",
        "            docno = hits[rank].docid\n",
        "            doc = searcher.doc(str(hits[rank].docid))\n",
        "            cleanDoc = re.findall(r'\"(.*?)\"', doc.raw())[3]\n",
        "            fout.write('{}\\t{}\\t{}\\t{}\\t{}\\n'.format(qid, docno, query, cleanDoc, rank + 1))\n",
        "total_time = (time.time() - total_start_time)\n",
        "print(f'Total retrieval time: {total_time:0.3f} s')\n",
        "print('Done!')"
      ],
      "execution_count": null,
      "outputs": []
    },
    {
      "cell_type": "code",
      "metadata": {
        "id": "P8K3iw6NG8OI"
      },
      "source": [
        "num_processes = multiprocessing.cpu_count()\n",
        "\n",
        "def chunker(df):\n",
        "  chunk_size = int(df.shape[0]/num_processes)\n",
        "  return [df.loc[df.index[i:i + chunk_size]] for i in range(0, df.shape[0], chunk_size)]\n",
        "\n",
        "def vectorize(d):\n",
        "    tokenized = d.apply((lambda x: tokenizer.encode_plus(x.Query, x.Passage, max_length=512, add_special_tokens=True, return_token_type_ids=False, \n",
        "                                       padding='max_length', return_attention_mask=True, truncation=True)), axis=1)\n",
        "    return tokenized\n",
        "\n",
        "def dataloader(d):\n",
        "    ip_id = []\n",
        "    masks = []\n",
        "\n",
        "    for da in d:\n",
        "      for i in da:\n",
        "        ip_id.append(i['input_ids'])\n",
        "        masks.append(i['attention_mask'])\n",
        "\n",
        "    inputs = torch.tensor(ip_id).to(device)\n",
        "    mask = torch.tensor(masks).to(device)\n",
        "    data = TensorDataset(inputs, mask)\n",
        "    dataloader = DataLoader(data, batch_size=4)\n",
        "\n",
        "    return dataloader\n",
        "\n",
        "def sts_score_generator(ten, model):\n",
        "  scores = []\n",
        "  for batch in tqdm_notebook(ten):\n",
        "    batch = tuple(t.to(device) for t in batch)\n",
        "    ip_ids,mask = batch\n",
        "    score = model(ip_ids, attention_mask = mask)\n",
        "    score = score.squeeze(1)\n",
        "    scores.extend(score.detach().cpu().numpy())\n",
        "  return scores\n",
        "\n",
        "def PredictCustom(df):\n",
        "  pool = multiprocessing.Pool(processes=num_processes)\n",
        "  print(\"*\")\n",
        "  chunks = chunker(df)\n",
        "  print(\"**\")\n",
        "  res = pool.map(vectorize, chunks)\n",
        "  print(\"***\")\n",
        "  result = dataloader(res)\n",
        "  print(\"****\")\n",
        "  return sts_score_generator(result, customModel)\n",
        "\n",
        "class Regressor(nn.Module):\n",
        "\n",
        "  def __init__(self):\n",
        "    super(Regressor, self).__init__()\n",
        "    self.bert = RobertaModel.from_pretrained('roberta-base')\n",
        "    self.out = nn.Linear(self.bert.config.hidden_size, 1)\n",
        "\n",
        "  def forward(self, input_ids, attention_mask):\n",
        "    output, pooler_out = self.bert(input_ids=input_ids, attention_mask=attention_mask)\n",
        "    score= self.out(pooler_out)\n",
        "    return score\n",
        "\n",
        "def SaveFixedLabel(df, name):\n",
        "  df.to_csv('/content/drive/My Drive/Sahit/work/project_nlp/data/' + name + '.tsv')\n"
      ],
      "execution_count": null,
      "outputs": []
    },
    {
      "cell_type": "code",
      "metadata": {
        "id": "LQ1C4S90JE7M"
      },
      "source": [
        "tokenizer = RobertaTokenizer.from_pretrained('roberta-base')\n",
        "customModel = torch.load('/content/drive/My Drive/project_nlp/sia_experiment/modelMSMARCO/pytorch_modelTrained').to(device)"
      ],
      "execution_count": null,
      "outputs": []
    },
    {
      "cell_type": "code",
      "metadata": {
        "id": "TUxJTxtL6ktC"
      },
      "source": [
        "dfEval = pd.read_csv('/content/drive/My Drive/Sahit/work/project_nlp/anserini-tools/runs/run.msmarco-passage_SIA.dev.small.tsv', delimiter='\\t', header=None)\n",
        "dfEval.columns = ['qid', 'docno', 'Query', 'Passage', 'Ranks']\n",
        "dfEval"
      ],
      "execution_count": null,
      "outputs": []
    },
    {
      "cell_type": "code",
      "metadata": {
        "id": "8wIxnR2v7JOk"
      },
      "source": [
        "dfEval['sia_score'] = PredictCustom(dfEval)"
      ],
      "execution_count": null,
      "outputs": []
    },
    {
      "cell_type": "markdown",
      "metadata": {
        "id": "X9oORGiPqZRV"
      },
      "source": [
        "Re-ranking Top 20 passages from Top 50 by BM25 usin gour SIA model."
      ]
    },
    {
      "cell_type": "code",
      "metadata": {
        "id": "Bv0CcqhjCxPO"
      },
      "source": [
        "dfEval.sort_values(['sia_score'],ascending=False).groupby('qid').head(20)\n",
        "dfEvalRank = dfEval.groupby('qid').rank(ascending=False)\n",
        "dfEvalRank.columns = ['r1', 'r2', 'rank']\n",
        "res = pd.concat([dfEval, dfEvalRank], axis=1)\n",
        "res[['rank']] = res[['rank']].astype(int)\n",
        "res = res.sort_values(['sia_score'],ascending=False).groupby('qid').head(20)\n",
        "res = res.sort_values(['qid', 'sia_score'],ascending=False)\n",
        "res"
      ],
      "execution_count": null,
      "outputs": []
    },
    {
      "cell_type": "code",
      "metadata": {
        "id": "wjvFRjr9I-qd"
      },
      "source": [
        "res[['qid', 'docno', 'rank']].to_csv('/content/drive/My Drive/Sahit/work/project_nlp/anserini-tools/runs/run.msmarco-passage_SIA_Top50.dev.small.tsv',  sep=\"\\t\", header=False, index=False)"
      ],
      "execution_count": null,
      "outputs": []
    },
    {
      "cell_type": "markdown",
      "metadata": {
        "id": "0eeFOkBbqlIG"
      },
      "source": [
        "SIA model evaluaiton on: MRR @10"
      ]
    },
    {
      "cell_type": "code",
      "metadata": {
        "colab": {
          "base_uri": "https://localhost:8080/"
        },
        "id": "sT314xv-rD1b",
        "outputId": "9ebb1517-c2c2-4572-93df-5c5c2e3e5542"
      },
      "source": [
        "%cd /content/drive/My Drive/Sahit/work/project_nlp/anserini-tools/\n",
        "!ls"
      ],
      "execution_count": 28,
      "outputs": [
        {
          "output_type": "stream",
          "text": [
            "/content/drive/My Drive/Sahit/work/project_nlp/anserini-tools\n",
            "collections  eval  indexes  README.md  runs  scripts  topics-and-qrels\n"
          ],
          "name": "stdout"
        }
      ]
    },
    {
      "cell_type": "code",
      "metadata": {
        "colab": {
          "base_uri": "https://localhost:8080/"
        },
        "id": "tKyts-TuoRIK",
        "outputId": "4d1f300f-00c4-4da9-db2a-217eb0a5739b"
      },
      "source": [
        "!python scripts/msmarco/msmarco_eval.py \\\n",
        " collections/msmarco-passage/qrels.dev.small.tsv runs/run.msmarco-passage_SIA_Top50.dev.small.tsv"
      ],
      "execution_count": 30,
      "outputs": [
        {
          "output_type": "stream",
          "text": [
            "#####################\n",
            "MRR @10: 0.200630145085732\n",
            "QueriesRanked: 6980\n",
            "#####################\n"
          ],
          "name": "stdout"
        }
      ]
    },
    {
      "cell_type": "markdown",
      "metadata": {
        "id": "YVca4nPTqp41"
      },
      "source": [
        "SIA model evaluation on TREC metrics:"
      ]
    },
    {
      "cell_type": "code",
      "metadata": {
        "id": "TJQCiguvoIQu"
      },
      "source": [
        "!python scripts/msmarco/convert_msmarco_to_trec_run.py \\\n",
        " --input runs/run.msmarco-passage_SIA_Top50.dev.small.tsv \\\n",
        " --output runs/run.msmarco-passage_SIA_Top50.dev.small.trec\n",
        "\n",
        "!python scripts/msmarco/convert_msmarco_to_trec_qrels.py \\\n",
        " --input collections/msmarco-passage/qrels.dev.small.tsv \\\n",
        " --output collections/msmarco-passage/qrels.dev.small.trec"
      ],
      "execution_count": null,
      "outputs": []
    },
    {
      "cell_type": "code",
      "metadata": {
        "colab": {
          "base_uri": "https://localhost:8080/"
        },
        "id": "s6f61_OTrKWp",
        "outputId": "f6991f1a-2e52-461a-db52-c822aaf2d3c1"
      },
      "source": [
        "%cd /content/drive/My Drive/Sahit/work/project_nlp/anserini-tools/eval/trec_eval.9.0.4/ "
      ],
      "execution_count": 37,
      "outputs": [
        {
          "output_type": "stream",
          "text": [
            "/content/drive/My Drive/Sahit/work/project_nlp/anserini-tools/eval/trec_eval.9.0.4\n"
          ],
          "name": "stdout"
        }
      ]
    },
    {
      "cell_type": "code",
      "metadata": {
        "colab": {
          "base_uri": "https://localhost:8080/"
        },
        "id": "Vpjg0zie4ete",
        "outputId": "910a3c0a-b928-4439-8289-d6671b2d26f8"
      },
      "source": [
        "!ls"
      ],
      "execution_count": 33,
      "outputs": [
        {
          "output_type": "stream",
          "text": [
            "collections  eval  indexes  README.md  runs  scripts  topics-and-qrels\n"
          ],
          "name": "stdout"
        }
      ]
    },
    {
      "cell_type": "code",
      "metadata": {
        "colab": {
          "base_uri": "https://localhost:8080/"
        },
        "id": "IpIMORwIq0Eb",
        "outputId": "c093a00c-b8df-422d-8d7a-c3ce344265b0"
      },
      "source": [
        "!./trec_eval \"-c\" \"-m\" \"P.5\" \"/content/drive/My Drive/Sahit/work/project_nlp/anserini-tools/collections/msmarco-passage/qrels.dev.small.trec\" \"/content/drive/My Drive/Sahit/work/project_nlp/anserini-tools/runs/run.msmarco-passage_SIA_Top50.dev.small.trec\"\n",
        "!./trec_eval \"-c\" \"-m\" \"P.10\" \"/content/drive/My Drive/Sahit/work/project_nlp/anserini-tools/collections/msmarco-passage/qrels.dev.small.trec\" \"/content/drive/My Drive/Sahit/work/project_nlp/anserini-tools/runs/run.msmarco-passage_SIA_Top50.dev.small.trec\"\n",
        "!./trec_eval \"-c\" \"-m\" \"recall.5\" \"/content/drive/My Drive/Sahit/work/project_nlp/anserini-tools/collections/msmarco-passage/qrels.dev.small.trec\" \"/content/drive/My Drive/Sahit/work/project_nlp/anserini-tools/runs/run.msmarco-passage_SIA_Top50.dev.small.trec\"\n",
        "!./trec_eval \"-c\" \"-m\" \"recall.10\" \"/content/drive/My Drive/Sahit/work/project_nlp/anserini-tools/collections/msmarco-passage/qrels.dev.small.trec\" \"/content/drive/My Drive/Sahit/work/project_nlp/anserini-tools/runs/run.msmarco-passage_SIA_Top50.dev.small.trec\"\n",
        "!./trec_eval \"-c\" \"-m\" \"recall.20\" \"/content/drive/My Drive/Sahit/work/project_nlp/anserini-tools/collections/msmarco-passage/qrels.dev.small.trec\" \"/content/drive/My Drive/Sahit/work/project_nlp/anserini-tools/runs/run.msmarco-passage_SIA_Top50.dev.small.trec\"\n",
        "!./trec_eval \"-c\" \"-m\" \"map\" \"/content/drive/My Drive/Sahit/work/project_nlp/anserini-tools/collections/msmarco-passage/qrels.dev.small.trec\" \"/content/drive/My Drive/Sahit/work/project_nlp/anserini-tools/runs/run.msmarco-passage_SIA_Top50.dev.small.trec\"\n",
        "!./trec_eval \"-c\" \"-m\" \"recip_rank\"  \"/content/drive/My Drive/Sahit/work/project_nlp/anserini-tools/collections/msmarco-passage/qrels.dev.small.trec\" \"/content/drive/My Drive/Sahit/work/project_nlp/anserini-tools/runs/run.msmarco-passage_SIA_Top50.dev.small.trec\""
      ],
      "execution_count": 46,
      "outputs": [
        {
          "output_type": "stream",
          "text": [
            "P_5                   \tall\t0.0645\n",
            "P_10                  \tall\t0.0423\n",
            "recall_5              \tall\t0.3103\n",
            "recall_10             \tall\t0.4058\n",
            "recall_20             \tall\t0.4981\n",
            "map                   \tall\t0.2027\n",
            "recip_rank            \tall\t0.2070\n"
          ],
          "name": "stdout"
        }
      ]
    },
    {
      "cell_type": "markdown",
      "metadata": {
        "id": "zAiPWQNGrOyy"
      },
      "source": [
        "# Results"
      ]
    },
    {
      "cell_type": "markdown",
      "metadata": {
        "id": "3YmxcIjTrU7p"
      },
      "source": [
        "Baseline BM25:\n",
        "```\n",
        "P @5                   \t0.0611\n",
        "P @10                  \t0.0408\n",
        "Recall @5              \t0.2944\n",
        "Recall @10             \t0.3916\n",
        "Recall @20             \t0.4842\n",
        "MAP                   \t0.1937\n",
        "MRR                   \t0.1974\n",
        "```\n",
        "SIA model:\n",
        "\n",
        "\n",
        "```\n",
        "P @5                    0.0645\n",
        "P @10                  \t0.0423\n",
        "Recall @5              \t0.3103\n",
        "Recall @10             \t0.4058\n",
        "Recall @20             \t0.4981\n",
        "MAP                   \t0.2027\n",
        "MAR            \t        0.2070\n",
        "```\n",
        "\n",
        "\n",
        "\n",
        "\n"
      ]
    }
  ]
}