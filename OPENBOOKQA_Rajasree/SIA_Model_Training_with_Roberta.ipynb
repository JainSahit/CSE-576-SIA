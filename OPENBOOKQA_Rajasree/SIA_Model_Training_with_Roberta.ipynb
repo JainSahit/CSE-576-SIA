{
  "nbformat": 4,
  "nbformat_minor": 0,
  "metadata": {
    "accelerator": "GPU",
    "colab": {
      "name": "SIA Model Training with Roberta.ipynb",
      "provenance": []
    },
    "kernelspec": {
      "display_name": "Python 3",
      "name": "python3"
    },
    "widgets": {
      "application/vnd.jupyter.widget-state+json": {
        "95eb97093ca748b0b70a78a0ae43b474": {
          "model_module": "@jupyter-widgets/controls",
          "model_name": "HBoxModel",
          "state": {
            "_view_name": "HBoxView",
            "_dom_classes": [],
            "_model_name": "HBoxModel",
            "_view_module": "@jupyter-widgets/controls",
            "_model_module_version": "1.5.0",
            "_view_count": null,
            "_view_module_version": "1.5.0",
            "box_style": "",
            "layout": "IPY_MODEL_749c3e18ad71441782fa240520b26aef",
            "_model_module": "@jupyter-widgets/controls",
            "children": [
              "IPY_MODEL_6a47997f9b6c4500940ca5660651bacb",
              "IPY_MODEL_81e758fb28984c6094ec669db975441e"
            ]
          }
        },
        "749c3e18ad71441782fa240520b26aef": {
          "model_module": "@jupyter-widgets/base",
          "model_name": "LayoutModel",
          "state": {
            "_view_name": "LayoutView",
            "grid_template_rows": null,
            "right": null,
            "justify_content": null,
            "_view_module": "@jupyter-widgets/base",
            "overflow": null,
            "_model_module_version": "1.2.0",
            "_view_count": null,
            "flex_flow": null,
            "width": null,
            "min_width": null,
            "border": null,
            "align_items": null,
            "bottom": null,
            "_model_module": "@jupyter-widgets/base",
            "top": null,
            "grid_column": null,
            "overflow_y": null,
            "overflow_x": null,
            "grid_auto_flow": null,
            "grid_area": null,
            "grid_template_columns": null,
            "flex": null,
            "_model_name": "LayoutModel",
            "justify_items": null,
            "grid_row": null,
            "max_height": null,
            "align_content": null,
            "visibility": null,
            "align_self": null,
            "height": null,
            "min_height": null,
            "padding": null,
            "grid_auto_rows": null,
            "grid_gap": null,
            "max_width": null,
            "order": null,
            "_view_module_version": "1.2.0",
            "grid_template_areas": null,
            "object_position": null,
            "object_fit": null,
            "grid_auto_columns": null,
            "margin": null,
            "display": null,
            "left": null
          }
        },
        "6a47997f9b6c4500940ca5660651bacb": {
          "model_module": "@jupyter-widgets/controls",
          "model_name": "FloatProgressModel",
          "state": {
            "_view_name": "ProgressView",
            "style": "IPY_MODEL_35d5f49c548e42bb8592daa21fb39ff6",
            "_dom_classes": [],
            "description": "Downloading: 100%",
            "_model_name": "FloatProgressModel",
            "bar_style": "success",
            "max": 898823,
            "_view_module": "@jupyter-widgets/controls",
            "_model_module_version": "1.5.0",
            "value": 898823,
            "_view_count": null,
            "_view_module_version": "1.5.0",
            "orientation": "horizontal",
            "min": 0,
            "description_tooltip": null,
            "_model_module": "@jupyter-widgets/controls",
            "layout": "IPY_MODEL_62d2f3b8ec2542c69a68ac756eb1d1b1"
          }
        },
        "81e758fb28984c6094ec669db975441e": {
          "model_module": "@jupyter-widgets/controls",
          "model_name": "HTMLModel",
          "state": {
            "_view_name": "HTMLView",
            "style": "IPY_MODEL_2d994c21a2b349289d5d3a056ba5ce61",
            "_dom_classes": [],
            "description": "",
            "_model_name": "HTMLModel",
            "placeholder": "​",
            "_view_module": "@jupyter-widgets/controls",
            "_model_module_version": "1.5.0",
            "value": " 899k/899k [00:00&lt;00:00, 9.63MB/s]",
            "_view_count": null,
            "_view_module_version": "1.5.0",
            "description_tooltip": null,
            "_model_module": "@jupyter-widgets/controls",
            "layout": "IPY_MODEL_5de0d2ca193547f7b805c88864a6e5e5"
          }
        },
        "35d5f49c548e42bb8592daa21fb39ff6": {
          "model_module": "@jupyter-widgets/controls",
          "model_name": "ProgressStyleModel",
          "state": {
            "_view_name": "StyleView",
            "_model_name": "ProgressStyleModel",
            "description_width": "initial",
            "_view_module": "@jupyter-widgets/base",
            "_model_module_version": "1.5.0",
            "_view_count": null,
            "_view_module_version": "1.2.0",
            "bar_color": null,
            "_model_module": "@jupyter-widgets/controls"
          }
        },
        "62d2f3b8ec2542c69a68ac756eb1d1b1": {
          "model_module": "@jupyter-widgets/base",
          "model_name": "LayoutModel",
          "state": {
            "_view_name": "LayoutView",
            "grid_template_rows": null,
            "right": null,
            "justify_content": null,
            "_view_module": "@jupyter-widgets/base",
            "overflow": null,
            "_model_module_version": "1.2.0",
            "_view_count": null,
            "flex_flow": null,
            "width": null,
            "min_width": null,
            "border": null,
            "align_items": null,
            "bottom": null,
            "_model_module": "@jupyter-widgets/base",
            "top": null,
            "grid_column": null,
            "overflow_y": null,
            "overflow_x": null,
            "grid_auto_flow": null,
            "grid_area": null,
            "grid_template_columns": null,
            "flex": null,
            "_model_name": "LayoutModel",
            "justify_items": null,
            "grid_row": null,
            "max_height": null,
            "align_content": null,
            "visibility": null,
            "align_self": null,
            "height": null,
            "min_height": null,
            "padding": null,
            "grid_auto_rows": null,
            "grid_gap": null,
            "max_width": null,
            "order": null,
            "_view_module_version": "1.2.0",
            "grid_template_areas": null,
            "object_position": null,
            "object_fit": null,
            "grid_auto_columns": null,
            "margin": null,
            "display": null,
            "left": null
          }
        },
        "2d994c21a2b349289d5d3a056ba5ce61": {
          "model_module": "@jupyter-widgets/controls",
          "model_name": "DescriptionStyleModel",
          "state": {
            "_view_name": "StyleView",
            "_model_name": "DescriptionStyleModel",
            "description_width": "",
            "_view_module": "@jupyter-widgets/base",
            "_model_module_version": "1.5.0",
            "_view_count": null,
            "_view_module_version": "1.2.0",
            "_model_module": "@jupyter-widgets/controls"
          }
        },
        "5de0d2ca193547f7b805c88864a6e5e5": {
          "model_module": "@jupyter-widgets/base",
          "model_name": "LayoutModel",
          "state": {
            "_view_name": "LayoutView",
            "grid_template_rows": null,
            "right": null,
            "justify_content": null,
            "_view_module": "@jupyter-widgets/base",
            "overflow": null,
            "_model_module_version": "1.2.0",
            "_view_count": null,
            "flex_flow": null,
            "width": null,
            "min_width": null,
            "border": null,
            "align_items": null,
            "bottom": null,
            "_model_module": "@jupyter-widgets/base",
            "top": null,
            "grid_column": null,
            "overflow_y": null,
            "overflow_x": null,
            "grid_auto_flow": null,
            "grid_area": null,
            "grid_template_columns": null,
            "flex": null,
            "_model_name": "LayoutModel",
            "justify_items": null,
            "grid_row": null,
            "max_height": null,
            "align_content": null,
            "visibility": null,
            "align_self": null,
            "height": null,
            "min_height": null,
            "padding": null,
            "grid_auto_rows": null,
            "grid_gap": null,
            "max_width": null,
            "order": null,
            "_view_module_version": "1.2.0",
            "grid_template_areas": null,
            "object_position": null,
            "object_fit": null,
            "grid_auto_columns": null,
            "margin": null,
            "display": null,
            "left": null
          }
        },
        "b1f8dd5c7eba46a1816bd1bf85ec112a": {
          "model_module": "@jupyter-widgets/controls",
          "model_name": "HBoxModel",
          "state": {
            "_view_name": "HBoxView",
            "_dom_classes": [],
            "_model_name": "HBoxModel",
            "_view_module": "@jupyter-widgets/controls",
            "_model_module_version": "1.5.0",
            "_view_count": null,
            "_view_module_version": "1.5.0",
            "box_style": "",
            "layout": "IPY_MODEL_92f628b7d7eb4c40a96e847a75b7d9a5",
            "_model_module": "@jupyter-widgets/controls",
            "children": [
              "IPY_MODEL_32ca8515104c4458be4470bd10419cf1",
              "IPY_MODEL_f3d0b812a57446d587412b1c7bda3063"
            ]
          }
        },
        "92f628b7d7eb4c40a96e847a75b7d9a5": {
          "model_module": "@jupyter-widgets/base",
          "model_name": "LayoutModel",
          "state": {
            "_view_name": "LayoutView",
            "grid_template_rows": null,
            "right": null,
            "justify_content": null,
            "_view_module": "@jupyter-widgets/base",
            "overflow": null,
            "_model_module_version": "1.2.0",
            "_view_count": null,
            "flex_flow": null,
            "width": null,
            "min_width": null,
            "border": null,
            "align_items": null,
            "bottom": null,
            "_model_module": "@jupyter-widgets/base",
            "top": null,
            "grid_column": null,
            "overflow_y": null,
            "overflow_x": null,
            "grid_auto_flow": null,
            "grid_area": null,
            "grid_template_columns": null,
            "flex": null,
            "_model_name": "LayoutModel",
            "justify_items": null,
            "grid_row": null,
            "max_height": null,
            "align_content": null,
            "visibility": null,
            "align_self": null,
            "height": null,
            "min_height": null,
            "padding": null,
            "grid_auto_rows": null,
            "grid_gap": null,
            "max_width": null,
            "order": null,
            "_view_module_version": "1.2.0",
            "grid_template_areas": null,
            "object_position": null,
            "object_fit": null,
            "grid_auto_columns": null,
            "margin": null,
            "display": null,
            "left": null
          }
        },
        "32ca8515104c4458be4470bd10419cf1": {
          "model_module": "@jupyter-widgets/controls",
          "model_name": "FloatProgressModel",
          "state": {
            "_view_name": "ProgressView",
            "style": "IPY_MODEL_b26c73367a344f0f92d8747859551683",
            "_dom_classes": [],
            "description": "Downloading: 100%",
            "_model_name": "FloatProgressModel",
            "bar_style": "success",
            "max": 456318,
            "_view_module": "@jupyter-widgets/controls",
            "_model_module_version": "1.5.0",
            "value": 456318,
            "_view_count": null,
            "_view_module_version": "1.5.0",
            "orientation": "horizontal",
            "min": 0,
            "description_tooltip": null,
            "_model_module": "@jupyter-widgets/controls",
            "layout": "IPY_MODEL_4e53468ab3f3480db7dfb2a8edf9b2ba"
          }
        },
        "f3d0b812a57446d587412b1c7bda3063": {
          "model_module": "@jupyter-widgets/controls",
          "model_name": "HTMLModel",
          "state": {
            "_view_name": "HTMLView",
            "style": "IPY_MODEL_acb95bbb6a4443f2a1488871f2a41f7c",
            "_dom_classes": [],
            "description": "",
            "_model_name": "HTMLModel",
            "placeholder": "​",
            "_view_module": "@jupyter-widgets/controls",
            "_model_module_version": "1.5.0",
            "value": " 456k/456k [00:00&lt;00:00, 3.37MB/s]",
            "_view_count": null,
            "_view_module_version": "1.5.0",
            "description_tooltip": null,
            "_model_module": "@jupyter-widgets/controls",
            "layout": "IPY_MODEL_381dbff49cd840f2856b0b47bf9ec589"
          }
        },
        "b26c73367a344f0f92d8747859551683": {
          "model_module": "@jupyter-widgets/controls",
          "model_name": "ProgressStyleModel",
          "state": {
            "_view_name": "StyleView",
            "_model_name": "ProgressStyleModel",
            "description_width": "initial",
            "_view_module": "@jupyter-widgets/base",
            "_model_module_version": "1.5.0",
            "_view_count": null,
            "_view_module_version": "1.2.0",
            "bar_color": null,
            "_model_module": "@jupyter-widgets/controls"
          }
        },
        "4e53468ab3f3480db7dfb2a8edf9b2ba": {
          "model_module": "@jupyter-widgets/base",
          "model_name": "LayoutModel",
          "state": {
            "_view_name": "LayoutView",
            "grid_template_rows": null,
            "right": null,
            "justify_content": null,
            "_view_module": "@jupyter-widgets/base",
            "overflow": null,
            "_model_module_version": "1.2.0",
            "_view_count": null,
            "flex_flow": null,
            "width": null,
            "min_width": null,
            "border": null,
            "align_items": null,
            "bottom": null,
            "_model_module": "@jupyter-widgets/base",
            "top": null,
            "grid_column": null,
            "overflow_y": null,
            "overflow_x": null,
            "grid_auto_flow": null,
            "grid_area": null,
            "grid_template_columns": null,
            "flex": null,
            "_model_name": "LayoutModel",
            "justify_items": null,
            "grid_row": null,
            "max_height": null,
            "align_content": null,
            "visibility": null,
            "align_self": null,
            "height": null,
            "min_height": null,
            "padding": null,
            "grid_auto_rows": null,
            "grid_gap": null,
            "max_width": null,
            "order": null,
            "_view_module_version": "1.2.0",
            "grid_template_areas": null,
            "object_position": null,
            "object_fit": null,
            "grid_auto_columns": null,
            "margin": null,
            "display": null,
            "left": null
          }
        },
        "acb95bbb6a4443f2a1488871f2a41f7c": {
          "model_module": "@jupyter-widgets/controls",
          "model_name": "DescriptionStyleModel",
          "state": {
            "_view_name": "StyleView",
            "_model_name": "DescriptionStyleModel",
            "description_width": "",
            "_view_module": "@jupyter-widgets/base",
            "_model_module_version": "1.5.0",
            "_view_count": null,
            "_view_module_version": "1.2.0",
            "_model_module": "@jupyter-widgets/controls"
          }
        },
        "381dbff49cd840f2856b0b47bf9ec589": {
          "model_module": "@jupyter-widgets/base",
          "model_name": "LayoutModel",
          "state": {
            "_view_name": "LayoutView",
            "grid_template_rows": null,
            "right": null,
            "justify_content": null,
            "_view_module": "@jupyter-widgets/base",
            "overflow": null,
            "_model_module_version": "1.2.0",
            "_view_count": null,
            "flex_flow": null,
            "width": null,
            "min_width": null,
            "border": null,
            "align_items": null,
            "bottom": null,
            "_model_module": "@jupyter-widgets/base",
            "top": null,
            "grid_column": null,
            "overflow_y": null,
            "overflow_x": null,
            "grid_auto_flow": null,
            "grid_area": null,
            "grid_template_columns": null,
            "flex": null,
            "_model_name": "LayoutModel",
            "justify_items": null,
            "grid_row": null,
            "max_height": null,
            "align_content": null,
            "visibility": null,
            "align_self": null,
            "height": null,
            "min_height": null,
            "padding": null,
            "grid_auto_rows": null,
            "grid_gap": null,
            "max_width": null,
            "order": null,
            "_view_module_version": "1.2.0",
            "grid_template_areas": null,
            "object_position": null,
            "object_fit": null,
            "grid_auto_columns": null,
            "margin": null,
            "display": null,
            "left": null
          }
        },
        "4f50389077bb495f9c9f17e6dd55627e": {
          "model_module": "@jupyter-widgets/controls",
          "model_name": "HBoxModel",
          "state": {
            "_dom_classes": [],
            "_model_module": "@jupyter-widgets/controls",
            "_model_module_version": "1.5.0",
            "_model_name": "HBoxModel",
            "_view_count": null,
            "_view_module": "@jupyter-widgets/controls",
            "_view_module_version": "1.5.0",
            "_view_name": "HBoxView",
            "box_style": "",
            "children": [
              "IPY_MODEL_49314041a89e4501b21201b66b2723ee",
              "IPY_MODEL_66f85bcf965a4d03bd2ddc405c7f60d2"
            ],
            "layout": "IPY_MODEL_b653e1059dbc41afaf9dd363d5ca13f7"
          }
        },
        "49314041a89e4501b21201b66b2723ee": {
          "model_module": "@jupyter-widgets/controls",
          "model_name": "FloatProgressModel",
          "state": {
            "_dom_classes": [],
            "_model_module": "@jupyter-widgets/controls",
            "_model_module_version": "1.5.0",
            "_model_name": "FloatProgressModel",
            "_view_count": null,
            "_view_module": "@jupyter-widgets/controls",
            "_view_module_version": "1.5.0",
            "_view_name": "ProgressView",
            "bar_style": "",
            "description": "Epochs:  70%",
            "description_tooltip": null,
            "layout": "IPY_MODEL_fc9873de1459433b8b71bb4c97e89da3",
            "max": 10,
            "min": 0,
            "orientation": "horizontal",
            "style": "IPY_MODEL_5f3b1a2de85c4ac8acf9199d3f682987",
            "value": 7
          }
        },
        "66f85bcf965a4d03bd2ddc405c7f60d2": {
          "model_module": "@jupyter-widgets/controls",
          "model_name": "HTMLModel",
          "state": {
            "_dom_classes": [],
            "_model_module": "@jupyter-widgets/controls",
            "_model_module_version": "1.5.0",
            "_model_name": "HTMLModel",
            "_view_count": null,
            "_view_module": "@jupyter-widgets/controls",
            "_view_module_version": "1.5.0",
            "_view_name": "HTMLView",
            "description": "",
            "description_tooltip": null,
            "layout": "IPY_MODEL_b3c35924d71e4459bb647bfe5847a6df",
            "placeholder": "​",
            "style": "IPY_MODEL_bde5fa1720254d5aa450cb097699e2d8",
            "value": " 7/10 [9:15:23&lt;3:58:00, 4760.04s/it]"
          }
        },
        "b653e1059dbc41afaf9dd363d5ca13f7": {
          "model_module": "@jupyter-widgets/base",
          "model_name": "LayoutModel",
          "state": {
            "_model_module": "@jupyter-widgets/base",
            "_model_module_version": "1.2.0",
            "_model_name": "LayoutModel",
            "_view_count": null,
            "_view_module": "@jupyter-widgets/base",
            "_view_module_version": "1.2.0",
            "_view_name": "LayoutView",
            "align_content": null,
            "align_items": null,
            "align_self": null,
            "border": null,
            "bottom": null,
            "display": null,
            "flex": null,
            "flex_flow": null,
            "grid_area": null,
            "grid_auto_columns": null,
            "grid_auto_flow": null,
            "grid_auto_rows": null,
            "grid_column": null,
            "grid_gap": null,
            "grid_row": null,
            "grid_template_areas": null,
            "grid_template_columns": null,
            "grid_template_rows": null,
            "height": null,
            "justify_content": null,
            "justify_items": null,
            "left": null,
            "margin": null,
            "max_height": null,
            "max_width": null,
            "min_height": null,
            "min_width": null,
            "object_fit": null,
            "object_position": null,
            "order": null,
            "overflow": null,
            "overflow_x": null,
            "overflow_y": null,
            "padding": null,
            "right": null,
            "top": null,
            "visibility": null,
            "width": null
          }
        },
        "fc9873de1459433b8b71bb4c97e89da3": {
          "model_module": "@jupyter-widgets/base",
          "model_name": "LayoutModel",
          "state": {
            "_model_module": "@jupyter-widgets/base",
            "_model_module_version": "1.2.0",
            "_model_name": "LayoutModel",
            "_view_count": null,
            "_view_module": "@jupyter-widgets/base",
            "_view_module_version": "1.2.0",
            "_view_name": "LayoutView",
            "align_content": null,
            "align_items": null,
            "align_self": null,
            "border": null,
            "bottom": null,
            "display": null,
            "flex": null,
            "flex_flow": null,
            "grid_area": null,
            "grid_auto_columns": null,
            "grid_auto_flow": null,
            "grid_auto_rows": null,
            "grid_column": null,
            "grid_gap": null,
            "grid_row": null,
            "grid_template_areas": null,
            "grid_template_columns": null,
            "grid_template_rows": null,
            "height": null,
            "justify_content": null,
            "justify_items": null,
            "left": null,
            "margin": null,
            "max_height": null,
            "max_width": null,
            "min_height": null,
            "min_width": null,
            "object_fit": null,
            "object_position": null,
            "order": null,
            "overflow": null,
            "overflow_x": null,
            "overflow_y": null,
            "padding": null,
            "right": null,
            "top": null,
            "visibility": null,
            "width": null
          }
        },
        "5f3b1a2de85c4ac8acf9199d3f682987": {
          "model_module": "@jupyter-widgets/controls",
          "model_name": "ProgressStyleModel",
          "state": {
            "_model_module": "@jupyter-widgets/controls",
            "_model_module_version": "1.5.0",
            "_model_name": "ProgressStyleModel",
            "_view_count": null,
            "_view_module": "@jupyter-widgets/base",
            "_view_module_version": "1.2.0",
            "_view_name": "StyleView",
            "bar_color": null,
            "description_width": "initial"
          }
        },
        "b3c35924d71e4459bb647bfe5847a6df": {
          "model_module": "@jupyter-widgets/base",
          "model_name": "LayoutModel",
          "state": {
            "_model_module": "@jupyter-widgets/base",
            "_model_module_version": "1.2.0",
            "_model_name": "LayoutModel",
            "_view_count": null,
            "_view_module": "@jupyter-widgets/base",
            "_view_module_version": "1.2.0",
            "_view_name": "LayoutView",
            "align_content": null,
            "align_items": null,
            "align_self": null,
            "border": null,
            "bottom": null,
            "display": null,
            "flex": null,
            "flex_flow": null,
            "grid_area": null,
            "grid_auto_columns": null,
            "grid_auto_flow": null,
            "grid_auto_rows": null,
            "grid_column": null,
            "grid_gap": null,
            "grid_row": null,
            "grid_template_areas": null,
            "grid_template_columns": null,
            "grid_template_rows": null,
            "height": null,
            "justify_content": null,
            "justify_items": null,
            "left": null,
            "margin": null,
            "max_height": null,
            "max_width": null,
            "min_height": null,
            "min_width": null,
            "object_fit": null,
            "object_position": null,
            "order": null,
            "overflow": null,
            "overflow_x": null,
            "overflow_y": null,
            "padding": null,
            "right": null,
            "top": null,
            "visibility": null,
            "width": null
          }
        },
        "bde5fa1720254d5aa450cb097699e2d8": {
          "model_module": "@jupyter-widgets/controls",
          "model_name": "DescriptionStyleModel",
          "state": {
            "_model_module": "@jupyter-widgets/controls",
            "_model_module_version": "1.5.0",
            "_model_name": "DescriptionStyleModel",
            "_view_count": null,
            "_view_module": "@jupyter-widgets/base",
            "_view_module_version": "1.2.0",
            "_view_name": "StyleView",
            "description_width": ""
          }
        }
      }
    }
  },
  "cells": [
    {
      "cell_type": "markdown",
      "metadata": {
        "id": "bIRn7Id03kis"
      },
      "source": [
        "# Mounting Google Drive"
      ]
    },
    {
      "cell_type": "markdown",
      "metadata": {
        "id": "GSNu5sZi3nxI"
      },
      "source": [
        "First add the data to your google drive using the following link:\n",
        "\n",
        "https://drive.google.com/drive/u/1/folders/17SpWmNSl9dcbyqUFpdvnYlHj1EYXwHju"
      ]
    },
    {
      "cell_type": "code",
      "metadata": {
        "colab": {
          "base_uri": "https://localhost:8080/"
        },
        "id": "CHnLvRu7pQWI",
        "outputId": "ef436652-d8db-44d5-d69b-cc8cbb0ed953"
      },
      "source": [
        "from google.colab import drive\n",
        "drive.mount('/content/drive')"
      ],
      "execution_count": null,
      "outputs": [
        {
          "output_type": "stream",
          "text": [
            "Drive already mounted at /content/drive; to attempt to forcibly remount, call drive.mount(\"/content/drive\", force_remount=True).\n"
          ],
          "name": "stdout"
        }
      ]
    },
    {
      "cell_type": "markdown",
      "metadata": {
        "id": "X91RRwh2H3NU"
      },
      "source": [
        "# Installing Required Libraries\n"
      ]
    },
    {
      "cell_type": "code",
      "metadata": {
        "id": "cJEEQWrHr_XX",
        "colab": {
          "base_uri": "https://localhost:8080/"
        },
        "outputId": "dec31b65-ca6c-4fb7-f1f0-fa77313f6e10"
      },
      "source": [
        "!pip3 install transformers\n",
        "!pip3 install unidecode"
      ],
      "execution_count": null,
      "outputs": [
        {
          "output_type": "stream",
          "text": [
            "Collecting transformers\n",
            "\u001b[?25l  Downloading https://files.pythonhosted.org/packages/3a/83/e74092e7f24a08d751aa59b37a9fc572b2e4af3918cb66f7766c3affb1b4/transformers-3.5.1-py3-none-any.whl (1.3MB)\n",
            "\r\u001b[K     |▎                               | 10kB 24.1MB/s eta 0:00:01\r\u001b[K     |▌                               | 20kB 19.1MB/s eta 0:00:01\r\u001b[K     |▊                               | 30kB 16.1MB/s eta 0:00:01\r\u001b[K     |█                               | 40kB 14.0MB/s eta 0:00:01\r\u001b[K     |█▎                              | 51kB 11.7MB/s eta 0:00:01\r\u001b[K     |█▌                              | 61kB 11.6MB/s eta 0:00:01\r\u001b[K     |█▊                              | 71kB 11.6MB/s eta 0:00:01\r\u001b[K     |██                              | 81kB 12.3MB/s eta 0:00:01\r\u001b[K     |██▎                             | 92kB 12.9MB/s eta 0:00:01\r\u001b[K     |██▌                             | 102kB 12.8MB/s eta 0:00:01\r\u001b[K     |██▊                             | 112kB 12.8MB/s eta 0:00:01\r\u001b[K     |███                             | 122kB 12.8MB/s eta 0:00:01\r\u001b[K     |███▎                            | 133kB 12.8MB/s eta 0:00:01\r\u001b[K     |███▌                            | 143kB 12.8MB/s eta 0:00:01\r\u001b[K     |███▉                            | 153kB 12.8MB/s eta 0:00:01\r\u001b[K     |████                            | 163kB 12.8MB/s eta 0:00:01\r\u001b[K     |████▎                           | 174kB 12.8MB/s eta 0:00:01\r\u001b[K     |████▌                           | 184kB 12.8MB/s eta 0:00:01\r\u001b[K     |████▉                           | 194kB 12.8MB/s eta 0:00:01\r\u001b[K     |█████                           | 204kB 12.8MB/s eta 0:00:01\r\u001b[K     |█████▎                          | 215kB 12.8MB/s eta 0:00:01\r\u001b[K     |█████▌                          | 225kB 12.8MB/s eta 0:00:01\r\u001b[K     |█████▉                          | 235kB 12.8MB/s eta 0:00:01\r\u001b[K     |██████                          | 245kB 12.8MB/s eta 0:00:01\r\u001b[K     |██████▎                         | 256kB 12.8MB/s eta 0:00:01\r\u001b[K     |██████▌                         | 266kB 12.8MB/s eta 0:00:01\r\u001b[K     |██████▉                         | 276kB 12.8MB/s eta 0:00:01\r\u001b[K     |███████                         | 286kB 12.8MB/s eta 0:00:01\r\u001b[K     |███████▎                        | 296kB 12.8MB/s eta 0:00:01\r\u001b[K     |███████▋                        | 307kB 12.8MB/s eta 0:00:01\r\u001b[K     |███████▉                        | 317kB 12.8MB/s eta 0:00:01\r\u001b[K     |████████                        | 327kB 12.8MB/s eta 0:00:01\r\u001b[K     |████████▎                       | 337kB 12.8MB/s eta 0:00:01\r\u001b[K     |████████▋                       | 348kB 12.8MB/s eta 0:00:01\r\u001b[K     |████████▉                       | 358kB 12.8MB/s eta 0:00:01\r\u001b[K     |█████████                       | 368kB 12.8MB/s eta 0:00:01\r\u001b[K     |█████████▎                      | 378kB 12.8MB/s eta 0:00:01\r\u001b[K     |█████████▋                      | 389kB 12.8MB/s eta 0:00:01\r\u001b[K     |█████████▉                      | 399kB 12.8MB/s eta 0:00:01\r\u001b[K     |██████████                      | 409kB 12.8MB/s eta 0:00:01\r\u001b[K     |██████████▎                     | 419kB 12.8MB/s eta 0:00:01\r\u001b[K     |██████████▋                     | 430kB 12.8MB/s eta 0:00:01\r\u001b[K     |██████████▉                     | 440kB 12.8MB/s eta 0:00:01\r\u001b[K     |███████████                     | 450kB 12.8MB/s eta 0:00:01\r\u001b[K     |███████████▍                    | 460kB 12.8MB/s eta 0:00:01\r\u001b[K     |███████████▋                    | 471kB 12.8MB/s eta 0:00:01\r\u001b[K     |███████████▉                    | 481kB 12.8MB/s eta 0:00:01\r\u001b[K     |████████████                    | 491kB 12.8MB/s eta 0:00:01\r\u001b[K     |████████████▍                   | 501kB 12.8MB/s eta 0:00:01\r\u001b[K     |████████████▋                   | 512kB 12.8MB/s eta 0:00:01\r\u001b[K     |████████████▉                   | 522kB 12.8MB/s eta 0:00:01\r\u001b[K     |█████████████                   | 532kB 12.8MB/s eta 0:00:01\r\u001b[K     |█████████████▍                  | 542kB 12.8MB/s eta 0:00:01\r\u001b[K     |█████████████▋                  | 552kB 12.8MB/s eta 0:00:01\r\u001b[K     |█████████████▉                  | 563kB 12.8MB/s eta 0:00:01\r\u001b[K     |██████████████                  | 573kB 12.8MB/s eta 0:00:01\r\u001b[K     |██████████████▍                 | 583kB 12.8MB/s eta 0:00:01\r\u001b[K     |██████████████▋                 | 593kB 12.8MB/s eta 0:00:01\r\u001b[K     |██████████████▉                 | 604kB 12.8MB/s eta 0:00:01\r\u001b[K     |███████████████▏                | 614kB 12.8MB/s eta 0:00:01\r\u001b[K     |███████████████▍                | 624kB 12.8MB/s eta 0:00:01\r\u001b[K     |███████████████▋                | 634kB 12.8MB/s eta 0:00:01\r\u001b[K     |███████████████▉                | 645kB 12.8MB/s eta 0:00:01\r\u001b[K     |████████████████▏               | 655kB 12.8MB/s eta 0:00:01\r\u001b[K     |████████████████▍               | 665kB 12.8MB/s eta 0:00:01\r\u001b[K     |████████████████▋               | 675kB 12.8MB/s eta 0:00:01\r\u001b[K     |████████████████▉               | 686kB 12.8MB/s eta 0:00:01\r\u001b[K     |█████████████████▏              | 696kB 12.8MB/s eta 0:00:01\r\u001b[K     |█████████████████▍              | 706kB 12.8MB/s eta 0:00:01\r\u001b[K     |█████████████████▋              | 716kB 12.8MB/s eta 0:00:01\r\u001b[K     |██████████████████              | 727kB 12.8MB/s eta 0:00:01\r\u001b[K     |██████████████████▏             | 737kB 12.8MB/s eta 0:00:01\r\u001b[K     |██████████████████▍             | 747kB 12.8MB/s eta 0:00:01\r\u001b[K     |██████████████████▋             | 757kB 12.8MB/s eta 0:00:01\r\u001b[K     |███████████████████             | 768kB 12.8MB/s eta 0:00:01\r\u001b[K     |███████████████████▏            | 778kB 12.8MB/s eta 0:00:01\r\u001b[K     |███████████████████▍            | 788kB 12.8MB/s eta 0:00:01\r\u001b[K     |███████████████████▋            | 798kB 12.8MB/s eta 0:00:01\r\u001b[K     |████████████████████            | 808kB 12.8MB/s eta 0:00:01\r\u001b[K     |████████████████████▏           | 819kB 12.8MB/s eta 0:00:01\r\u001b[K     |████████████████████▍           | 829kB 12.8MB/s eta 0:00:01\r\u001b[K     |████████████████████▋           | 839kB 12.8MB/s eta 0:00:01\r\u001b[K     |█████████████████████           | 849kB 12.8MB/s eta 0:00:01\r\u001b[K     |█████████████████████▏          | 860kB 12.8MB/s eta 0:00:01\r\u001b[K     |█████████████████████▍          | 870kB 12.8MB/s eta 0:00:01\r\u001b[K     |█████████████████████▊          | 880kB 12.8MB/s eta 0:00:01\r\u001b[K     |██████████████████████          | 890kB 12.8MB/s eta 0:00:01\r\u001b[K     |██████████████████████▏         | 901kB 12.8MB/s eta 0:00:01\r\u001b[K     |██████████████████████▍         | 911kB 12.8MB/s eta 0:00:01\r\u001b[K     |██████████████████████▊         | 921kB 12.8MB/s eta 0:00:01\r\u001b[K     |███████████████████████         | 931kB 12.8MB/s eta 0:00:01\r\u001b[K     |███████████████████████▏        | 942kB 12.8MB/s eta 0:00:01\r\u001b[K     |███████████████████████▍        | 952kB 12.8MB/s eta 0:00:01\r\u001b[K     |███████████████████████▊        | 962kB 12.8MB/s eta 0:00:01\r\u001b[K     |████████████████████████        | 972kB 12.8MB/s eta 0:00:01\r\u001b[K     |████████████████████████▏       | 983kB 12.8MB/s eta 0:00:01\r\u001b[K     |████████████████████████▍       | 993kB 12.8MB/s eta 0:00:01\r\u001b[K     |████████████████████████▊       | 1.0MB 12.8MB/s eta 0:00:01\r\u001b[K     |█████████████████████████       | 1.0MB 12.8MB/s eta 0:00:01\r\u001b[K     |█████████████████████████▏      | 1.0MB 12.8MB/s eta 0:00:01\r\u001b[K     |█████████████████████████▌      | 1.0MB 12.8MB/s eta 0:00:01\r\u001b[K     |█████████████████████████▊      | 1.0MB 12.8MB/s eta 0:00:01\r\u001b[K     |██████████████████████████      | 1.1MB 12.8MB/s eta 0:00:01\r\u001b[K     |██████████████████████████▏     | 1.1MB 12.8MB/s eta 0:00:01\r\u001b[K     |██████████████████████████▌     | 1.1MB 12.8MB/s eta 0:00:01\r\u001b[K     |██████████████████████████▊     | 1.1MB 12.8MB/s eta 0:00:01\r\u001b[K     |███████████████████████████     | 1.1MB 12.8MB/s eta 0:00:01\r\u001b[K     |███████████████████████████▏    | 1.1MB 12.8MB/s eta 0:00:01\r\u001b[K     |███████████████████████████▌    | 1.1MB 12.8MB/s eta 0:00:01\r\u001b[K     |███████████████████████████▊    | 1.1MB 12.8MB/s eta 0:00:01\r\u001b[K     |████████████████████████████    | 1.1MB 12.8MB/s eta 0:00:01\r\u001b[K     |████████████████████████████▏   | 1.1MB 12.8MB/s eta 0:00:01\r\u001b[K     |████████████████████████████▌   | 1.2MB 12.8MB/s eta 0:00:01\r\u001b[K     |████████████████████████████▊   | 1.2MB 12.8MB/s eta 0:00:01\r\u001b[K     |█████████████████████████████   | 1.2MB 12.8MB/s eta 0:00:01\r\u001b[K     |█████████████████████████████▎  | 1.2MB 12.8MB/s eta 0:00:01\r\u001b[K     |█████████████████████████████▌  | 1.2MB 12.8MB/s eta 0:00:01\r\u001b[K     |█████████████████████████████▊  | 1.2MB 12.8MB/s eta 0:00:01\r\u001b[K     |██████████████████████████████  | 1.2MB 12.8MB/s eta 0:00:01\r\u001b[K     |██████████████████████████████▎ | 1.2MB 12.8MB/s eta 0:00:01\r\u001b[K     |██████████████████████████████▌ | 1.2MB 12.8MB/s eta 0:00:01\r\u001b[K     |██████████████████████████████▊ | 1.2MB 12.8MB/s eta 0:00:01\r\u001b[K     |███████████████████████████████ | 1.3MB 12.8MB/s eta 0:00:01\r\u001b[K     |███████████████████████████████▎| 1.3MB 12.8MB/s eta 0:00:01\r\u001b[K     |███████████████████████████████▌| 1.3MB 12.8MB/s eta 0:00:01\r\u001b[K     |███████████████████████████████▊| 1.3MB 12.8MB/s eta 0:00:01\r\u001b[K     |████████████████████████████████| 1.3MB 12.8MB/s eta 0:00:01\r\u001b[K     |████████████████████████████████| 1.3MB 12.8MB/s \n",
            "\u001b[?25hRequirement already satisfied: requests in /usr/local/lib/python3.6/dist-packages (from transformers) (2.23.0)\n",
            "Requirement already satisfied: packaging in /usr/local/lib/python3.6/dist-packages (from transformers) (20.4)\n",
            "Requirement already satisfied: numpy in /usr/local/lib/python3.6/dist-packages (from transformers) (1.18.5)\n",
            "Collecting tokenizers==0.9.3\n",
            "\u001b[?25l  Downloading https://files.pythonhosted.org/packages/4c/34/b39eb9994bc3c999270b69c9eea40ecc6f0e97991dba28282b9fd32d44ee/tokenizers-0.9.3-cp36-cp36m-manylinux1_x86_64.whl (2.9MB)\n",
            "\u001b[K     |████████████████████████████████| 2.9MB 47.3MB/s \n",
            "\u001b[?25hRequirement already satisfied: protobuf in /usr/local/lib/python3.6/dist-packages (from transformers) (3.12.4)\n",
            "Collecting sacremoses\n",
            "\u001b[?25l  Downloading https://files.pythonhosted.org/packages/7d/34/09d19aff26edcc8eb2a01bed8e98f13a1537005d31e95233fd48216eed10/sacremoses-0.0.43.tar.gz (883kB)\n",
            "\u001b[K     |████████████████████████████████| 890kB 46.3MB/s \n",
            "\u001b[?25hRequirement already satisfied: filelock in /usr/local/lib/python3.6/dist-packages (from transformers) (3.0.12)\n",
            "Requirement already satisfied: tqdm>=4.27 in /usr/local/lib/python3.6/dist-packages (from transformers) (4.41.1)\n",
            "Requirement already satisfied: dataclasses; python_version < \"3.7\" in /usr/local/lib/python3.6/dist-packages (from transformers) (0.8)\n",
            "Collecting sentencepiece==0.1.91\n",
            "\u001b[?25l  Downloading https://files.pythonhosted.org/packages/d4/a4/d0a884c4300004a78cca907a6ff9a5e9fe4f090f5d95ab341c53d28cbc58/sentencepiece-0.1.91-cp36-cp36m-manylinux1_x86_64.whl (1.1MB)\n",
            "\u001b[K     |████████████████████████████████| 1.1MB 48.4MB/s \n",
            "\u001b[?25hRequirement already satisfied: regex!=2019.12.17 in /usr/local/lib/python3.6/dist-packages (from transformers) (2019.12.20)\n",
            "Requirement already satisfied: chardet<4,>=3.0.2 in /usr/local/lib/python3.6/dist-packages (from requests->transformers) (3.0.4)\n",
            "Requirement already satisfied: idna<3,>=2.5 in /usr/local/lib/python3.6/dist-packages (from requests->transformers) (2.10)\n",
            "Requirement already satisfied: certifi>=2017.4.17 in /usr/local/lib/python3.6/dist-packages (from requests->transformers) (2020.11.8)\n",
            "Requirement already satisfied: urllib3!=1.25.0,!=1.25.1,<1.26,>=1.21.1 in /usr/local/lib/python3.6/dist-packages (from requests->transformers) (1.24.3)\n",
            "Requirement already satisfied: six in /usr/local/lib/python3.6/dist-packages (from packaging->transformers) (1.15.0)\n",
            "Requirement already satisfied: pyparsing>=2.0.2 in /usr/local/lib/python3.6/dist-packages (from packaging->transformers) (2.4.7)\n",
            "Requirement already satisfied: setuptools in /usr/local/lib/python3.6/dist-packages (from protobuf->transformers) (50.3.2)\n",
            "Requirement already satisfied: click in /usr/local/lib/python3.6/dist-packages (from sacremoses->transformers) (7.1.2)\n",
            "Requirement already satisfied: joblib in /usr/local/lib/python3.6/dist-packages (from sacremoses->transformers) (0.17.0)\n",
            "Building wheels for collected packages: sacremoses\n",
            "  Building wheel for sacremoses (setup.py) ... \u001b[?25l\u001b[?25hdone\n",
            "  Created wheel for sacremoses: filename=sacremoses-0.0.43-cp36-none-any.whl size=893257 sha256=7ebdef0e1ce671dcc367a00dd6b862997c4adee10cd0f3b4722cce940dd99ed3\n",
            "  Stored in directory: /root/.cache/pip/wheels/29/3c/fd/7ce5c3f0666dab31a50123635e6fb5e19ceb42ce38d4e58f45\n",
            "Successfully built sacremoses\n",
            "Installing collected packages: tokenizers, sacremoses, sentencepiece, transformers\n",
            "Successfully installed sacremoses-0.0.43 sentencepiece-0.1.91 tokenizers-0.9.3 transformers-3.5.1\n",
            "Collecting unidecode\n",
            "\u001b[?25l  Downloading https://files.pythonhosted.org/packages/d0/42/d9edfed04228bacea2d824904cae367ee9efd05e6cce7ceaaedd0b0ad964/Unidecode-1.1.1-py2.py3-none-any.whl (238kB)\n",
            "\u001b[K     |████████████████████████████████| 245kB 15.4MB/s \n",
            "\u001b[?25hInstalling collected packages: unidecode\n",
            "Successfully installed unidecode-1.1.1\n"
          ],
          "name": "stdout"
        }
      ]
    },
    {
      "cell_type": "code",
      "metadata": {
        "id": "FH6kE3WDpXXc",
        "colab": {
          "base_uri": "https://localhost:8080/"
        },
        "outputId": "ed4d2705-3f7c-445a-8718-95d467b8600e"
      },
      "source": [
        "# memory footprint support libraries/code\n",
        "!ln -sf /opt/bin/nvidia-smi /usr/bin/nvidia-smi\n",
        "!pip install gputil\n",
        "!pip install psutil\n",
        "!pip install humanize\n",
        "\n",
        "import psutil\n",
        "import humanize\n",
        "import os\n",
        "import GPUtil as GPU\n",
        "\n",
        "GPUs = GPU.getGPUs()\n",
        "# XXX: only one GPU on Colab and isn’t guaranteed\n",
        "gpu = GPUs[0]\n",
        "def printm():\n",
        "    process = psutil.Process(os.getpid())\n",
        "    print(\"Gen RAM Free: \" + humanize.naturalsize(psutil.virtual_memory().available), \" |     Proc size: \" + humanize.naturalsize(process.memory_info().rss))\n",
        "    print(\"GPU RAM Free: {0:.0f}MB | Used: {1:.0f}MB | Util {2:3.0f}% | Total     {3:.0f}MB\".format(gpu.memoryFree, gpu.memoryUsed, gpu.memoryUtil*100, gpu.memoryTotal))\n",
        "printm()"
      ],
      "execution_count": null,
      "outputs": [
        {
          "output_type": "stream",
          "text": [
            "Collecting gputil\n",
            "  Downloading https://files.pythonhosted.org/packages/ed/0e/5c61eedde9f6c87713e89d794f01e378cfd9565847d4576fa627d758c554/GPUtil-1.4.0.tar.gz\n",
            "Building wheels for collected packages: gputil\n",
            "  Building wheel for gputil (setup.py) ... \u001b[?25l\u001b[?25hdone\n",
            "  Created wheel for gputil: filename=GPUtil-1.4.0-cp36-none-any.whl size=7411 sha256=751911c38052c9bbfee1e3273c4976c36746277b55632b50c19d3145e0978680\n",
            "  Stored in directory: /root/.cache/pip/wheels/3d/77/07/80562de4bb0786e5ea186911a2c831fdd0018bda69beab71fd\n",
            "Successfully built gputil\n",
            "Installing collected packages: gputil\n",
            "Successfully installed gputil-1.4.0\n",
            "Requirement already satisfied: psutil in /usr/local/lib/python3.6/dist-packages (5.4.8)\n",
            "Requirement already satisfied: humanize in /usr/local/lib/python3.6/dist-packages (0.5.1)\n",
            "Gen RAM Free: 12.8 GB  |     Proc size: 111.8 MB\n",
            "GPU RAM Free: 15079MB | Used: 0MB | Util   0% | Total     15079MB\n"
          ],
          "name": "stdout"
        }
      ]
    },
    {
      "cell_type": "code",
      "metadata": {
        "id": "CxgcFw4yqHrb"
      },
      "source": [
        "import numpy as np\n",
        "import pandas as pd\n",
        "import os\n",
        "from os import listdir\n",
        "from os.path import join\n",
        "import unidecode\n",
        "import re\n",
        "import logging\n",
        "from tqdm.notebook import tnrange\n",
        "import glob\n",
        "import json\n",
        "\n",
        "#For ploting results\n",
        "import matplotlib.pyplot as plt\n",
        "\n",
        "# DL Libraries\n",
        "from transformers import BertModel, AdamW, BertTokenizer, BertConfig, RobertaTokenizer, RobertaModel\n",
        "from keras.preprocessing.sequence import pad_sequences\n",
        "import torch\n",
        "import torch.nn as nn\n",
        "from torch.utils.data import (DataLoader, RandomSampler, SequentialSampler, TensorDataset)\n",
        "from sklearn.metrics import classification_report, accuracy_score\n",
        "from sklearn.model_selection import train_test_split\n",
        "from scipy.stats import pearsonr\n",
        "from sklearn.utils import shuffle\n",
        "from sklearn.metrics import mean_squared_error"
      ],
      "execution_count": null,
      "outputs": []
    },
    {
      "cell_type": "code",
      "metadata": {
        "colab": {
          "base_uri": "https://localhost:8080/"
        },
        "id": "qsvm8PnwsPJr",
        "outputId": "9f18c024-185b-4de6-e910-1cd783779b46"
      },
      "source": [
        "device = torch.device(\"cuda\" if torch.cuda.is_available() else \"cpu\")\n",
        "n_gpu = torch.cuda.device_count()\n",
        "print(\"device: {} n_gpu: {}\".format(device, n_gpu)) "
      ],
      "execution_count": null,
      "outputs": [
        {
          "output_type": "stream",
          "text": [
            "device: cuda n_gpu: 1\n"
          ],
          "name": "stdout"
        }
      ]
    },
    {
      "cell_type": "code",
      "metadata": {
        "id": "hqr28wmZsPXE",
        "colab": {
          "base_uri": "https://localhost:8080/"
        },
        "outputId": "354e242f-65cf-4c4b-d282-1fa1e2a55029"
      },
      "source": [
        "logging.basicConfig(format = '%(asctime)s - %(levelname)s - %(name)s -   %(message)s',\n",
        "                    datefmt = '%m/%d/%Y %H:%M:%S',\n",
        "                    level = logging.INFO)\n",
        "logger = logging.getLogger(__name__)\n",
        "print(logger)"
      ],
      "execution_count": null,
      "outputs": [
        {
          "output_type": "stream",
          "text": [
            "<Logger __main__ (INFO)>\n"
          ],
          "name": "stdout"
        }
      ]
    },
    {
      "cell_type": "markdown",
      "metadata": {
        "id": "GSfkrPfcH_F-"
      },
      "source": [
        "# Loading the data\n"
      ]
    },
    {
      "cell_type": "code",
      "metadata": {
        "id": "8T9YIozF2I_X"
      },
      "source": [
        "data_df= pd.read_csv('/content/drive/MyDrive/NLP/openBook_QA.csv')\n",
        "train_df, test_df= train_test_split(data_df, test_size=0.2)"
      ],
      "execution_count": null,
      "outputs": []
    },
    {
      "cell_type": "markdown",
      "metadata": {
        "id": "y6I0Iar-ISEc"
      },
      "source": [
        "# Training the model\n"
      ]
    },
    {
      "cell_type": "code",
      "metadata": {
        "id": "LHMuExjH9xSI"
      },
      "source": [
        "def create_dataloader(tokenizer, df):\n",
        "    input_ids= list()\n",
        "    attention_masks= list()\n",
        "\n",
        "    print(\"Shape: {}\".format(df.shape))\n",
        "\n",
        "    special_sentences_1 = [sentence for i, sentence in enumerate(df.question)]\n",
        "    special_sentences_2 = [\" [SEP] \" + str(sentence) for i, sentence in enumerate(df.sentence)]\n",
        "    special_sentences = [i + j for i, j in zip(special_sentences_1, special_sentences_2)]\n",
        "\n",
        "    for sentence in special_sentences:\n",
        "      encoded_text = tokenizer.encode_plus(sentence, max_length=512, add_special_tokens=True, return_token_type_ids=False, \n",
        "                                       padding='max_length', return_attention_mask=True, truncation=True)\n",
        "      input_ids.append(encoded_text['input_ids'])\n",
        "      attention_masks.append(encoded_text['attention_mask'])\n",
        "\n",
        "    inputs = torch.tensor(input_ids).to(device)\n",
        "    masks = torch.tensor(attention_masks).to(device)\n",
        "    gold_labels = torch.tensor(df.sia_score.tolist()).to(device)\n",
        "  \n",
        "    data = TensorDataset(inputs, masks, gold_labels)\n",
        "    sampler = RandomSampler(data)\n",
        "    dataloader = DataLoader(data, sampler=sampler, batch_size=4)\n",
        "\n",
        "    return dataloader"
      ],
      "execution_count": null,
      "outputs": []
    },
    {
      "cell_type": "code",
      "metadata": {
        "colab": {
          "base_uri": "https://localhost:8080/",
          "height": 237,
          "referenced_widgets": [
            "95eb97093ca748b0b70a78a0ae43b474",
            "749c3e18ad71441782fa240520b26aef",
            "6a47997f9b6c4500940ca5660651bacb",
            "81e758fb28984c6094ec669db975441e",
            "35d5f49c548e42bb8592daa21fb39ff6",
            "62d2f3b8ec2542c69a68ac756eb1d1b1",
            "2d994c21a2b349289d5d3a056ba5ce61",
            "5de0d2ca193547f7b805c88864a6e5e5",
            "b1f8dd5c7eba46a1816bd1bf85ec112a",
            "92f628b7d7eb4c40a96e847a75b7d9a5",
            "32ca8515104c4458be4470bd10419cf1",
            "f3d0b812a57446d587412b1c7bda3063",
            "b26c73367a344f0f92d8747859551683",
            "4e53468ab3f3480db7dfb2a8edf9b2ba",
            "acb95bbb6a4443f2a1488871f2a41f7c",
            "381dbff49cd840f2856b0b47bf9ec589"
          ]
        },
        "id": "keU3hNF19hgK",
        "outputId": "a05583a7-2308-4cf7-c02c-e5da700d7973"
      },
      "source": [
        "#Dataloaders\n",
        "tokenizer = RobertaTokenizer.from_pretrained('roberta-base')\n",
        "train_dataloader= create_dataloader(tokenizer, train_df)\n",
        "test_dataloader= create_dataloader(tokenizer, test_df)"
      ],
      "execution_count": null,
      "outputs": [
        {
          "output_type": "stream",
          "text": [
            "11/29/2020 14:01:33 - INFO - filelock -   Lock 140322148789048 acquired on /root/.cache/torch/transformers/d3ccdbfeb9aaa747ef20432d4976c32ee3fa69663b379deb253ccfce2bb1fdc5.d67d6b367eb24ab43b08ad55e014cf254076934f71d832bbab9ad35644a375ab.lock\n"
          ],
          "name": "stderr"
        },
        {
          "output_type": "display_data",
          "data": {
            "application/vnd.jupyter.widget-view+json": {
              "model_id": "95eb97093ca748b0b70a78a0ae43b474",
              "version_minor": 0,
              "version_major": 2
            },
            "text/plain": [
              "HBox(children=(FloatProgress(value=0.0, description='Downloading', max=898823.0, style=ProgressStyle(descripti…"
            ]
          },
          "metadata": {
            "tags": []
          }
        },
        {
          "output_type": "stream",
          "text": [
            "11/29/2020 14:01:33 - INFO - filelock -   Lock 140322148789048 released on /root/.cache/torch/transformers/d3ccdbfeb9aaa747ef20432d4976c32ee3fa69663b379deb253ccfce2bb1fdc5.d67d6b367eb24ab43b08ad55e014cf254076934f71d832bbab9ad35644a375ab.lock\n",
            "11/29/2020 14:01:33 - INFO - filelock -   Lock 140322148789552 acquired on /root/.cache/torch/transformers/cafdecc90fcab17011e12ac813dd574b4b3fea39da6dd817813efa010262ff3f.5d12962c5ee615a4c803841266e9c3be9a691a924f72d395d3a6c6c81157788b.lock\n"
          ],
          "name": "stderr"
        },
        {
          "output_type": "stream",
          "text": [
            "\n"
          ],
          "name": "stdout"
        },
        {
          "output_type": "display_data",
          "data": {
            "application/vnd.jupyter.widget-view+json": {
              "model_id": "b1f8dd5c7eba46a1816bd1bf85ec112a",
              "version_minor": 0,
              "version_major": 2
            },
            "text/plain": [
              "HBox(children=(FloatProgress(value=0.0, description='Downloading', max=456318.0, style=ProgressStyle(descripti…"
            ]
          },
          "metadata": {
            "tags": []
          }
        },
        {
          "output_type": "stream",
          "text": [
            "11/29/2020 14:01:34 - INFO - filelock -   Lock 140322148789552 released on /root/.cache/torch/transformers/cafdecc90fcab17011e12ac813dd574b4b3fea39da6dd817813efa010262ff3f.5d12962c5ee615a4c803841266e9c3be9a691a924f72d395d3a6c6c81157788b.lock\n"
          ],
          "name": "stderr"
        },
        {
          "output_type": "stream",
          "text": [
            "\n",
            "Shape: (39656, 3)\n",
            "Shape: (9914, 3)\n"
          ],
          "name": "stdout"
        }
      ]
    },
    {
      "cell_type": "code",
      "metadata": {
        "id": "47UOUdBt-fBO"
      },
      "source": [
        "#Class for Regression\n",
        "class Regressor(nn.Module):\n",
        "\n",
        "  def __init__(self):\n",
        "    super(Regressor, self).__init__()\n",
        "    self.bert = RobertaModel.from_pretrained('roberta-base')\n",
        "    self.out = nn.Linear(self.bert.config.hidden_size, 1)\n",
        "\n",
        "  def forward(self, input_ids, attention_mask):\n",
        "    output, pooler_out = self.bert(input_ids=input_ids, attention_mask=attention_mask)\n",
        "    score= self.out(pooler_out)\n",
        "    return score"
      ],
      "execution_count": null,
      "outputs": []
    },
    {
      "cell_type": "code",
      "metadata": {
        "id": "mvYjtCsm9q2W"
      },
      "source": [
        "epochs = 10\n",
        "\n",
        "#Load Model\n",
        "model= Regressor()\n",
        "model.to(device)\n",
        "\n",
        "# Prepare optimizer\n",
        "optimizer = AdamW(model.parameters(),lr=2e-5)\n",
        "\n",
        "#Loss Function\n",
        "mse_loss= nn.MSELoss().to(device)"
      ],
      "execution_count": null,
      "outputs": []
    },
    {
      "cell_type": "code",
      "metadata": {
        "id": "jyBLulkT-Y7J"
      },
      "source": [
        "output_dir= '/content/drive/My Drive/NLP/sia_experiment/SIA_OpenBookQA'\n",
        "output_result= '/content/drive/My Drive/NLP/sia_experiment/results_OpenBookQA'\n",
        "\n",
        "if not os.path.exists(output_dir):\n",
        "  os.makedirs(output_dir)\n",
        "\n",
        "if not os.path.exists(output_result):\n",
        "  os.makedirs(output_result)"
      ],
      "execution_count": null,
      "outputs": []
    },
    {
      "cell_type": "code",
      "metadata": {
        "colab": {
          "base_uri": "https://localhost:8080/",
          "height": 542,
          "referenced_widgets": [
            "4f50389077bb495f9c9f17e6dd55627e",
            "49314041a89e4501b21201b66b2723ee",
            "66f85bcf965a4d03bd2ddc405c7f60d2",
            "b653e1059dbc41afaf9dd363d5ca13f7",
            "fc9873de1459433b8b71bb4c97e89da3",
            "5f3b1a2de85c4ac8acf9199d3f682987",
            "b3c35924d71e4459bb647bfe5847a6df",
            "bde5fa1720254d5aa450cb097699e2d8"
          ]
        },
        "id": "VL8fTr1W-Yvt",
        "outputId": "2985d057-7de2-4d81-995c-59c89d04e2cd"
      },
      "source": [
        "for iteration in tnrange(epochs, desc='Epochs'):\n",
        "  model.train()\n",
        "  logger.info(\"Running for iteration: {}\".format(iteration+1))\n",
        "\n",
        "  training_loss, training_steps = 0,0\n",
        "  true_labels, predicted_labels = list(), list()\n",
        "  \n",
        "  for step, batch in enumerate(train_dataloader):\n",
        "    batch = tuple(t.to(device) for t in batch)\n",
        "    ip_ids, masks, gold_labels= batch\n",
        "    score = model(ip_ids, attention_mask=masks)\n",
        "    score = score.squeeze(1)\n",
        "    loss= mse_loss(score, gold_labels.float())\n",
        "    loss.backward()\n",
        "    optimizer.step()\n",
        "    optimizer.zero_grad()\n",
        "    training_loss+=loss.item()\n",
        "    training_steps+=1\n",
        "    if (step+1)%10000 == 0:\n",
        "      print(step+1)\n",
        "\n",
        "    true_labels.extend(gold_labels.cpu().numpy())\n",
        "    predicted_labels.extend(score.detach().cpu().numpy())\n",
        "  \n",
        "  training_loss_for_epoch= training_loss/training_steps\n",
        "  pcc= pearsonr(true_labels, predicted_labels)\n",
        "  rmse= mean_squared_error(true_labels, predicted_labels, squared=False)\n",
        "  \n",
        "  result = {'loss': training_loss_for_epoch, 'PCC': pcc[0], 'RMSE':rmse}\n",
        "  print(result)\n",
        "\n",
        "  model_to_save = model.bert.module if hasattr(model.bert, 'module') else model.bert\n",
        "  model_to_save.save_pretrained(output_dir)\n",
        "\n",
        "  torch.save(model.out.state_dict(), join(output_dir, 'model_state.bin'))\n",
        "\n",
        "  #Testing\n",
        "  print(\"Running evaluation for epoch: {}\".format(iteration+1))\n",
        "\n",
        "  true_labels, predicted_labels= list(), list()\n",
        "  model.eval()\n",
        "  with torch.no_grad():\n",
        "    for step, batch in enumerate(test_dataloader):\n",
        "      batch = tuple(t.to(device) for t in batch)\n",
        "      ip_ids, masks, gold_labels= batch\n",
        "      score = model(ip_ids, attention_mask=masks)\n",
        "      score = score.squeeze(1)\n",
        "\n",
        "      true_labels.extend(gold_labels.cpu().numpy())\n",
        "      predicted_labels.extend(score.detach().cpu().numpy())\n",
        "  \n",
        "  pcc= pearsonr(true_labels, predicted_labels)\n",
        "  rmse= mean_squared_error(true_labels, predicted_labels, squared=False)\n",
        "  test_report= {'PCC': pcc[0], 'RMSE':str(rmse)}\n",
        "  print(test_report)\n",
        "\n",
        "  with open(join(output_result, 'result_'+str(iteration+1)+'.json'), 'w') as fp:\n",
        "    json.dump(test_report, fp)"
      ],
      "execution_count": null,
      "outputs": [
        {
          "output_type": "display_data",
          "data": {
            "application/vnd.jupyter.widget-view+json": {
              "model_id": "4f50389077bb495f9c9f17e6dd55627e",
              "version_major": 2,
              "version_minor": 0
            },
            "text/plain": [
              "HBox(children=(FloatProgress(value=0.0, description='Epochs', max=10.0, style=ProgressStyle(description_width=…"
            ]
          },
          "metadata": {
            "tags": []
          }
        },
        {
          "output_type": "stream",
          "text": [
            "11/22/2020 20:13:04 - INFO - __main__ -   Running for iteration: 1\n"
          ],
          "name": "stderr"
        },
        {
          "output_type": "stream",
          "text": [
            "{'loss': 0.3064345034140899, 'PCC': 0.8810467503507045, 'RMSE': 0.55356526}\n",
            "Running evaluation for epoch: 1\n"
          ],
          "name": "stdout"
        },
        {
          "output_type": "stream",
          "text": [
            "11/22/2020 21:32:20 - INFO - __main__ -   Running for iteration: 2\n"
          ],
          "name": "stderr"
        },
        {
          "output_type": "stream",
          "text": [
            "{'PCC': 0.9221502864335095, 'RMSE': '0.47410914'}\n",
            "{'loss': 0.22119142406126535, 'PCC': 0.9156442534429209, 'RMSE': 0.47030994}\n",
            "Running evaluation for epoch: 2\n"
          ],
          "name": "stdout"
        },
        {
          "output_type": "stream",
          "text": [
            "11/22/2020 22:51:42 - INFO - __main__ -   Running for iteration: 3\n"
          ],
          "name": "stderr"
        },
        {
          "output_type": "stream",
          "text": [
            "{'PCC': 0.9161333094168415, 'RMSE': '0.47007203'}\n",
            "{'loss': 0.1777562570407368, 'PCC': 0.9328072655440851, 'RMSE': 0.4216115}\n",
            "Running evaluation for epoch: 3\n"
          ],
          "name": "stdout"
        },
        {
          "output_type": "stream",
          "text": [
            "11/23/2020 00:11:03 - INFO - __main__ -   Running for iteration: 4\n"
          ],
          "name": "stderr"
        },
        {
          "output_type": "stream",
          "text": [
            "{'PCC': 0.9296943830942032, 'RMSE': '0.46470946'}\n",
            "{'loss': 0.14786131402085434, 'PCC': 0.9444392980641698, 'RMSE': 0.3845274}\n",
            "Running evaluation for epoch: 4\n"
          ],
          "name": "stdout"
        },
        {
          "output_type": "stream",
          "text": [
            "11/23/2020 01:30:25 - INFO - __main__ -   Running for iteration: 5\n"
          ],
          "name": "stderr"
        },
        {
          "output_type": "stream",
          "text": [
            "{'PCC': 0.9217391504211977, 'RMSE': '0.45488328'}\n",
            "{'loss': 0.12898050446742068, 'PCC': 0.9517147860127269, 'RMSE': 0.35913855}\n",
            "Running evaluation for epoch: 5\n"
          ],
          "name": "stdout"
        },
        {
          "output_type": "stream",
          "text": [
            "11/23/2020 02:49:48 - INFO - __main__ -   Running for iteration: 6\n"
          ],
          "name": "stderr"
        },
        {
          "output_type": "stream",
          "text": [
            "{'PCC': 0.9334019303531809, 'RMSE': '0.42901504'}\n",
            "{'loss': 0.12751136212583758, 'PCC': 0.9522772988621568, 'RMSE': 0.3570873}\n",
            "Running evaluation for epoch: 6\n"
          ],
          "name": "stdout"
        },
        {
          "output_type": "stream",
          "text": [
            "11/23/2020 04:09:09 - INFO - __main__ -   Running for iteration: 7\n"
          ],
          "name": "stderr"
        },
        {
          "output_type": "stream",
          "text": [
            "{'PCC': 0.9362305520991354, 'RMSE': '0.41943628'}\n",
            "{'loss': 0.11104359498266862, 'PCC': 0.9585746057499946, 'RMSE': 0.33323205}\n",
            "Running evaluation for epoch: 7\n"
          ],
          "name": "stdout"
        },
        {
          "output_type": "stream",
          "text": [
            "11/23/2020 05:28:27 - INFO - __main__ -   Running for iteration: 8\n"
          ],
          "name": "stderr"
        },
        {
          "output_type": "stream",
          "text": [
            "{'PCC': 0.9370192301512121, 'RMSE': '0.41756454'}\n"
          ],
          "name": "stdout"
        }
      ]
    },
    {
      "cell_type": "code",
      "metadata": {
        "id": "YHcFMgFe-nNB",
        "colab": {
          "base_uri": "https://localhost:8080/"
        },
        "outputId": "5618afbf-7771-4f2e-a9bb-c8b56f3331cf"
      },
      "source": [
        "filepaths= glob.glob(join(output_result,'*.json'))\n",
        "\n",
        "pcc, rmse= list(), list()\n",
        "\n",
        "for path in filepaths:\n",
        "  print(path)\n",
        "  f = open(path,'r')\n",
        "  data = json.load(f)\n",
        "  pcc.append(data['PCC'])  \n",
        "  rmse.append(float(data['RMSE']))"
      ],
      "execution_count": null,
      "outputs": [
        {
          "output_type": "stream",
          "text": [
            "/content/drive/My Drive/NLP/sia_experiment/results_raji2/result_1.json\n",
            "/content/drive/My Drive/NLP/sia_experiment/results_raji2/result_2.json\n",
            "/content/drive/My Drive/NLP/sia_experiment/results_raji2/result_3.json\n",
            "/content/drive/My Drive/NLP/sia_experiment/results_raji2/result_4.json\n",
            "/content/drive/My Drive/NLP/sia_experiment/results_raji2/result_5.json\n",
            "/content/drive/My Drive/NLP/sia_experiment/results_raji2/result_6.json\n",
            "/content/drive/My Drive/NLP/sia_experiment/results_raji2/result_7.json\n",
            "/content/drive/My Drive/NLP/sia_experiment/results_raji2/result_8.json\n"
          ],
          "name": "stdout"
        }
      ]
    },
    {
      "cell_type": "code",
      "metadata": {
        "id": "rZzjy6wJ-npx",
        "colab": {
          "base_uri": "https://localhost:8080/",
          "height": 545
        },
        "outputId": "ea7a1c7e-a9b9-4722-9186-30740ed8a99b"
      },
      "source": [
        "#plot rmse\n",
        "plt.plot(rmse)\n",
        "plt.ylabel('RMSE')\n",
        "plt.xticks(range(1, 11))\n",
        "plt.xlabel('Epochs')\n",
        "plt.savefig(join(output_result, 'rmse.png'))\n",
        "plt.show()\n",
        "\n",
        "#plot\n",
        "plt.plot(pcc)\n",
        "plt.ylabel('PCC')\n",
        "plt.xticks(range(1, 11))\n",
        "plt.ylim(0, 1)\n",
        "plt.xlabel('Epochs')\n",
        "plt.savefig(join(output_result, 'pcc.png'))\n",
        "plt.show() "
      ],
      "execution_count": null,
      "outputs": [
        {
          "output_type": "display_data",
          "data": {
            "image/png": "[encoded data removed]",
            "text/plain": [
              "<Figure size 432x288 with 1 Axes>"
            ]
          },
          "metadata": {
            "tags": [],
            "needs_background": "light"
          }
        },
        {
          "output_type": "display_data",
          "data": {
            "image/png": "[encoded data removed]",
            "text/plain": [
              "<Figure size 432x288 with 1 Axes>"
            ]
          },
          "metadata": {
            "tags": [],
            "needs_background": "light"
          }
        }
      ]
    }
  ]
}