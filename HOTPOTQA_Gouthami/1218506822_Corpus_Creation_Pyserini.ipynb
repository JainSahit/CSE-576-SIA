{
  "nbformat": 4,
  "nbformat_minor": 0,
  "metadata": {
    "colab": {
      "name": "1218506822_Corpus_Creation_Pyserini.ipynb",
      "provenance": [],
      "collapsed_sections": [],
      "toc_visible": true
    },
    "kernelspec": {
      "name": "python3",
      "display_name": "Python 3"
    }
  },
  "cells": [
    {
      "cell_type": "markdown",
      "metadata": {
        "id": "z9-y3Wxp2gHI"
      },
      "source": [
        "## **Mounting the Drive**"
      ]
    },
    {
      "cell_type": "code",
      "metadata": {
        "id": "wu5s8AtT4xZA",
        "colab": {
          "base_uri": "https://localhost:8080/"
        },
        "outputId": "b3f1de1d-2c20-4946-879e-96086b9a718e"
      },
      "source": [
        "\n",
        "from google.colab import drive\n",
        "drive.mount('/content/drive')"
      ],
      "execution_count": null,
      "outputs": [
        {
          "output_type": "stream",
          "text": [
            "Mounted at /content/drive\n"
          ],
          "name": "stdout"
        }
      ]
    },
    {
      "cell_type": "code",
      "metadata": {
        "id": "WMfRisactSNh"
      },
      "source": [
        "!pip3 install transformers\n",
        "!pip3 install unidecode\n",
        "!pip install pandas\n",
        "!pip install keras \n",
        "!pip install tensorflow\n",
        "!pip install torch\n",
        "!pip install git+https://github.com/AndriyMulyar/semantic-text-similarity\n",
        "!pip install urllib3==1.25.10\n",
        "!pip install awscli awsebcli botocore==1.18.18 --upgrade\n",
        "!pip install tqdm"
      ],
      "execution_count": null,
      "outputs": []
    },
    {
      "cell_type": "code",
      "metadata": {
        "id": "lG1pxvr5teCa"
      },
      "source": [
        "import numpy as np\n",
        "import pandas as pd\n",
        "from os import listdir\n",
        "from os.path import join\n",
        "import unidecode\n",
        "import re\n",
        "import logging\n",
        "from tqdm.notebook import tnrange\n",
        "import glob\n",
        "import json\n",
        "import os"
      ],
      "execution_count": null,
      "outputs": []
    },
    {
      "cell_type": "markdown",
      "metadata": {
        "id": "1LVRb_sbkOgD"
      },
      "source": [
        "# Creating Corpus for Pyserini"
      ]
    },
    {
      "cell_type": "code",
      "metadata": {
        "id": "J6YXzLi6oJEE"
      },
      "source": [
        "def generate_corpus(df,  start , end):\n",
        "    new_df = pd.DataFrame(columns=['question','sentence'])\n",
        "\n",
        "    pd.set_option('display.max_seq_items', None)\n",
        "    num_psges =  0\n",
        "\n",
        "    for i in tnrange(start,end):\n",
        "        cntxt_len = len(df['context'][i])\n",
        "        answer =  df['answer'][i]\n",
        "        # question = str(df['question'][i] +\" \"+answer) \n",
        "        question = df['question'][i]\n",
        "        num_psges  = num_psges + cntxt_len\n",
        "        if len(question) < 2:\n",
        "            continue\n",
        "\n",
        "        for j  in range(0,cntxt_len):\n",
        "            passage  =  \"\".join(df['context'][i][j][1])\n",
        "\n",
        "            senList  = df['context'][i][j][1]\n",
        "            # passage_title =  df['context'][i][j][0]\n",
        "            for each_sen in senList:\n",
        "                # filtering empty sentences\n",
        "                if len(each_sen) < 2 :\n",
        "                    continue\n",
        "            new_row = {'question' : question, 'sentence': passage}\n",
        "            new_df =  new_df.append(new_row,ignore_index= True)\n",
        "    return  new_df\n",
        "   "
      ],
      "execution_count": null,
      "outputs": []
    },
    {
      "cell_type": "code",
      "metadata": {
        "id": "FP-HaIVAKPEj"
      },
      "source": [
        "start = 0\n",
        "end = 7405\n",
        "FOLDER = '/content/drive/My Drive/Courses/NLP/Project/data'\n",
        "JSON_FILE =  FOLDER +\"hotpot_dev_distractor_v1.json\"\n",
        "df = pd.read_json('/content/drive/MyDrive/Courses/NLP/Project/data/hotpot_dev_distractor_v1.json')\n",
        "dev_df  =  generate_corpus(df,start,end)\n",
        "dev_df.to_csv('/content/drive/MyDrive/Courses/NLP/Project/data/dev_0_7405.csv', header=True, index=False)"
      ],
      "execution_count": null,
      "outputs": []
    },
    {
      "cell_type": "code",
      "metadata": {
        "id": "R1Mh6VrPV_gv"
      },
      "source": [
        "load_data = '/content/drive/My Drive/Courses/NLP/Project/data'\n",
        "train_df = pd.read_csv(join(load_data,'result_exact_ans_0_5000.csv'))\n",
        "\n",
        "#Train Passages\n",
        "train_passages = pd.DataFrame(columns=['sentence'])\n",
        "train_passages['sentence'] = train_df['sentence']\n",
        "\n",
        "#Dev Passages\n",
        "dev_passages = pd.DataFrame(columns=['sentence'])\n",
        "dev_passages['sentence'] = dev_df['sentence']\n",
        "\n",
        "#total  corpus\n",
        "corpus_df = dev_passages.append(train_passages, ignore_index=True)\n",
        "corpus_df.to_csv('/content/drive/MyDrive/Courses/NLP/Project/data/total_corpus.tsv', header=False, index=True, sep='\\t')\n",
        "\n"
      ],
      "execution_count": null,
      "outputs": []
    },
    {
      "cell_type": "code",
      "metadata": {
        "colab": {
          "base_uri": "https://localhost:8080/"
        },
        "id": "flKTT3nla5Sm",
        "outputId": "9153b22d-5d60-4902-8012-0a1854c423b0"
      },
      "source": [
        "print(len(corpus_df))"
      ],
      "execution_count": null,
      "outputs": [
        {
          "output_type": "stream",
          "text": [
            "123219\n"
          ],
          "name": "stdout"
        }
      ]
    },
    {
      "cell_type": "code",
      "metadata": {
        "id": "NiCk2gAhYjal"
      },
      "source": [
        "train_passages.head()"
      ],
      "execution_count": null,
      "outputs": []
    },
    {
      "cell_type": "code",
      "metadata": {
        "id": "eSo-KR088faq",
        "colab": {
          "base_uri": "https://localhost:8080/"
        },
        "outputId": "79ed561e-9cd8-47dc-969f-275981cb1bfc"
      },
      "source": [
        "!pip install pyserini==0.9.4.0"
      ],
      "execution_count": null,
      "outputs": [
        {
          "output_type": "stream",
          "text": [
            "Collecting pyserini==0.9.4.0\n",
            "\u001b[?25l  Downloading https://files.pythonhosted.org/packages/a9/ae/cf4a44fbeb6e1f947dfde40fa0142de33ae263333bda26edca914be6ba1b/pyserini-0.9.4.0-py3-none-any.whl (60.4MB)\n",
            "\u001b[K     |████████████████████████████████| 60.4MB 60kB/s \n",
            "\u001b[?25hRequirement already satisfied: numpy in /usr/local/lib/python3.6/dist-packages (from pyserini==0.9.4.0) (1.18.5)\n",
            "Requirement already satisfied: pandas in /usr/local/lib/python3.6/dist-packages (from pyserini==0.9.4.0) (1.1.4)\n",
            "Collecting pyjnius\n",
            "\u001b[?25l  Downloading https://files.pythonhosted.org/packages/d8/50/098cb5fb76fb7c7d99d403226a2a63dcbfb5c129b71b7d0f5200b05de1f0/pyjnius-1.3.0-cp36-cp36m-manylinux2010_x86_64.whl (1.1MB)\n",
            "\u001b[K     |████████████████████████████████| 1.1MB 40.7MB/s \n",
            "\u001b[?25hRequirement already satisfied: Cython in /usr/local/lib/python3.6/dist-packages (from pyserini==0.9.4.0) (0.29.21)\n",
            "Requirement already satisfied: scikit-learn in /usr/local/lib/python3.6/dist-packages (from pyserini==0.9.4.0) (0.22.2.post1)\n",
            "Requirement already satisfied: scipy in /usr/local/lib/python3.6/dist-packages (from pyserini==0.9.4.0) (1.4.1)\n",
            "Requirement already satisfied: python-dateutil>=2.7.3 in /usr/local/lib/python3.6/dist-packages (from pandas->pyserini==0.9.4.0) (2.8.1)\n",
            "Requirement already satisfied: pytz>=2017.2 in /usr/local/lib/python3.6/dist-packages (from pandas->pyserini==0.9.4.0) (2018.9)\n",
            "Requirement already satisfied: six>=1.7.0 in /usr/local/lib/python3.6/dist-packages (from pyjnius->pyserini==0.9.4.0) (1.15.0)\n",
            "Requirement already satisfied: joblib>=0.11 in /usr/local/lib/python3.6/dist-packages (from scikit-learn->pyserini==0.9.4.0) (0.17.0)\n",
            "Installing collected packages: pyjnius, pyserini\n",
            "Successfully installed pyjnius-1.3.0 pyserini-0.9.4.0\n"
          ],
          "name": "stdout"
        }
      ]
    },
    {
      "cell_type": "code",
      "metadata": {
        "id": "Dzi82ZpV8oYL",
        "colab": {
          "base_uri": "https://localhost:8080/"
        },
        "outputId": "f658b3f1-9477-4510-9877-2e9bd13a8a3b"
      },
      "source": [
        "%cd /content/drive/MyDrive/Courses/NLP/Project/data/HOTPOTQA_Corpus/anserini"
      ],
      "execution_count": null,
      "outputs": [
        {
          "output_type": "stream",
          "text": [
            "/content/drive/MyDrive/Courses/NLP/Project/data/HOTPOTQA_Corpus/anserini\n"
          ],
          "name": "stdout"
        }
      ]
    },
    {
      "cell_type": "code",
      "metadata": {
        "id": "e-fMAsjX9DBr",
        "colab": {
          "base_uri": "https://localhost:8080/"
        },
        "outputId": "00a07b46-0e3f-44b5-8bc4-b2939357cc0f"
      },
      "source": [
        "import os       #importing os to set environment variable\n",
        "def install_java():\n",
        "  !apt-get install -y openjdk-8-jdk-headless -qq > /dev/null      #install openjdk\n",
        "  os.environ[\"JAVA_HOME\"] = \"/usr/lib/jvm/java-11-openjdk-amd64\"     #set environment variable\n",
        "  !java -version     #check java version\n",
        "install_java()"
      ],
      "execution_count": null,
      "outputs": [
        {
          "output_type": "stream",
          "text": [
            "openjdk version \"11.0.9.1\" 2020-11-04\n",
            "OpenJDK Runtime Environment (build 11.0.9.1+1-Ubuntu-0ubuntu1.18.04)\n",
            "OpenJDK 64-Bit Server VM (build 11.0.9.1+1-Ubuntu-0ubuntu1.18.04, mixed mode, sharing)\n"
          ],
          "name": "stdout"
        }
      ]
    },
    {
      "cell_type": "markdown",
      "metadata": {
        "id": "Yn7-8r7d1O-9"
      },
      "source": [
        "# **Clone the Pyserini Repository**"
      ]
    },
    {
      "cell_type": "code",
      "metadata": {
        "id": "H-ETVO789F2j",
        "colab": {
          "base_uri": "https://localhost:8080/"
        },
        "outputId": "a7c7d684-d212-4e43-cdec-7fb39875ae81"
      },
      "source": [
        "!git clone https://github.com/castorini/pyserini.git"
      ],
      "execution_count": null,
      "outputs": [
        {
          "output_type": "stream",
          "text": [
            "Cloning into 'pyserini'...\n",
            "remote: Enumerating objects: 49, done.\u001b[K\n",
            "remote: Counting objects: 100% (49/49), done.\u001b[K\n",
            "remote: Compressing objects: 100% (37/37), done.\u001b[K\n",
            "remote: Total 1367 (delta 22), reused 24 (delta 12), pack-reused 1318\u001b[K\n",
            "Receiving objects: 100% (1367/1367), 430.04 KiB | 1.78 MiB/s, done.\n",
            "Resolving deltas: 100% (866/866), done.\n"
          ],
          "name": "stdout"
        }
      ]
    },
    {
      "cell_type": "code",
      "metadata": {
        "id": "R_gP9Vy59aSq",
        "colab": {
          "base_uri": "https://localhost:8080/"
        },
        "outputId": "854fe03c-b89e-41ec-bda3-87480fe02555"
      },
      "source": [
        "%cd pyserini\n",
        "!git clone https://github.com/castorini/anserini-tools.git\n",
        "%cd /content/drive/MyDrive/Courses/NLP/Project/data/HOTPOTQA_Corpus/anserini"
      ],
      "execution_count": null,
      "outputs": [
        {
          "output_type": "stream",
          "text": [
            "/content/drive/MyDrive/Courses/NLP/Project/data/HOTPOTQA_Corpus/anserini/pyserini\n",
            "fatal: destination path 'anserini-tools' already exists and is not an empty directory.\n",
            "/content/drive/MyDrive/Courses/NLP/Project/data/HOTPOTQA_Corpus/anserini\n"
          ],
          "name": "stdout"
        }
      ]
    },
    {
      "cell_type": "code",
      "metadata": {
        "id": "PxBhMpah9g7G"
      },
      "source": [
        "sentences= []\n",
        "index=[]\n",
        "i=1\n",
        "corpus_sentences=open('/content/drive/My Drive/QASC-DATASET/data/QASC_Corpus/QASC_Corpus.txt','r')\n",
        "for line in corpus_sentences.readlines():\n",
        "    lin = line.replace('\\n', ' ')\n",
        "    index.append(i)\n",
        "    sentences.append(lin)\n",
        "    i=i+1\n",
        "  "
      ],
      "execution_count": null,
      "outputs": []
    },
    {
      "cell_type": "code",
      "metadata": {
        "id": "7PQ86MA1_JG5",
        "colab": {
          "base_uri": "https://localhost:8080/",
          "height": 34
        },
        "outputId": "e3ea8fc5-85bc-49b7-a053-3530a6aee04c"
      },
      "source": [
        "print(index[100000])\n"
      ],
      "execution_count": null,
      "outputs": [
        {
          "output_type": "stream",
          "text": [
            "100001\n"
          ],
          "name": "stdout"
        }
      ]
    },
    {
      "cell_type": "code",
      "metadata": {
        "id": "CULObrZK_RI9"
      },
      "source": [
        "import pandas as pd\n",
        "df = pd.DataFrame(list(zip(index, sentences)), columns=['index','paragraph'])\n",
        "df.to_csv('/content/drive/My Drive/QASC-DATASET/data/QASC_Corpus/anserini/pyserini/collections/document_passages.tsv', header=False, index=False, sep='\\t')"
      ],
      "execution_count": null,
      "outputs": []
    },
    {
      "cell_type": "markdown",
      "metadata": {
        "id": "O1xUMuIzpEr-"
      },
      "source": [
        "**Loading input Corpus dataset in TSV format and converting it into JSONL with each file containing max 1000000(1M) Sentences**"
      ]
    },
    {
      "cell_type": "code",
      "metadata": {
        "id": "4sVQvJVKAhyK"
      },
      "source": [
        "df_data= pd.read_csv('/content/drive/My Drive/QASC-DATASET/data/QASC_Corpus/anserini/pyserini/collections/document_passages.tsv', sep='\\t')"
      ],
      "execution_count": null,
      "outputs": []
    },
    {
      "cell_type": "code",
      "metadata": {
        "id": "NNg-bXrgBHUP"
      },
      "source": [
        "!python pyserini/anserini-tools/scripts/msmarco/convert_collection_to_jsonl.py \\\n",
        " --collection-path pyserini/collections/total_corpus.tsv \\\n",
        " --output-folder pyserini/collections/collection_jsonl"
      ],
      "execution_count": null,
      "outputs": []
    },
    {
      "cell_type": "markdown",
      "metadata": {
        "id": "OZZ8bzS5pcun"
      },
      "source": [
        "**Creating JSON collections for the corpus**"
      ]
    },
    {
      "cell_type": "code",
      "metadata": {
        "id": "iz_ubIy1DAdx",
        "colab": {
          "base_uri": "https://localhost:8080/"
        },
        "outputId": "a1a1afc5-5b67-48e7-af83-c2bce8e3e2a2"
      },
      "source": [
        "!python -m pyserini.index -collection JsonCollection -generator DefaultLuceneDocumentGenerator \\\n",
        " -threads 9 -input pyserini/collections/collection_jsonl \\\n",
        " -index pyserini/indexes/lucene-index-hotpotqa -storePositions -storeDocvectors -storeRaw"
      ],
      "execution_count": null,
      "outputs": [
        {
          "output_type": "stream",
          "text": [
            "WARNING: sun.reflect.Reflection.getCallerClass is not supported. This will impact performance.\n",
            "2020-11-28 07:09:11,024 INFO  [main] index.IndexCollection (IndexCollection.java:636) - Setting log level to INFO\n",
            "2020-11-28 07:09:11,026 INFO  [main] index.IndexCollection (IndexCollection.java:639) - Starting indexer...\n",
            "2020-11-28 07:09:11,026 INFO  [main] index.IndexCollection (IndexCollection.java:640) - ============ Loading Parameters ============\n",
            "2020-11-28 07:09:11,027 INFO  [main] index.IndexCollection (IndexCollection.java:641) - DocumentCollection path: pyserini/collections/collection_jsonl\n",
            "2020-11-28 07:09:11,027 INFO  [main] index.IndexCollection (IndexCollection.java:642) - CollectionClass: JsonCollection\n",
            "2020-11-28 07:09:11,028 INFO  [main] index.IndexCollection (IndexCollection.java:643) - Generator: DefaultLuceneDocumentGenerator\n",
            "2020-11-28 07:09:11,028 INFO  [main] index.IndexCollection (IndexCollection.java:644) - Threads: 9\n",
            "2020-11-28 07:09:11,029 INFO  [main] index.IndexCollection (IndexCollection.java:645) - Stemmer: porter\n",
            "2020-11-28 07:09:11,029 INFO  [main] index.IndexCollection (IndexCollection.java:646) - Keep stopwords? false\n",
            "2020-11-28 07:09:11,032 INFO  [main] index.IndexCollection (IndexCollection.java:647) - Stopwords:  null\n",
            "2020-11-28 07:09:11,032 INFO  [main] index.IndexCollection (IndexCollection.java:648) - Store positions? true\n",
            "2020-11-28 07:09:11,033 INFO  [main] index.IndexCollection (IndexCollection.java:649) - Store docvectors? true\n",
            "2020-11-28 07:09:11,033 INFO  [main] index.IndexCollection (IndexCollection.java:650) - Store document \"contents\" field? false\n",
            "2020-11-28 07:09:11,034 INFO  [main] index.IndexCollection (IndexCollection.java:651) - Store document \"raw\" field? true\n",
            "2020-11-28 07:09:11,034 INFO  [main] index.IndexCollection (IndexCollection.java:652) - Optimize (merge segments)? false\n",
            "2020-11-28 07:09:11,035 INFO  [main] index.IndexCollection (IndexCollection.java:653) - Whitelist: null\n",
            "2020-11-28 07:09:11,035 INFO  [main] index.IndexCollection (IndexCollection.java:673) - Directly building Lucene indexes...\n",
            "2020-11-28 07:09:11,035 INFO  [main] index.IndexCollection (IndexCollection.java:674) - Index path: pyserini/indexes/lucene-index-hotpotqa\n",
            "2020-11-28 07:09:11,039 INFO  [main] index.IndexCollection (IndexCollection.java:723) - ============ Indexing Collection ============\n",
            "2020-11-28 07:09:11,214 INFO  [main] index.IndexCollection (IndexCollection.java:784) - Thread pool with 9 threads initialized.\n",
            "2020-11-28 07:09:11,214 INFO  [main] index.IndexCollection (IndexCollection.java:786) - Initializing collection in pyserini/collections/collection_jsonl\n",
            "2020-11-28 07:09:11,221 INFO  [main] index.IndexCollection (IndexCollection.java:789) - 1 file found\n",
            "2020-11-28 07:09:11,221 INFO  [main] index.IndexCollection (IndexCollection.java:790) - Starting to index...\n",
            "2020-11-28 07:09:33,676 DEBUG [pool-2-thread-1] index.IndexCollection$LocalIndexerThread (IndexCollection.java:238) - collection_jsonl/docs00.json: 123219 docs added.\n",
            "2020-11-28 07:09:37,657 INFO  [main] index.IndexCollection (IndexCollection.java:874) - Indexing Complete! 123,219 documents indexed\n",
            "2020-11-28 07:09:37,657 INFO  [main] index.IndexCollection (IndexCollection.java:875) - ============ Final Counter Values ============\n",
            "2020-11-28 07:09:37,657 INFO  [main] index.IndexCollection (IndexCollection.java:876) - indexed:          123,219\n",
            "2020-11-28 07:09:37,658 INFO  [main] index.IndexCollection (IndexCollection.java:877) - unindexable:            0\n",
            "2020-11-28 07:09:37,658 INFO  [main] index.IndexCollection (IndexCollection.java:878) - empty:                  0\n",
            "2020-11-28 07:09:37,658 INFO  [main] index.IndexCollection (IndexCollection.java:879) - skipped:                0\n",
            "2020-11-28 07:09:37,658 INFO  [main] index.IndexCollection (IndexCollection.java:880) - errors:                 0\n",
            "2020-11-28 07:09:37,665 INFO  [main] index.IndexCollection (IndexCollection.java:883) - Total 123,219 documents indexed in 00:00:26\n"
          ],
          "name": "stdout"
        }
      ]
    },
    {
      "cell_type": "markdown",
      "metadata": {
        "id": "VG6IJXTDpn1t"
      },
      "source": [
        "**Sample Testing of the indexing done by the Pyserini**"
      ]
    },
    {
      "cell_type": "code",
      "metadata": {
        "id": "boUqTKXiDYYm",
        "colab": {
          "base_uri": "https://localhost:8080/"
        },
        "outputId": "f9809595-114e-41c5-cbd3-cf41cefd7ef6"
      },
      "source": [
        "from pyserini.search import SimpleSearcher\n",
        "import pandas as pd\n",
        "from os.path import join\n",
        "import numpy as np\n",
        "\n",
        "searcher = SimpleSearcher('pyserini/indexes/lucene-index-hotpotqa')\n",
        "\n",
        "searcher.set_bm25(1.2, 0.75)\n",
        "\n",
        "hits = searcher.search(\"American biographical period\",  k = 50)\n",
        "\n",
        "# Print the first 10 hits:\n",
        "for hit in hits:\n",
        "    print(f'{hit.docid:15} {hit.score:.5f}')"
      ],
      "execution_count": null,
      "outputs": [
        {
          "output_type": "stream",
          "text": [
            "0               6.02080\n",
            "45008           6.02080\n",
            "26855           5.37480\n",
            "86752           5.19280\n",
            "57381           4.88170\n",
            "33114           4.79810\n",
            "21775           4.71940\n",
            "42463           4.62650\n",
            "110503          4.60190\n",
            "82200           4.50390\n",
            "81556           4.34680\n",
            "82849           4.33540\n",
            "106707          4.31080\n",
            "118489          4.30930\n",
            "93524           4.30930\n",
            "22977           4.28860\n",
            "33887           4.27230\n",
            "51377           4.27230\n",
            "57021           4.27230\n",
            "56825           4.07860\n",
            "57378           4.06660\n",
            "57383           4.06340\n",
            "42379           4.03760\n",
            "123161          3.98210\n",
            "9684            3.98210\n",
            "102078          3.96640\n",
            "33831           3.96640\n",
            "65120           3.96640\n",
            "3227            3.93510\n",
            "30325           3.92780\n",
            "28650           3.90430\n",
            "40922           3.90430\n",
            "45690           3.90430\n",
            "13943           3.88800\n",
            "68522           3.88800\n",
            "42794           3.88190\n",
            "30180           3.87400\n",
            "18462           3.84310\n",
            "89574           3.82530\n",
            "104763          3.81470\n",
            "12224           3.81470\n",
            "28649           3.81470\n",
            "53060           3.81470\n",
            "1818            3.79800\n",
            "101518          3.77760\n",
            "17874           3.77760\n",
            "110299          3.77280\n",
            "28648           3.75720\n",
            "30321           3.75720\n",
            "31489           3.75720\n"
          ],
          "name": "stdout"
        }
      ]
    },
    {
      "cell_type": "code",
      "metadata": {
        "id": "3Z0aRhzVUEzs",
        "colab": {
          "base_uri": "https://localhost:8080/"
        },
        "outputId": "c88f9e50-6c24-45c6-f4b0-a2c4a69cd2a8"
      },
      "source": [
        "d=searcher.doc(str(hits[0].docid))\n",
        "print(d.raw)"
      ],
      "execution_count": null,
      "outputs": [
        {
          "output_type": "stream",
          "text": [
            "<bound method Document.raw of <pyserini.search._base.Document object at 0x7f3e4616f6d8>>\n"
          ],
          "name": "stdout"
        }
      ]
    },
    {
      "cell_type": "code",
      "metadata": {
        "id": "SO55GYg6YIWr",
        "colab": {
          "base_uri": "https://localhost:8080/"
        },
        "outputId": "e83448a9-b1db-4dd5-83bb-b073b43642d7"
      },
      "source": [
        "print(hits)"
      ],
      "execution_count": null,
      "outputs": [
        {
          "output_type": "stream",
          "text": [
            "[<io.anserini.search.SimpleSearcher$Result at 0x7f3e4c82f830 jclass=io/anserini/search/SimpleSearcher$Result jself=<LocalRef obj=0xf355518 at 0x7f3e3f2879d0>>, <io.anserini.search.SimpleSearcher$Result at 0x7f3e4c82f990 jclass=io/anserini/search/SimpleSearcher$Result jself=<LocalRef obj=0xf355588 at 0x7f3e51903d70>>, <io.anserini.search.SimpleSearcher$Result at 0x7f3e4c82f7d8 jclass=io/anserini/search/SimpleSearcher$Result jself=<LocalRef obj=0xf3555b0 at 0x7f3e44758830>>, <io.anserini.search.SimpleSearcher$Result at 0x7f3e4c82f1a8 jclass=io/anserini/search/SimpleSearcher$Result jself=<LocalRef obj=0xf3555d0 at 0x7f3e44758310>>, <io.anserini.search.SimpleSearcher$Result at 0x7f3e4c82f9e8 jclass=io/anserini/search/SimpleSearcher$Result jself=<LocalRef obj=0xf3555e8 at 0x7f3e44758890>>, <io.anserini.search.SimpleSearcher$Result at 0x7f3e4b1fb048 jclass=io/anserini/search/SimpleSearcher$Result jself=<LocalRef obj=0xf3555f0 at 0x7f3e51903490>>, <io.anserini.search.SimpleSearcher$Result at 0x7f3e4b1fb728 jclass=io/anserini/search/SimpleSearcher$Result jself=<LocalRef obj=0xf3555f8 at 0x7f3e447587f0>>, <io.anserini.search.SimpleSearcher$Result at 0x7f3e4b1fbb48 jclass=io/anserini/search/SimpleSearcher$Result jself=<LocalRef obj=0x60bc090 at 0x7f3e44758930>>, <io.anserini.search.SimpleSearcher$Result at 0x7f3e4b1fbc50 jclass=io/anserini/search/SimpleSearcher$Result jself=<LocalRef obj=0x60bc098 at 0x7f3e44758510>>, <io.anserini.search.SimpleSearcher$Result at 0x7f3e4b1fb678 jclass=io/anserini/search/SimpleSearcher$Result jself=<LocalRef obj=0x60bc0a0 at 0x7f3e5473cb70>>]\n"
          ],
          "name": "stdout"
        }
      ]
    },
    {
      "cell_type": "code",
      "metadata": {
        "id": "Ekg1fnD9FcMG"
      },
      "source": [
        "R=[]\n",
        "doc = searcher.doc(str(hits[0].docid))\n",
        "R.append(doc.raw())"
      ],
      "execution_count": null,
      "outputs": []
    }
  ]
}